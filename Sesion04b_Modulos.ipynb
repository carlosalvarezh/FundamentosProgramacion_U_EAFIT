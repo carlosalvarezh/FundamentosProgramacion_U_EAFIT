{
 "cells": [
  {
   "cell_type": "markdown",
   "metadata": {},
   "source": [
    "<h1 align=\"center\">PROGRAMACIÓN DE COMPUTADORES </h1>\n",
    "\n",
    "<h2 align=\"center\">UNIVERSIDAD EAFIT</h2>\n",
    "\n",
    "<h3 align=\"center\">MEDELLÍN - COLOMBIA </h3>"
   ]
  },
  {
   "cell_type": "markdown",
   "metadata": {},
   "source": [
    "<h2 align=\"center\">Sesión 04b - Módulos</h2> "
   ]
  },
  {
   "cell_type": "markdown",
   "metadata": {},
   "source": [
    "## Instructor:\n",
    "> <strong> *Carlos Alberto Álvarez Henao, I.C. Ph.D.* </strong> "
   ]
  },
  {
   "cell_type": "markdown",
   "metadata": {},
   "source": [
    "### Programación Modular y Módulos"
   ]
  },
  {
   "cell_type": "markdown",
   "metadata": {},
   "source": [
    "> <strong>Programación Modular:</strong> Técnica de diseño de software, que se basa en el principio general del *diseño modular*. \n",
    "\n",
    "\n",
    "> El *Diseño Modular* es un enfoque que se ha demostrado como indispensable en la ingeniería incluso mucho antes de las primeras computadoras. \n",
    "\n",
    "\n",
    "> El *Diseño Modular* significa que un sistema complejo se descompone en partes o componentes más pequeños, es decir módulos. Estos componentes pueden crearse y probarse independientemente. En muchos casos, pueden incluso utilizarse en otros sistemas.\n",
    "\n",
    "\n",
    "> Si desea desarrollar programas que sean legibles, fiables y mantenibles sin demasiado esfuerzo, debe utilizar algún tipo de diseño de software modular. Especialmente si su aplicación tiene un cierto tamaño. \n",
    "\n",
    "\n",
    "> Existe una variedad de conceptos para diseñar software en forma modular. \n",
    "\n",
    "\n",
    "> La programación modular es una técnica de diseño de software para dividir su código en partes separadas. Estas piezas se denominan módulos. \n",
    "\n",
    "\n",
    "> El enfoque para esta separación debe ser tener módulos con no o sólo algunas dependencias sobre otros módulos. En otras palabras: La minimización de las dependencias es la meta. \n",
    "\n",
    "\n",
    "> Al crear un sistema modular, varios módulos se construyen por separado y más o menos independientemente. La aplicación ejecutable se creará reuniéndolos.\n"
   ]
  },
  {
   "cell_type": "markdown",
   "metadata": {},
   "source": [
    "#### Importando Módulos"
   ]
  },
  {
   "cell_type": "markdown",
   "metadata": {},
   "source": [
    "> Cada archivo, que tiene la extensión de archivo `.py` y consta de código `Python` adecuado, se puede ver o es un módulo! \n",
    "\n",
    "\n",
    "> No hay ninguna sintaxis especial requerida para hacer que un archivo de este tipo sea un módulo. \n",
    "\n",
    "\n",
    "> Un módulo puede contener objetos arbitrarios, por ejemplo archivos, clases o atributos. Todos estos objetos se pueden acceder después de una importación. \n",
    "\n",
    "\n",
    "> Hay diferentes maneras de importar módulos. Demostramos esto con el módulo de matemáticas:\n",
    "\n",
    "\n",
    "Si quisiéramos obtener la raíz cudrada de un número, o el valor de pi, o alguna función trigonométrica simple...\n"
   ]
  },
  {
   "cell_type": "code",
   "execution_count": null,
   "metadata": {},
   "outputs": [],
   "source": [
    "x = sin(2*pi)"
   ]
  },
  {
   "cell_type": "code",
   "execution_count": null,
   "metadata": {},
   "outputs": [],
   "source": [
    "V = 4/3*pi*r**3"
   ]
  },
  {
   "cell_type": "code",
   "execution_count": null,
   "metadata": {},
   "outputs": [],
   "source": [
    "x = sqrt(4)"
   ]
  },
  {
   "cell_type": "markdown",
   "metadata": {},
   "source": [
    "> Para poder usar estas funciones es necesario importar el módulo correspondiente que las contiene. En este caso sería:"
   ]
  },
  {
   "cell_type": "code",
   "execution_count": null,
   "metadata": {},
   "outputs": [],
   "source": [
    "import math"
   ]
  },
  {
   "cell_type": "markdown",
   "metadata": {},
   "source": [
    "> El módulo matemático proporciona constantes y funciones matemáticas, `pi (math.pi)`, la función seno (`math.sin()`) y la función coseno (`math.cos()`). Cada atributo o función sólo se puede acceder poniendo \"`math`\" delante del nombre:"
   ]
  },
  {
   "cell_type": "code",
   "execution_count": null,
   "metadata": {},
   "outputs": [],
   "source": [
    "math.pi"
   ]
  },
  {
   "cell_type": "code",
   "execution_count": null,
   "metadata": {},
   "outputs": [],
   "source": [
    "math.sin(math.pi/2)"
   ]
  },
  {
   "cell_type": "code",
   "execution_count": null,
   "metadata": {},
   "outputs": [],
   "source": [
    "math.sqrt(4)"
   ]
  },
  {
   "cell_type": "markdown",
   "metadata": {},
   "source": [
    "> Se puede importar más de un módulo en una misma sentencia de importación. En este caso, los nombres de los módulos se deben separar por comas:"
   ]
  },
  {
   "cell_type": "code",
   "execution_count": null,
   "metadata": {},
   "outputs": [],
   "source": [
    "import math, random"
   ]
  },
  {
   "cell_type": "code",
   "execution_count": null,
   "metadata": {},
   "outputs": [],
   "source": [
    "random."
   ]
  },
  {
   "cell_type": "markdown",
   "metadata": {},
   "source": [
    "> Las sentencias de importación pueden colocarse en cualquier parte del programa, pero es un buen estilo colocarlas directamente al principio de un programa.\n",
    "\n",
    "\n",
    "> Si sólo se necesitan ciertos objetos de un módulo, se pueden importar únicamente esos:"
   ]
  },
  {
   "cell_type": "code",
   "execution_count": null,
   "metadata": {},
   "outputs": [],
   "source": [
    "from math import sin, pi, sqrt "
   ]
  },
  {
   "cell_type": "markdown",
   "metadata": {},
   "source": [
    "> Los otros objetos, p.ej. `cos`, no estarán disponibles después de esta importación. Será posible acceder a las funciones `sin` y `pi` directamente, es decir, sin prefijarlos con `math`.\n",
    "\n",
    "\n",
    "> En lugar de importar explícitamente ciertos objetos de un módulo, también es posible importar todo en el espacio de nombres del módulo de importación. Esto se puede lograr usando un asterisco en la importación:"
   ]
  },
  {
   "cell_type": "code",
   "execution_count": null,
   "metadata": {},
   "outputs": [],
   "source": [
    "from math import *"
   ]
  },
  {
   "cell_type": "code",
   "execution_count": null,
   "metadata": {},
   "outputs": [],
   "source": [
    "e"
   ]
  },
  {
   "cell_type": "code",
   "execution_count": null,
   "metadata": {},
   "outputs": [],
   "source": [
    "pi"
   ]
  },
  {
   "cell_type": "markdown",
   "metadata": {},
   "source": [
    "> - No se recomienda utilizar la notación de asterisco en una instrucción de importación, excepto cuando se trabaja en el intérprete interactivo de `Python`. \n",
    "\n",
    "\n",
    "> - Una de las razones es que el origen de un nombre puede ser bastante oscuro, porque no se puede ver desde qué módulo podría haber sido importado. Demostramos otra complicación seria en el siguiente ejemplo:"
   ]
  },
  {
   "cell_type": "code",
   "execution_count": null,
   "metadata": {},
   "outputs": [],
   "source": [
    "from numpy import *"
   ]
  },
  {
   "cell_type": "code",
   "execution_count": null,
   "metadata": {},
   "outputs": [],
   "source": [
    "sin(3)"
   ]
  },
  {
   "cell_type": "code",
   "execution_count": null,
   "metadata": {},
   "outputs": [],
   "source": [
    "from math import *"
   ]
  },
  {
   "cell_type": "code",
   "execution_count": null,
   "metadata": {},
   "outputs": [],
   "source": [
    "sin(3)"
   ]
  },
  {
   "cell_type": "code",
   "execution_count": null,
   "metadata": {},
   "outputs": [],
   "source": [
    "sin(3)"
   ]
  },
  {
   "cell_type": "markdown",
   "metadata": {},
   "source": [
    "> Es usual la notación de asterisco, porque es muy conveniente. Significa evitar una gran cantidad de mecanografía tediosa. \n",
    "\n",
    "\n",
    "> Otra forma de reducir el esfuerzo de mecanografía consiste en usar alias. "
   ]
  },
  {
   "cell_type": "code",
   "execution_count": null,
   "metadata": {},
   "outputs": [],
   "source": [
    "import numpy as np\n",
    "import matplotlib.pyplot as plt"
   ]
  },
  {
   "cell_type": "code",
   "execution_count": null,
   "metadata": {},
   "outputs": [],
   "source": [
    "np."
   ]
  },
  {
   "cell_type": "markdown",
   "metadata": {},
   "source": [
    "> Ahora se pueden prefijar todos los objetos de `numpy` con `np`, en lugar de `numpy`"
   ]
  },
  {
   "cell_type": "code",
   "execution_count": null,
   "metadata": {},
   "outputs": [],
   "source": [
    "np.diag([3, 11, 7, 9])"
   ]
  },
  {
   "cell_type": "markdown",
   "metadata": {},
   "source": [
    "#### Diseñando y Escribiendo Módulos"
   ]
  },
  {
   "cell_type": "markdown",
   "metadata": {},
   "source": [
    "> Un módulo en `Python` es simplemente un archivo que contiene definiciones y declaraciones de `Python`. \n",
    "\n",
    "\n",
    "> El nombre del módulo se obtiene del nombre de archivo eliminando el sufijo `.py`. \n",
    "\n",
    "\n",
    "> - Por ejemplo, si el nombre del archivo es `fibonacci.py`, el nombre del módulo es `fibonacci`.\n",
    "\n",
    "\n",
    "> Para convertir las funciones `Fibonacci` en un módulo casi no hay nada que hacer, sólo guardar el siguiente código en un archivo `*.py`.\n"
   ]
  },
  {
   "cell_type": "raw",
   "metadata": {},
   "source": [
    "def fib(n):\n",
    "    if n == 0:\n",
    "        return 0\n",
    "    elif n == 1:\n",
    "        return 1\n",
    "    else:\n",
    "        return fib(n-1) + fib(n-2)\n",
    "def ifib(n):\n",
    "    a, b = 0, 1\n",
    "    for i in range(n):\n",
    "        a, b = b, a + b\n",
    "    return a"
   ]
  },
  {
   "cell_type": "markdown",
   "metadata": {},
   "source": [
    "> - El recién creado módulo `fibonacci` está listo para ser usado ahora. \n",
    "\n",
    "\n",
    "> - Podemos importar este módulo como cualquier otro módulo en un programa o script. "
   ]
  },
  {
   "cell_type": "code",
   "execution_count": null,
   "metadata": {},
   "outputs": [],
   "source": [
    "import fibonacci"
   ]
  },
  {
   "cell_type": "code",
   "execution_count": null,
   "metadata": {},
   "outputs": [],
   "source": [
    "fibonacci.fib(7)"
   ]
  },
  {
   "cell_type": "code",
   "execution_count": null,
   "metadata": {},
   "outputs": [],
   "source": [
    "fibonacci.ifib(7)"
   ]
  },
  {
   "cell_type": "markdown",
   "metadata": {},
   "source": [
    "> - Como podrá ver, es inconveniente si tiene que usar esas funciones a menudo en su programa y siempre hay que escribir el nombre completo, es decir, `fibonacci.fib(7)`. \n",
    "\n",
    "\n",
    "> - Una solución consiste en asignar un alias para obtener un nombre más corto:"
   ]
  },
  {
   "cell_type": "code",
   "execution_count": null,
   "metadata": {},
   "outputs": [],
   "source": [
    "fib = fibonacci.ifib\n",
    "fib(10)"
   ]
  },
  {
   "cell_type": "markdown",
   "metadata": {},
   "source": [
    "#### Contenido de un Módulo"
   ]
  },
  {
   "cell_type": "markdown",
   "metadata": {},
   "source": [
    "> Con la función incorporada `dir()` y el nombre del módulo como argumento, puede listar todos los atributos y métodos válidos para ese módulo."
   ]
  },
  {
   "cell_type": "code",
   "execution_count": null,
   "metadata": {},
   "outputs": [],
   "source": [
    "import math\n",
    "dir(math)"
   ]
  },
  {
   "cell_type": "markdown",
   "metadata": {},
   "source": [
    "### Paquetes en Python"
   ]
  },
  {
   "cell_type": "markdown",
   "metadata": {},
   "source": [
    "> Los módulos son archivos que contienen instrucciones y definiciones de `Python`, como definiciones de funciones y clases. \n",
    "\n",
    "\n",
    "> - En este capítulo aprenderemos a agrupar varios módulos para formar un paquete.\n",
    "\n",
    "\n",
    "> Un paquete es básicamente un directorio con archivos `Python` y un archivo con el nombre \\__`init`__`.py`. \n",
    "\n",
    "\n",
    "> - Esto significa que cada directorio dentro de la ruta de acceso de Python, que contiene un archivo llamado \\__init__.py, será tratado como un paquete por Python. \n",
    "\n",
    "\n",
    "> - Es posible poner varios módulos en un paquete.\n",
    "\n",
    "\n",
    "> Los paquetes son una forma de estructurar los nombres de módulos en Python usando \"nombres de módulos punteados\": \n",
    "\n",
    "\n",
    "> - A.B significa un submódulo B en un paquete A. \n",
    "\n",
    "\n",
    "> - Dos paquetes diferentes como P1 y P2 pueden tener módulos con el mismo nombre (A por ejemplo). \n",
    "\n",
    "\n",
    "> - El submódulo A del paquete P1 y el submódulo A del paquete P2 pueden ser totalmente diferentes.\n",
    "\n",
    "\n",
    "> Un paquete se importa como un módulo \"normal\"."
   ]
  },
  {
   "cell_type": "markdown",
   "metadata": {},
   "source": [
    "#### Ejemplo"
   ]
  },
  {
   "cell_type": "markdown",
   "metadata": {},
   "source": [
    "> Mostraremos cómo crear paquetes con un ejemplo muy simple:\n",
    "\n",
    "\n",
    "> - En primer lugar, necesitamos un directorio. El nombre de este directorio será el nombre del paquete, que queremos crear.\n",
    "\n",
    "\n",
    "> - Llamaremos nuestro paquete `simple_package`. \n",
    "\n",
    "\n",
    ">> - Este directorio debe contener un archivo con el nombre \"\\__init__.py\". \n",
    "\n",
    "\n",
    "> - Este archivo puede estar vacío o puede contener código `Python` válido. \n",
    "\n",
    "\n",
    "> - Este código se ejecutará cuando se importe un paquete, por lo que se puede utilizar para inicializar un paquete, p. \n",
    "\n",
    "\n",
    "> - Ahora podemos poner en este directorio todos los archivos de Python que serán los submódulos de nuestro módulo.\n",
    "\n",
    "\n",
    "> - Creamos dos archivos sencillos a.py y b.py sólo para llenar el paquete con módulos.\n",
    "\n",
    "\n",
    "El contenido de a.py:"
   ]
  },
  {
   "cell_type": "raw",
   "metadata": {},
   "source": [
    "def bar():\n",
    "    print(\"Hello, function 'bar' from module 'a' calling\")"
   ]
  },
  {
   "cell_type": "markdown",
   "metadata": {},
   "source": [
    "El contenido de b.py:"
   ]
  },
  {
   "cell_type": "raw",
   "metadata": {},
   "source": [
    "def foo():\n",
    "    print(\"Hello, function 'foo' from module 'b' calling\")"
   ]
  },
  {
   "cell_type": "markdown",
   "metadata": {},
   "source": [
    "Veamos lo que pasa cuando importamos *simple_package* desde el shell interactivo de Python, suponiendo que el directorio *simple_package* está en el directorio desde el que llama al shell o que está contenido en la ruta de búsqueda o en la variable de entorno \"PYTHONPATH\":"
   ]
  },
  {
   "cell_type": "code",
   "execution_count": null,
   "metadata": {},
   "outputs": [],
   "source": [
    "import simple_package"
   ]
  },
  {
   "cell_type": "code",
   "execution_count": null,
   "metadata": {},
   "outputs": [],
   "source": [
    "simple_package"
   ]
  },
  {
   "cell_type": "code",
   "execution_count": null,
   "metadata": {},
   "outputs": [],
   "source": [
    "simple_package/a"
   ]
  },
  {
   "cell_type": "code",
   "execution_count": null,
   "metadata": {},
   "outputs": [],
   "source": [
    "simple_package/b"
   ]
  },
  {
   "cell_type": "markdown",
   "metadata": {},
   "source": [
    "> Podemos ver que el paquete *simple_package* ha sido cargado pero no el módulo \"a\" ni el módulo \"b\"! \n",
    "\n",
    "\n",
    "> Los módulos a y b se importan de la siguiente manera:"
   ]
  },
  {
   "cell_type": "code",
   "execution_count": null,
   "metadata": {},
   "outputs": [],
   "source": [
    "from simple_package import a, b"
   ]
  },
  {
   "cell_type": "code",
   "execution_count": null,
   "metadata": {},
   "outputs": [],
   "source": [
    "a.bar()"
   ]
  },
  {
   "cell_type": "code",
   "execution_count": null,
   "metadata": {},
   "outputs": [],
   "source": [
    "b.foo()"
   ]
  },
  {
   "cell_type": "markdown",
   "metadata": {},
   "source": [
    "> Sin embargo, hay una manera de cargar automáticamente estos módulos. \n",
    "\n",
    "\n",
    "> - Podemos usar el archivo __init__.py para este propósito. \n",
    "\n",
    "\n",
    "> - Todo lo que tenemos que hacer es añadir las siguientes líneas al archivo vacío \\__init__.py:"
   ]
  },
  {
   "cell_type": "raw",
   "metadata": {},
   "source": [
    "import simple_package.a\n",
    "import simple_package.b"
   ]
  },
  {
   "cell_type": "code",
   "execution_count": null,
   "metadata": {},
   "outputs": [],
   "source": [
    "import simple_package"
   ]
  },
  {
   "cell_type": "code",
   "execution_count": null,
   "metadata": {},
   "outputs": [],
   "source": [
    "simple_package.a.bar()"
   ]
  },
  {
   "cell_type": "code",
   "execution_count": null,
   "metadata": {},
   "outputs": [],
   "source": [
    "simple_package.b.foo()"
   ]
  },
  {
   "cell_type": "code",
   "execution_count": null,
   "metadata": {},
   "outputs": [],
   "source": []
  }
 ],
 "metadata": {
  "anaconda-cloud": {},
  "kernelspec": {
   "display_name": "Python 3",
   "language": "python",
   "name": "python3"
  },
  "language_info": {
   "codemirror_mode": {
    "name": "ipython",
    "version": 3
   },
   "file_extension": ".py",
   "mimetype": "text/x-python",
   "name": "python",
   "nbconvert_exporter": "python",
   "pygments_lexer": "ipython3",
   "version": "3.7.1"
  },
  "latex_envs": {
   "LaTeX_envs_menu_present": true,
   "autocomplete": true,
   "bibliofile": "biblio.bib",
   "cite_by": "apalike",
   "current_citInitial": 1,
   "eqLabelWithNumbers": true,
   "eqNumInitial": 1,
   "hotkeys": {
    "equation": "Ctrl-E",
    "itemize": "Ctrl-I"
   },
   "labels_anchors": false,
   "latex_user_defs": false,
   "report_style_numbering": true,
   "user_envs_cfg": true
  }
 },
 "nbformat": 4,
 "nbformat_minor": 2
}
