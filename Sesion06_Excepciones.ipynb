{
 "cells": [
  {
   "cell_type": "markdown",
   "metadata": {},
   "source": [
    "<h1 align=\"center\">PROGRAMACIÓN DE COMPUTADORES </h1>\n",
    "\n",
    "<h2 align=\"center\">UNIVERSIDAD EAFIT</h2>\n",
    "\n",
    "<h3 align=\"center\">MEDELLÍN - COLOMBIA </h3>"
   ]
  },
  {
   "cell_type": "markdown",
   "metadata": {},
   "source": [
    "<h2 align=\"center\">Sesión 06 - Excepciones</h2>  "
   ]
  },
  {
   "cell_type": "markdown",
   "metadata": {},
   "source": [
    "### Errores y Excepciones"
   ]
  },
  {
   "cell_type": "markdown",
   "metadata": {},
   "source": [
    "Una excepción es un error que ocurre durante la ejecución de un programa. \n",
    "\n",
    "\n",
    "- Las excepciones son conocidas por los no programadores como instancias que no se ajustan a una regla general. \n",
    "\n",
    "\n",
    "- El nombre \"excepción\" en informática también tiene este significado: Implica que el problema (la excepción) no ocurre con frecuencia, es decir, la excepción es la \"excepción a la regla\". \n",
    "\n",
    "\n",
    "- El manejo de excepciones es una construcción en algunos lenguajes de programación para manejar o tratar errores automáticamente. \n",
    "\n",
    "\n",
    "- Muchos lenguajes de programación como C ++, Objective-C, PHP, Java, Ruby, Python y muchos otros tienen soporte incorporado para el manejo de excepciones.\n",
    "\n",
    "\n",
    "\n",
    "El tratamiento de errores generalmente se resuelve al guardar el estado de ejecución en el momento en que se produjo el error e interrumpir el flujo normal del programa para ejecutar una función o código especial, que se conoce como manejador de excepciones. \n",
    "\n",
    "\n",
    "- Dependiendo del tipo de error (\"división por cero\", \"error abierto de archivo\", etc.), el manejador de errores puede \"arreglar\" el problema y el programa puede continuar después con los datos previamente guardados.\n",
    "\n"
   ]
  },
  {
   "cell_type": "markdown",
   "metadata": {},
   "source": [
    "### Manejo de Excepciones"
   ]
  },
  {
   "cell_type": "markdown",
   "metadata": {},
   "source": [
    "El manejo de excepciones en *Python* es muy similar a *Java*. \n",
    "\n",
    "\n",
    "- El código, que alberga el riesgo de una excepción, está incrustado en un bloque `try`. \n",
    "\n",
    "\n",
    "- Pero mientras que en Java las excepciones son capturadas por cláusulas catch, tenemos declaraciones introducidas por una palabra clave `except` en Python. \n",
    "\n",
    "\n",
    "- Es posible crear excepciones \"hechas a medida\": con la instrucción raise es posible forzar una excepción especificada a ocurrir.\n",
    "\n",
    "\n",
    "Veamos un ejemplo sencillo. \n",
    "\n",
    "\n",
    "- Asumiendo que se quiere pedir al usuario que introduzca un número entero. \n",
    "\n",
    "\n",
    "- Si se usa una entrada (), la entrada será una cadena, que hay que convertir en un entero. \n",
    "\n",
    "\n",
    "- Si la entrada no ha sido un entero válido, se generarrá un `ValueError`. "
   ]
  },
  {
   "cell_type": "code",
   "execution_count": null,
   "metadata": {
    "scrolled": true
   },
   "outputs": [],
   "source": [
    "n = int(input(\"Ingrese un Numero entero: \"))"
   ]
  },
  {
   "cell_type": "code",
   "execution_count": null,
   "metadata": {},
   "outputs": [],
   "source": [
    "import sys\n",
    "\n",
    "try:\n",
    "    number = int(input(\"Entre un número entero\"))\n",
    "except ValueError:\n",
    "    print(\"Err.. Solo se aceptan números enteros\")\n",
    "    sys.exit()\n",
    "\n",
    "print (\"Su número fue \", number)"
   ]
  },
  {
   "cell_type": "markdown",
   "metadata": {},
   "source": [
    "Otros ejemplos de excepciones..."
   ]
  },
  {
   "cell_type": "code",
   "execution_count": null,
   "metadata": {},
   "outputs": [],
   "source": [
    "0./0."
   ]
  },
  {
   "cell_type": "code",
   "execution_count": null,
   "metadata": {},
   "outputs": [],
   "source": [
    "4 + spam * 3"
   ]
  },
  {
   "cell_type": "code",
   "execution_count": null,
   "metadata": {},
   "outputs": [],
   "source": [
    "\"2\" / 2"
   ]
  },
  {
   "cell_type": "markdown",
   "metadata": {},
   "source": [
    "Con la ayuda de manejo de excepciones, se puede escribir un código robusto para leer un entero de entrada:"
   ]
  },
  {
   "cell_type": "code",
   "execution_count": null,
   "metadata": {},
   "outputs": [],
   "source": [
    "while True:\n",
    "    try:\n",
    "        n = int(input(\"Ingrese un entero: \"))\n",
    "        break\n",
    "    except ValueError:\n",
    "        print(\"No es un entero válido! intente otra vez...\")\n",
    "print(\"Genial, has ingresado un entero!\")"
   ]
  },
  {
   "cell_type": "markdown",
   "metadata": {},
   "source": [
    "Es un ciclo, que se rompe sólo, si se ha dado un entero válido.\n",
    "\n",
    "\n",
    "El script funciona de la siguiente manera:\n",
    "\n",
    "\n",
    "- Se introduce el ciclo `while`. \n",
    "\n",
    "\n",
    "- El código dentro de la cláusula `try` se ejecutará instrucción por instrucción. \n",
    "\n",
    "\n",
    "- Si no se produce ninguna excepción durante la ejecución, la ejecución alcanzará la sentencia `break` y se dejará el ciclo `while`. \n",
    "\n",
    "\n",
    "- Si se produce una excepción, es decir, en la conversión de $n$, se omitirá el resto del bloque `try` y se ejecutará la cláusula `except`. \n",
    "\n",
    "\n",
    "- El error elevado, en nuestro caso un *ValueError*, tiene que coincidir con uno de los nombres después de `except`. \n",
    "  - En nuestro ejemplo sólo uno, es decir, `ValueError:`. \n",
    "\n",
    "\n",
    "- Después de imprimir el texto de la sentencia de impresión, la ejecución realiza otro ciclo. \n",
    "\n",
    "\n",
    "- Comienza con una nueva entrada ().\n"
   ]
  },
  {
   "cell_type": "markdown",
   "metadata": {},
   "source": [
    "### Cláusulas de Excepciones Múltiples"
   ]
  },
  {
   "cell_type": "markdown",
   "metadata": {},
   "source": [
    "Una sentencia `try` puede tener más de una cláusula *except* para diferentes excepciones. Pero como máximo se ejecutará una cláusula `except`.\n",
    "\n",
    "\n",
    "El siguiente ejemplo muestra una cláusula `try`, en la que abrimos un archivo para leer, leemos una línea de este archivo y convertimos esta línea en un entero. Existen al menos dos posibles excepciones:\n",
    "\n",
    "\n",
    "- `IOError`\n",
    "\n",
    "\n",
    "- `ValueError`\n",
    "\n",
    "\n",
    "Sólo en caso de que se tenga una cláusula adicional sin nombre para un error inesperado:"
   ]
  },
  {
   "cell_type": "code",
   "execution_count": null,
   "metadata": {},
   "outputs": [],
   "source": [
    "f = open('enteroshgk.txt')"
   ]
  },
  {
   "cell_type": "code",
   "execution_count": null,
   "metadata": {},
   "outputs": [],
   "source": [
    "import sys\n",
    "\n",
    "try:\n",
    "    f = open('enteros.txt')\n",
    "    s = f.readline()\n",
    "    i = int(s.strip())\n",
    "except IOError as e:\n",
    "    errno, strerror = e.args\n",
    "    print(\"I/O error({0}): {1}\".format(errno,strerror))\n",
    "    # e puede imprimirse directamente sin usar .args:\n",
    "    # print(e)\n",
    "except ValueError:\n",
    "    print(\"No hay un número entero válido en la línea.\")\n",
    "except:\n",
    "    print(\"Error inesperado:\", sys.exc_info()[0])\n",
    "    raise"
   ]
  },
  {
   "cell_type": "markdown",
   "metadata": {
    "collapsed": true
   },
   "source": [
    "El manejo del `IOError` en el ejemplo anterior es de especial interés. \n",
    "\n",
    "\n",
    "- La cláusula `except` para `IOError` especifica una variable \"\"*e*\" después del nombre de excepción (`IOError`). La variable \"*e*\" está enlazada a una instancia de excepción con los argumentos almacenados en `instance.args`.\n",
    "\n",
    "\n",
    "Si llamamos al script anterior con un archivo no existente, recibiremos el mensaje:"
   ]
  },
  {
   "cell_type": "raw",
   "metadata": {},
   "source": [
    "I/O error(2): No such file or directory"
   ]
  },
  {
   "cell_type": "markdown",
   "metadata": {},
   "source": [
    "Y si el archivo *enteros.txt* no es legible, es decir Si no tenemos el permiso para leerlo, obtendremos el siguiente mensaje:"
   ]
  },
  {
   "cell_type": "markdown",
   "metadata": {},
   "source": [
    "Una cláusula `except` puede llamar a más de una excepción en una tupla de nombres de error:"
   ]
  },
  {
   "cell_type": "code",
   "execution_count": null,
   "metadata": {},
   "outputs": [],
   "source": [
    "try:\n",
    "    f = open('enteros.txt')\n",
    "    s = f.readline()\n",
    "    i = int(s.strip())\n",
    "except (IOError, ValueError):\n",
    "    print(\"Un error I/O o ValueError ha ocurrido\")\n",
    "except:\n",
    "    print(\"Un error inesperado ha occurrido\")\n",
    "    raise"
   ]
  },
  {
   "cell_type": "code",
   "execution_count": null,
   "metadata": {},
   "outputs": [],
   "source": []
  }
 ],
 "metadata": {
  "anaconda-cloud": {},
  "kernelspec": {
   "display_name": "Python 3",
   "language": "python",
   "name": "python3"
  },
  "language_info": {
   "codemirror_mode": {
    "name": "ipython",
    "version": 3
   },
   "file_extension": ".py",
   "mimetype": "text/x-python",
   "name": "python",
   "nbconvert_exporter": "python",
   "pygments_lexer": "ipython3",
   "version": "3.7.1"
  },
  "latex_envs": {
   "LaTeX_envs_menu_present": true,
   "autocomplete": true,
   "bibliofile": "biblio.bib",
   "cite_by": "apalike",
   "current_citInitial": 1,
   "eqLabelWithNumbers": true,
   "eqNumInitial": 1,
   "hotkeys": {
    "equation": "Ctrl-E",
    "itemize": "Ctrl-I"
   },
   "labels_anchors": false,
   "latex_user_defs": false,
   "report_style_numbering": true,
   "user_envs_cfg": true
  }
 },
 "nbformat": 4,
 "nbformat_minor": 2
}
