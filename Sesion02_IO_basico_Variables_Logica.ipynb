{
 "cells": [
  {
   "cell_type": "markdown",
   "metadata": {},
   "source": [
    "<h1 align=\"center\">PROGRAMACIÓN DE COMPUTADORES</h1>\n",
    "\n",
    "<h2 align=\"center\">UNIVERSIDAD EAFIT</h2>\n",
    "\n",
    "<h3 align=\"center\">MEDELLÍN - COLOMBIA </h3>"
   ]
  },
  {
   "cell_type": "markdown",
   "metadata": {},
   "source": [
    "<h2 align=\"center\">Sesión 02 - I/O básico - Tipos y variables - Lógica Booleana</h2>    "
   ]
  },
  {
   "cell_type": "markdown",
   "metadata": {},
   "source": [
    "## Profesor:\n",
    "> <strong> *Carlos Alberto Álvarez Henao, I.C. Ph.D.* </strong> "
   ]
  },
  {
   "cell_type": "markdown",
   "metadata": {
    "slideshow": {
     "slide_type": "slide"
    }
   },
   "source": [
    "# Por qué *Python*?"
   ]
  },
  {
   "cell_type": "markdown",
   "metadata": {},
   "source": [
    "- Lenguaje de programación de alto nivel creado por [Guido van Rossum](https://gvanrossum.github.io/ \"Guido van Rossum's home page\") a finales de los 80's. \n",
    "\n",
    "\n",
    "- Actualmente ocupa el tercer lugar como uno de los lenguajes de programación más ampliamente difundidos a nivel mundial. [TIOBE index noviembre/2019](https://www.tiobe.com/tiobe-index/ \"tiobe.com\")\n",
    "\n",
    "\n",
    "- Una de las mayores ventajas es su \"simplicidad\": En general, se requiere de muchas menos líneas de programación para ejecutar una determinada tarea que en otros lenguajes (`C/C++`, `java`, $\\ldots$.).\n",
    "\n",
    "\n",
    "- Viene con una amplica colección de bibliotecas que permiten extender las capacidades del lenguaje."
   ]
  },
  {
   "cell_type": "markdown",
   "metadata": {},
   "source": [
    "## El *Zen* del Python\n",
    "\n",
    "> Bello es mejor que feo.\n",
    "\n",
    "> Explícito es mejor que implícito.\n",
    "\n",
    "> Simple es mejor que complejo.\n",
    "\n",
    "> Complejo es mejor que complicado.\n",
    "\n",
    "> Plano es mejor que anidado.\n",
    "\n",
    "> Espaciado es mejor que denso.\n",
    "\n",
    "> La legibilidad es importante.\n",
    "\n",
    "> Los casos especiales no son lo suficientemente especiales como para romper las reglas.\n",
    "\n",
    "> Sin embargo la practicidad le gana a la pureza.\n",
    "\n",
    "> Los errores nunca deberían pasar silenciosamente.\n",
    "\n",
    "> A menos que se silencien explícitamente.\n",
    "\n",
    "> Frente a la ambigüedad, evitar la tentación de adivinar.\n",
    "\n",
    "> Debería haber una, y preferiblemente solo una, manera obvia de hacerlo.\n",
    "\n",
    "> A pesar de que esa manera no sea obvia a menos que seas Holandés.\n",
    "\n",
    "> Ahora es mejor que nunca.\n",
    "\n",
    "> A pesar de que nunca es muchas veces mejor que *ahora* mismo.\n",
    "\n",
    "> Si la implementación es difícil de explicar, es una mala idea.\n",
    "\n",
    "> Si la implementación es fácil de explicar, puede que sea una buena idea.\n",
    "\n",
    "> Los espacios de nombres son una gran idea, ¡tengamos más de esos!"
   ]
  },
  {
   "cell_type": "markdown",
   "metadata": {
    "slideshow": {
     "slide_type": "subslide"
    }
   },
   "source": [
    "- Es un lenguaje de plataforma transversal, es decir, el código escrito en *Windows* trabajará bien en *Linux* o *Mac OS* sin la necesidad de realizar ningún tipo de cambios en el código.\n",
    "\n",
    "\n",
    "- Actualmente (Enero/2020) el interprete se encuentra en la versión $3.8.1$, pero la mayoría de bibliotecas y códigos más usados aún se encuentran en las versiones $2.x$. [Página Oficial de Python.org](https://www.python.org \"Python's homepage\").\n",
    "\n",
    "\n",
    "- La diferencia entre ambas versiones no sobrepasa el 10%, por lo que se puede usar una u otra sin problemas para la mayoría de aplicaciones."
   ]
  },
  {
   "cell_type": "markdown",
   "metadata": {
    "slideshow": {
     "slide_type": "slide"
    }
   },
   "source": [
    "## Ejecución desde Consola (Windows)"
   ]
  },
  {
   "attachments": {
    "ConsolaW.PNG": {
     "image/png": "[encoded data removed]"
    }
   },
   "cell_type": "markdown",
   "metadata": {
    "scrolled": true
   },
   "source": [
    "![ConsolaW.PNG](attachment:ConsolaW.PNG)"
   ]
  },
  {
   "cell_type": "markdown",
   "metadata": {
    "slideshow": {
     "slide_type": "slide"
    }
   },
   "source": [
    "## Mi primer Programa en *Python*"
   ]
  },
  {
   "cell_type": "code",
   "execution_count": null,
   "metadata": {},
   "outputs": [],
   "source": [
    "print(\"Este es mi primer programa en Python!!!\")\n",
    "print(\"Hola Mundo en Python 3!\")"
   ]
  },
  {
   "cell_type": "markdown",
   "metadata": {
    "slideshow": {
     "slide_type": "slide"
    }
   },
   "source": [
    "# I/O Estándar"
   ]
  },
  {
   "cell_type": "markdown",
   "metadata": {
    "slideshow": {
     "slide_type": "-"
    }
   },
   "source": [
    "- En *Python3* la función estandar para el ingreso de datos por teclado es `input()`\n",
    "\n",
    "\n",
    "- En *Python2* es `raw_input()`\n",
    "\n",
    "\n",
    "- La salida por defecto es la función `print()`, que si bien es la más \"simplista\" no es la más elegante.\n"
   ]
  },
  {
   "cell_type": "code",
   "execution_count": null,
   "metadata": {
    "slideshow": {
     "slide_type": "subslide"
    }
   },
   "outputs": [],
   "source": [
    "nombre = float(input(\"Cuál es tu peso?\"))\n",
    "print(type(nombre))\n",
    "peso1 = nombre*3.5\n",
    "print(type(peso1))\n",
    "print(\"Hola\", nombre)"
   ]
  },
  {
   "cell_type": "code",
   "execution_count": null,
   "metadata": {
    "slideshow": {
     "slide_type": "subslide"
    }
   },
   "outputs": [],
   "source": [
    "nombre = input(\"Cuál es tu nombre? \")\n",
    "print(\"mucho gusto \" + nombre + \"!\")\n",
    "edad1 = int(input(\"y cuál es tu edad? \"))\n",
    "edad = edad1 + 10\n",
    "print(\"su edad es \", edad)\n",
    "print(\"entonces tienes \" + str(edad) + \" años, \" + nombre + \"!\")"
   ]
  },
  {
   "cell_type": "code",
   "execution_count": null,
   "metadata": {},
   "outputs": [],
   "source": [
    "4*edad"
   ]
  },
  {
   "cell_type": "code",
   "execution_count": null,
   "metadata": {
    "scrolled": true,
    "slideshow": {
     "slide_type": "subslide"
    }
   },
   "outputs": [],
   "source": [
    "x = int(input(\"Ingrese un número: \"))\n",
    "y = int(input(\"Ingrese otro número: \"))\n",
    "xy  = x / y\n",
    "print('La división de ' + str(x) + ' y ' + str(y) + ' es ' + str(xy)) #error"
   ]
  },
  {
   "cell_type": "code",
   "execution_count": null,
   "metadata": {
    "slideshow": {
     "slide_type": "subslide"
    }
   },
   "outputs": [],
   "source": [
    "x = input(\"Ingrese un número: \")\n",
    "y = input(\"Ingrese otro número: \")\n",
    "suma = x + y\n",
    "print('La suma de ', x, ' y ', y, ' es ', x+y, '.', sep='') #error"
   ]
  },
  {
   "cell_type": "code",
   "execution_count": null,
   "metadata": {
    "slideshow": {
     "slide_type": "subslide"
    }
   },
   "outputs": [],
   "source": [
    "x = int(input(\"Ingrese un número: \"))\n",
    "y = int(input(\"Ingrese otro número: \"))\n",
    "suma = x + y\n",
    "print('La suma de ', x, ' y ', y, ' es ', x+y, '.', sep='')\n",
    "print(\"La suma de %5d y %5d es %5d\" % (x, y, suma))"
   ]
  },
  {
   "cell_type": "markdown",
   "metadata": {
    "slideshow": {
     "slide_type": "slide"
    }
   },
   "source": [
    "### Formatación a la \"antigua\""
   ]
  },
  {
   "cell_type": "markdown",
   "metadata": {},
   "source": [
    "- La funcionalidad del `printf` de $\\texttt{C}$ está contenida en *Python*.\n",
    "\n",
    "\n",
    "- Para esto, se usa el operador módulo `%` para concatenar las cadenas de texto que conformarán el mensaje."
   ]
  },
  {
   "attachments": {
    "string_modulo_overview.png": {
     "image/png": "[encoded data removed]"
    }
   },
   "cell_type": "markdown",
   "metadata": {},
   "source": [
    "![string_modulo_overview.png](attachment:string_modulo_overview.png)"
   ]
  },
  {
   "cell_type": "markdown",
   "metadata": {},
   "source": [
    "- Al lado izquierdo del operador módulo, se encuentra el llamado formato de cadena de caracteres y al lado derecho hay una tupla con el contenido.\n",
    "\n",
    "\n",
    "- Los valores pueden ser literales, variables o expresiones aritméticas arbitrarias.\n",
    "\n",
    "\n",
    "- El formato visto contiene lo que se denominan *marcadores de posición*. En el ejemplo hay dos: `%5d` y `%8.2f`"
   ]
  },
  {
   "attachments": {
    "string_modulo_float.png": {
     "image/png": "[encoded data removed]"
    }
   },
   "cell_type": "markdown",
   "metadata": {},
   "source": [
    "![string_modulo_float.png](attachment:string_modulo_float.png)\n",
    "\n",
    "Recuperado de: http://www.python-course.eu/python3_formatted_output.php"
   ]
  },
  {
   "attachments": {
    "formatting_floats.png": {
     "image/png": "[encoded data removed]"
    }
   },
   "cell_type": "markdown",
   "metadata": {},
   "source": [
    "![formatting_floats.png](attachment:formatting_floats.png)\n",
    "\n",
    "Recuperado de: http://www.python-course.eu/python3_formatted_output.php"
   ]
  },
  {
   "cell_type": "markdown",
   "metadata": {
    "slideshow": {
     "slide_type": "slide"
    }
   },
   "source": [
    "### Formatos de salida"
   ]
  },
  {
   "cell_type": "markdown",
   "metadata": {},
   "source": [
    "| Identificador    | Formato           |\n",
    "| ----------------:|:-----------------:|\n",
    "| %s               | Cadena (string)   |\n",
    "| %d               | Entero (integer)  |\n",
    "| %o               | Octal             |\n",
    "| %x               | Hexadecimal       |\n",
    "| %f               | Flotante          |"
   ]
  },
  {
   "cell_type": "code",
   "execution_count": null,
   "metadata": {
    "slideshow": {
     "slide_type": "subslide"
    }
   },
   "outputs": [],
   "source": [
    "x = int(input(\"Ingrese un número: \"))\n",
    "y = int(input(\"Ingrese otro número: \"))\n",
    "suma = x + y\n",
    "print(\"La suma de %d y %d es %d\" % (x,y,suma)) "
   ]
  },
  {
   "cell_type": "code",
   "execution_count": null,
   "metadata": {
    "slideshow": {
     "slide_type": "subslide"
    }
   },
   "outputs": [],
   "source": [
    "print(\"%10.3e\"% (356.08977))\n",
    "print(\"%10.3E\"% (356.08977))\n",
    "print(\"Un signo de porcentaje: %% \" % ())\n",
    "print(\"este es un entero %d y %d y %d\" % (3, 3, 3))"
   ]
  },
  {
   "cell_type": "code",
   "execution_count": null,
   "metadata": {
    "slideshow": {
     "slide_type": "subslide"
    }
   },
   "outputs": [],
   "source": [
    "print(\"Por la compra de %d %s y %d %s debes $%f \" % (5, \"manzanas\", 7, \"peras\", 2500.50))"
   ]
  },
  {
   "cell_type": "code",
   "execution_count": null,
   "metadata": {
    "slideshow": {
     "slide_type": "subslide"
    }
   },
   "outputs": [],
   "source": [
    "print(\"Por la compra de %d %s y %d %s debes $%0.2f \" % (5, \"manzanas\", 7, \"peras\", 2500.50))"
   ]
  },
  {
   "cell_type": "markdown",
   "metadata": {
    "slideshow": {
     "slide_type": "slide"
    }
   },
   "source": [
    "## Formatación *Pytonista* (string format)"
   ]
  },
  {
   "attachments": {
    "format_method_positional_parameters.png": {
     "image/png": "[encoded data removed]"
    }
   },
   "cell_type": "markdown",
   "metadata": {},
   "source": [
    "![format_method_positional_parameters.png](attachment:format_method_positional_parameters.png)"
   ]
  },
  {
   "cell_type": "code",
   "execution_count": null,
   "metadata": {
    "slideshow": {
     "slide_type": "subslide"
    }
   },
   "outputs": [],
   "source": [
    "txt = \"texto\"\n",
    "print(\"Primer argumento: {0}, segundo argumento: {0}\".format(txt))"
   ]
  },
  {
   "cell_type": "code",
   "execution_count": null,
   "metadata": {
    "slideshow": {
     "slide_type": "subslide"
    }
   },
   "outputs": [],
   "source": [
    "print(\"Segundo argumento: {1}, primer argumento: {0}\".format(47,11))"
   ]
  },
  {
   "cell_type": "code",
   "execution_count": null,
   "metadata": {
    "slideshow": {
     "slide_type": "subslide"
    }
   },
   "outputs": [],
   "source": [
    "print(\"Segundo argumento: {1:3d}, \\nprimer argumento: {0:5.2f}\".format(47.42,11))"
   ]
  },
  {
   "cell_type": "markdown",
   "metadata": {
    "slideshow": {
     "slide_type": "subslide"
    }
   },
   "source": [
    "[Aquí](http://www.python-course.eu/python3_formatted_output.php \"Formatting in Python\") encontrará información ampliada acerca de otros esquemas de formatación en *Python*: "
   ]
  },
  {
   "cell_type": "markdown",
   "metadata": {
    "slideshow": {
     "slide_type": "slide"
    }
   },
   "source": [
    "### Salto de Línea `\\n`"
   ]
  },
  {
   "cell_type": "code",
   "execution_count": null,
   "metadata": {},
   "outputs": [],
   "source": [
    "print(\"Hola\\nmundo\")"
   ]
  },
  {
   "cell_type": "markdown",
   "metadata": {
    "slideshow": {
     "slide_type": "slide"
    }
   },
   "source": [
    "# Variables Expresiones y Sentencias"
   ]
  },
  {
   "cell_type": "markdown",
   "metadata": {},
   "source": [
    "## Valores y Tipos"
   ]
  },
  {
   "cell_type": "markdown",
   "metadata": {},
   "source": [
    "- Un valor es una de las cosas básicas con las que un programa trabaja.\n",
    "\n",
    "- Los valores pueden ser Números (punto flotante, enteros, complejos...) Caracteres o Cadenas de Caracteres (strings)"
   ]
  },
  {
   "cell_type": "code",
   "execution_count": null,
   "metadata": {
    "slideshow": {
     "slide_type": "subslide"
    }
   },
   "outputs": [],
   "source": [
    "type(\"c\")"
   ]
  },
  {
   "cell_type": "code",
   "execution_count": null,
   "metadata": {},
   "outputs": [],
   "source": [
    "type(c)"
   ]
  },
  {
   "cell_type": "code",
   "execution_count": null,
   "metadata": {
    "slideshow": {
     "slide_type": "subslide"
    }
   },
   "outputs": [],
   "source": [
    "type(\"Hola Mundo!\")"
   ]
  },
  {
   "cell_type": "code",
   "execution_count": null,
   "metadata": {
    "slideshow": {
     "slide_type": "subslide"
    }
   },
   "outputs": [],
   "source": [
    "type(17)"
   ]
  },
  {
   "cell_type": "code",
   "execution_count": null,
   "metadata": {
    "slideshow": {
     "slide_type": "subslide"
    }
   },
   "outputs": [],
   "source": [
    "type(17.)"
   ]
  },
  {
   "cell_type": "code",
   "execution_count": null,
   "metadata": {
    "slideshow": {
     "slide_type": "subslide"
    }
   },
   "outputs": [],
   "source": [
    "type(3+2j)"
   ]
  },
  {
   "cell_type": "code",
   "execution_count": null,
   "metadata": {
    "slideshow": {
     "slide_type": "subslide"
    }
   },
   "outputs": [],
   "source": [
    "type(\"17.0\")"
   ]
  },
  {
   "cell_type": "code",
   "execution_count": null,
   "metadata": {
    "slideshow": {
     "slide_type": "subslide"
    }
   },
   "outputs": [],
   "source": [
    "type('string')"
   ]
  },
  {
   "cell_type": "code",
   "execution_count": null,
   "metadata": {
    "slideshow": {
     "slide_type": "subslide"
    }
   },
   "outputs": [],
   "source": [
    "#Producirá un error de semántica\n",
    "z = 1,000,000,000,000\n",
    "type(z)"
   ]
  },
  {
   "cell_type": "code",
   "execution_count": null,
   "metadata": {
    "slideshow": {
     "slide_type": "subslide"
    }
   },
   "outputs": [],
   "source": [
    "1.000.000.000 #Producirá un error de sintáxis"
   ]
  },
  {
   "cell_type": "code",
   "execution_count": null,
   "metadata": {},
   "outputs": [],
   "source": [
    "1000000000000.8678568"
   ]
  },
  {
   "cell_type": "code",
   "execution_count": null,
   "metadata": {},
   "outputs": [],
   "source": [
    "z = True\n",
    "type(z)"
   ]
  },
  {
   "cell_type": "markdown",
   "metadata": {
    "slideshow": {
     "slide_type": "slide"
    }
   },
   "source": [
    "### Variables"
   ]
  },
  {
   "cell_type": "markdown",
   "metadata": {},
   "source": [
    "- Una variable es un nombre que hace referencia a un valor.\n",
    "\n",
    "- Una sentencia de asignación crea nuevas variables y valores dados."
   ]
  },
  {
   "cell_type": "code",
   "execution_count": null,
   "metadata": {
    "slideshow": {
     "slide_type": "subslide"
    }
   },
   "outputs": [],
   "source": [
    "mensaje = \"Este es un mensaje\"\n",
    "n = 17\n",
    "pi = 3.14159265"
   ]
  },
  {
   "cell_type": "markdown",
   "metadata": {
    "slideshow": {
     "slide_type": "subslide"
    }
   },
   "source": [
    "- Este ejemplo realiza tres asignaciones."
   ]
  },
  {
   "cell_type": "code",
   "execution_count": null,
   "metadata": {},
   "outputs": [],
   "source": [
    "type(mensaje)"
   ]
  },
  {
   "cell_type": "code",
   "execution_count": null,
   "metadata": {},
   "outputs": [],
   "source": [
    "type(n)"
   ]
  },
  {
   "cell_type": "code",
   "execution_count": null,
   "metadata": {},
   "outputs": [],
   "source": [
    "type(pi)"
   ]
  },
  {
   "cell_type": "code",
   "execution_count": null,
   "metadata": {
    "slideshow": {
     "slide_type": "subslide"
    }
   },
   "outputs": [],
   "source": [
    "x = n * pi\n",
    "print(x)"
   ]
  },
  {
   "cell_type": "code",
   "execution_count": null,
   "metadata": {},
   "outputs": [],
   "source": [
    "z = n*mensaje\n",
    "print(z)"
   ]
  },
  {
   "cell_type": "code",
   "execution_count": null,
   "metadata": {},
   "outputs": [],
   "source": [
    "p = pi * mensaje\n",
    "print(p)"
   ]
  },
  {
   "cell_type": "markdown",
   "metadata": {
    "slideshow": {
     "slide_type": "slide"
    }
   },
   "source": [
    "### Nombre de Variables y Palabras Claves (keywords)"
   ]
  },
  {
   "cell_type": "code",
   "execution_count": null,
   "metadata": {},
   "outputs": [],
   "source": [
    "b = \"Hola\"\n",
    "B = 5\n",
    "v = B * b\n",
    "print(v)"
   ]
  },
  {
   "cell_type": "markdown",
   "metadata": {},
   "source": [
    "- Nombres de variables pueden tener un tamaño arbitrariamente de caracteres.\n",
    "\n",
    "\n",
    "- Pueden contener letras y números, pero <strong>SIEMPRE</strong> deben empezar por una letra.\n",
    "\n",
    "\n",
    "- Es **\"Kool\"** usar letras en mayúscula, pero es una buena práctica empezar los nombres de variables en minúscula.\n",
    "\n",
    "\n",
    "- El carácter \"guión bajo\" (*underscore*), `_` , puede aparecer en el nombre de una variable. Usado frecuentemente en variables cuyo nombre está compuesto por diferentes palabras.\n",
    "\n",
    "\n",
    "- Si da a una variable un nombre ilegal, obtendrá un error de sintaxis."
   ]
  },
  {
   "cell_type": "code",
   "execution_count": null,
   "metadata": {
    "slideshow": {
     "slide_type": "subslide"
    }
   },
   "outputs": [],
   "source": [
    "este_puede_ser_el_nombre_valido_de_una_variable = 1\n",
    "print(este_puede_ser_el_nombre_valido_de_una_variable)"
   ]
  },
  {
   "cell_type": "code",
   "execution_count": null,
   "metadata": {},
   "outputs": [],
   "source": [
    "estaEsUnaVariable = 3\n",
    "print(estaEsUnaVariable)"
   ]
  },
  {
   "cell_type": "code",
   "execution_count": null,
   "metadata": {
    "slideshow": {
     "slide_type": "subslide"
    }
   },
   "outputs": [],
   "source": [
    "mamá = 3\n",
    "print(mamá)"
   ]
  },
  {
   "cell_type": "code",
   "execution_count": null,
   "metadata": {
    "slideshow": {
     "slide_type": "subslide"
    }
   },
   "outputs": [],
   "source": [
    "76Pesos = 76\n",
    "print(76Pesos)"
   ]
  },
  {
   "cell_type": "code",
   "execution_count": null,
   "metadata": {
    "slideshow": {
     "slide_type": "subslide"
    }
   },
   "outputs": [],
   "source": [
    "P3s0s 76 = 76\n",
    "print(P3s0s_76)"
   ]
  },
  {
   "cell_type": "code",
   "execution_count": null,
   "metadata": {
    "slideshow": {
     "slide_type": "subslide"
    }
   },
   "outputs": [],
   "source": [
    "mas@ = 5.3 "
   ]
  },
  {
   "cell_type": "code",
   "execution_count": null,
   "metadata": {
    "slideshow": {
     "slide_type": "subslide"
    }
   },
   "outputs": [],
   "source": [
    "esta variable = 2.5"
   ]
  },
  {
   "cell_type": "code",
   "execution_count": null,
   "metadata": {
    "slideshow": {
     "slide_type": "subslide"
    }
   },
   "outputs": [],
   "source": [
    "class1 = \"Avanzado\""
   ]
  },
  {
   "cell_type": "code",
   "execution_count": null,
   "metadata": {},
   "outputs": [],
   "source": [
    "print(class1)"
   ]
  },
  {
   "cell_type": "markdown",
   "metadata": {
    "slideshow": {
     "slide_type": "slide"
    }
   },
   "source": [
    "### Palabras Clave (keywords) y funciones integradas (builtins)\n",
    "\n",
    "El archivo `keyword.py` se distribuye junto con la librería estándar de `Python`. Es generado automáticamente a partir del archivo `graminit.c`, perteneciente al código fuente del intérprete. Incorpora una lista que contiene el conjunto de palabras resevadas, y una simple función que determina la existencia de un `keyword` a partir de una cadena."
   ]
  },
  {
   "cell_type": "code",
   "execution_count": null,
   "metadata": {
    "slideshow": {
     "slide_type": "-"
    }
   },
   "outputs": [],
   "source": [
    "# Palabras clave\n",
    "\n",
    "import keyword\n",
    "listkw = keyword.kwlist\n",
    "print(listkw)\n",
    "print(len(listkw))"
   ]
  },
  {
   "cell_type": "code",
   "execution_count": null,
   "metadata": {},
   "outputs": [],
   "source": [
    "# Funciones integradas\n",
    "\n",
    "import builtins\n",
    "list_bins = dir(builtins)\n",
    "print(list_bins)\n",
    "print(len(list_bins))"
   ]
  },
  {
   "cell_type": "markdown",
   "metadata": {},
   "source": [
    "### Ayuda (documentación)"
   ]
  },
  {
   "cell_type": "code",
   "execution_count": null,
   "metadata": {},
   "outputs": [],
   "source": [
    "help(\"and\")"
   ]
  },
  {
   "cell_type": "markdown",
   "metadata": {
    "slideshow": {
     "slide_type": "slide"
    }
   },
   "source": [
    "### Asignación Múltiple"
   ]
  },
  {
   "cell_type": "markdown",
   "metadata": {
    "slideshow": {
     "slide_type": "-"
    }
   },
   "source": [
    "- Otra de las ventajas que *Python* nos provee, es la de poder asignar en una sola instrucción, múltiples variables."
   ]
  },
  {
   "cell_type": "code",
   "execution_count": null,
   "metadata": {
    "slideshow": {
     "slide_type": "subslide"
    }
   },
   "outputs": [],
   "source": [
    "a, b, c, d = \"class\", 15, True, 3.8"
   ]
  },
  {
   "cell_type": "code",
   "execution_count": null,
   "metadata": {},
   "outputs": [],
   "source": [
    "print(a)\n",
    "print(b)\n",
    "print(c)\n",
    "print(d)"
   ]
  },
  {
   "cell_type": "markdown",
   "metadata": {
    "slideshow": {
     "slide_type": "slide"
    }
   },
   "source": [
    "# Operadores y Operandos"
   ]
  },
  {
   "cell_type": "markdown",
   "metadata": {},
   "source": [
    "## Operadores matemáticos\n",
    "\n",
    "- Suma: `+`\n",
    "- Resta: `-`\n",
    "- Multiplicación: `*`\n",
    "- División: `/`\n",
    "- Potenciación: `**`\n",
    "- División entera: `//`\n",
    "- Módulo: `%`"
   ]
  },
  {
   "cell_type": "code",
   "execution_count": null,
   "metadata": {
    "slideshow": {
     "slide_type": "subslide"
    }
   },
   "outputs": [],
   "source": [
    "r = 3 + 2\n",
    "print(r)"
   ]
  },
  {
   "cell_type": "code",
   "execution_count": null,
   "metadata": {
    "slideshow": {
     "slide_type": "subslide"
    }
   },
   "outputs": [],
   "source": [
    "r = 1 - 4\n",
    "print(r)"
   ]
  },
  {
   "cell_type": "code",
   "execution_count": null,
   "metadata": {
    "slideshow": {
     "slide_type": "subslide"
    }
   },
   "outputs": [],
   "source": [
    "r = 3 ** 5\n",
    "print(r)"
   ]
  },
  {
   "cell_type": "code",
   "execution_count": null,
   "metadata": {
    "slideshow": {
     "slide_type": "subslide"
    }
   },
   "outputs": [],
   "source": [
    "r = 5 / 3\n",
    "print(r)"
   ]
  },
  {
   "cell_type": "code",
   "execution_count": null,
   "metadata": {
    "slideshow": {
     "slide_type": "subslide"
    }
   },
   "outputs": [],
   "source": [
    "r = 5 // 3\n",
    "print(r)"
   ]
  },
  {
   "cell_type": "code",
   "execution_count": null,
   "metadata": {
    "slideshow": {
     "slide_type": "subslide"
    }
   },
   "outputs": [],
   "source": [
    "r = 40 % 4\n",
    "print(r)"
   ]
  },
  {
   "cell_type": "markdown",
   "metadata": {
    "slideshow": {
     "slide_type": "subslide"
    }
   },
   "source": [
    "- En *Python 2.x* el operador `/` realiza la operación \"*floor division*\". Cuando los operandos son enteros, el resultado es la parte entera.\n",
    "\n",
    "\n",
    "- En *Python 3.x*, el resultado es un número de punto flotante."
   ]
  },
  {
   "cell_type": "markdown",
   "metadata": {
    "slideshow": {
     "slide_type": "slide"
    }
   },
   "source": [
    "## Operadores Booleanos\n",
    "\n",
    "Una expresión booleana (o expresión lógica) se evalúa en uno de los dos estados verdadero (`True`) o falso (`False`). `Python` proporciona el tipo booleano que se puede establecer en Falso o Verdadero. Muchas funciones y operaciones devuelven objetos booleanos.\n",
    "\n",
    "- Operador `and`: Ex. $x$ `and` $y$ devuelve `True` si ambos, $x$ y $y$, son verdaderos.\n",
    "\n",
    "- Operador `or`: Ex. $x$ `or` $y$ devuelve `True` si al menos uno de los dos, $x$ o $y$, son verdaderos.\n",
    "\n",
    "- Operador `not`: Ex. `not` $x$ devuelve `True` únicamente si es falso.\n",
    "\n",
    "\n",
    "La evaluación utilizando los operadores `and` / `or` sigue estas reglas:\n",
    "\n",
    "- `and` y `or` evalúa la expresión de izquierda a derecha.\n",
    "\n",
    "- con `and`, si todos los valores son `True`, devuelve el último valor evaluado. Si algún valor es `False`, devuelve el primero.\n",
    "\n",
    "- `or` devuelve el primer valor `True`. Si todos son `False`, devuelve el último valor.\n",
    "\n",
    "\n"
   ]
  },
  {
   "cell_type": "markdown",
   "metadata": {
    "slideshow": {
     "slide_type": "subslide"
    }
   },
   "source": [
    "Los valores booleanos son además el resultado de expresiones que utilizan operadores relacionales (comparaciones entre valores):\n",
    "\n",
    "| Operador    | Descripción                   | Ejemplo                   |\n",
    "| -----------:|:-----------------------------:|--------------------------:|\n",
    "| ==          | Son iguales $a$ y $b$?        | r = 5 == 3   # r es False |\n",
    "| !=          | Son distintos $a$ o $b$?      | r = 5 != 3   # r es True  |\n",
    "| <           | $a$ es menor que $b$?         | r = 5 < 3    # r es False |\n",
    "| >           | $a$ es mayor que $b$?         | r = 5 > 3    # r es True  |\n",
    "| <=          | $a$ es menor o igual que $b$? | r = 5 <= 3   # r es False |\n",
    "| >=          | $a$ es mayor o igual que $b$? | r = 5 >= 3   # r es True  |"
   ]
  },
  {
   "cell_type": "code",
   "execution_count": null,
   "metadata": {
    "slideshow": {
     "slide_type": "subslide"
    }
   },
   "outputs": [],
   "source": [
    "a = 5\n",
    "b = 3"
   ]
  },
  {
   "cell_type": "code",
   "execution_count": null,
   "metadata": {
    "slideshow": {
     "slide_type": "subslide"
    }
   },
   "outputs": [],
   "source": [
    "a == b"
   ]
  },
  {
   "cell_type": "code",
   "execution_count": null,
   "metadata": {
    "slideshow": {
     "slide_type": "subslide"
    }
   },
   "outputs": [],
   "source": [
    "a != b"
   ]
  },
  {
   "cell_type": "code",
   "execution_count": null,
   "metadata": {
    "slideshow": {
     "slide_type": "subslide"
    }
   },
   "outputs": [],
   "source": [
    "a < b"
   ]
  },
  {
   "cell_type": "code",
   "execution_count": null,
   "metadata": {
    "slideshow": {
     "slide_type": "subslide"
    }
   },
   "outputs": [],
   "source": [
    "a > b"
   ]
  },
  {
   "cell_type": "code",
   "execution_count": null,
   "metadata": {
    "slideshow": {
     "slide_type": "subslide"
    }
   },
   "outputs": [],
   "source": [
    "a <= b"
   ]
  },
  {
   "cell_type": "code",
   "execution_count": null,
   "metadata": {
    "slideshow": {
     "slide_type": "subslide"
    }
   },
   "outputs": [],
   "source": [
    "a >= b"
   ]
  },
  {
   "cell_type": "markdown",
   "metadata": {},
   "source": [
    "- Una variable de tipo booleano sólo puede tener uno dedos valores `True` (*verdadero*) o `False` (*falso*).\n",
    "\n",
    "\n",
    "- Estos valores son especialmente importantes para las expresiones condicionales y los bucles, como veremos más adelante.\n",
    "\n",
    "\n",
    "- El tipo `bool` (el tipo de los booleanos) es una subclase del tipo `int`."
   ]
  },
  {
   "cell_type": "code",
   "execution_count": null,
   "metadata": {},
   "outputs": [],
   "source": [
    "a = 1\n",
    "b = 1\n",
    "c = 1\n",
    "\n",
    "(a or b) != c"
   ]
  },
  {
   "cell_type": "code",
   "execution_count": null,
   "metadata": {},
   "outputs": [],
   "source": [
    "falso = False\n",
    "print(type(falso))\n",
    "print(falso)"
   ]
  },
  {
   "cell_type": "markdown",
   "metadata": {},
   "source": [
    "## Operadores de membresía\n",
    "\n",
    "- `in` se evalúa como `True` si encuentra un elemento dentro de una secuencia especificada y `False` en caso contrario.\n",
    "\n",
    "\n",
    "- `not in` se evalúa como `False` si encuentra un elemento dentro de una secuencia, `True` en caso contrario.\n"
   ]
  },
  {
   "cell_type": "code",
   "execution_count": null,
   "metadata": {},
   "outputs": [],
   "source": [
    "'Hola' in 'Bienvenidos al curso de Programación'"
   ]
  },
  {
   "cell_type": "code",
   "execution_count": null,
   "metadata": {},
   "outputs": [],
   "source": [
    "'Hola' not in 'Bienvenidos al curso de Programación'"
   ]
  },
  {
   "cell_type": "markdown",
   "metadata": {},
   "source": [
    "## Operadores de identidad\n",
    "\n",
    "- `is` se evalúa como `True` si las variables a cada lado del operador apuntan al mismo objeto y `False` en caso contrario.\n",
    "\n",
    "\n",
    "- `is not`se evalúa como `False` si las variables a ambos lados del operador apuntan al mismo objeto y `True` en caso contrario."
   ]
  },
  {
   "cell_type": "code",
   "execution_count": null,
   "metadata": {},
   "outputs": [],
   "source": [
    "p = 'hola'\n",
    "ps = p\n",
    "ps is p"
   ]
  },
  {
   "cell_type": "markdown",
   "metadata": {
    "collapsed": true,
    "slideshow": {
     "slide_type": "slide"
    }
   },
   "source": [
    "# Cadenas de texto y caracteres (Strings)"
   ]
  },
  {
   "cell_type": "code",
   "execution_count": null,
   "metadata": {},
   "outputs": [],
   "source": [
    "s1 = 'Una cadena de texto entre comillas simples'\n",
    "print(s1)"
   ]
  },
  {
   "cell_type": "code",
   "execution_count": null,
   "metadata": {},
   "outputs": [],
   "source": [
    "s2 = \"Ahora otra cadena de texto entre comillas dobles\"\n",
    "print(s2)"
   ]
  },
  {
   "cell_type": "markdown",
   "metadata": {},
   "source": [
    "Para imprimir un caracter especial dentro de un string cuando se define con comilla simple, usamos el caracter `\\` como escape"
   ]
  },
  {
   "cell_type": "code",
   "execution_count": null,
   "metadata": {},
   "outputs": [],
   "source": [
    "s3 = 'It doesn't matter'\n",
    "print(s3)"
   ]
  },
  {
   "cell_type": "code",
   "execution_count": null,
   "metadata": {},
   "outputs": [],
   "source": [
    "s3 = 'It doesn\\'t matter'\n",
    "print(s3)"
   ]
  },
  {
   "cell_type": "markdown",
   "metadata": {},
   "source": [
    "Con comillas dobles no es necesario:"
   ]
  },
  {
   "cell_type": "code",
   "execution_count": null,
   "metadata": {},
   "outputs": [],
   "source": [
    "s3 = \"It doesn't matter\"\n",
    "print(s3)"
   ]
  },
  {
   "cell_type": "markdown",
   "metadata": {},
   "source": [
    "> Una cadena de caracteres (*string*) en *Python* consiste de una secuencia de caracteres: letras, números, y caracteres especiales.\n",
    "\n",
    "> los strings pueden ser suscriptables o indexados. El primer caracter de una cadena tiene índice [`0`]"
   ]
  },
  {
   "attachments": {
    "positive_and_negative_indices_of_strings.png": {
     "image/png": "[encoded data removed]"
    }
   },
   "cell_type": "markdown",
   "metadata": {},
   "source": [
    "![positive_and_negative_indices_of_strings.png](attachment:positive_and_negative_indices_of_strings.png)"
   ]
  },
  {
   "cell_type": "markdown",
   "metadata": {},
   "source": [
    "Se puede acceder al valor de la cadena de caracteres en una posición dada así:"
   ]
  },
  {
   "cell_type": "code",
   "execution_count": null,
   "metadata": {},
   "outputs": [],
   "source": [
    "s = \"Hello world\"\n",
    "print(s[0])\n",
    "print(s[5])\n",
    "print(s[10])"
   ]
  },
  {
   "cell_type": "markdown",
   "metadata": {},
   "source": [
    "También se puede acceder hacia atrás:"
   ]
  },
  {
   "cell_type": "code",
   "execution_count": null,
   "metadata": {},
   "outputs": [],
   "source": [
    "print(s[-1])\n",
    "print(s[-6])\n",
    "print(s[-11])"
   ]
  },
  {
   "cell_type": "markdown",
   "metadata": {},
   "source": [
    "## Algunas operaciones y funciones para strings"
   ]
  },
  {
   "cell_type": "markdown",
   "metadata": {},
   "source": [
    "- **Concatenación:** Los strings pueden \"pegarse\" (concatenarse) entre ellos con el operador \"`+`\""
   ]
  },
  {
   "cell_type": "code",
   "execution_count": null,
   "metadata": {},
   "outputs": [],
   "source": [
    "\"Hola\" +\" \" + \"Mundo\""
   ]
  },
  {
   "cell_type": "markdown",
   "metadata": {},
   "source": [
    "- **Repetición**: Los string puede concatenarse repetidamente con el operador \"`*`\":"
   ]
  },
  {
   "cell_type": "code",
   "execution_count": null,
   "metadata": {},
   "outputs": [],
   "source": [
    "3 * \"Hello world\""
   ]
  },
  {
   "cell_type": "markdown",
   "metadata": {},
   "source": [
    "- **Indexación:** como mencionado antes, se puede acceder a la posición de un caracter del string mediante su índice."
   ]
  },
  {
   "cell_type": "code",
   "execution_count": null,
   "metadata": {},
   "outputs": [],
   "source": [
    "print(s[4])"
   ]
  },
  {
   "cell_type": "markdown",
   "metadata": {},
   "source": [
    "- **Rebanado (*slice*):** se pueden crear subcadenas con la notación de rebanado (*slice*), es decir, dos índices entre corchetes cuadrados separados por el caracter colon (`:`):"
   ]
  },
  {
   "cell_type": "code",
   "execution_count": null,
   "metadata": {},
   "outputs": [],
   "source": [
    "s = \"Python\"\n",
    "print(s[2:4])"
   ]
  },
  {
   "cell_type": "markdown",
   "metadata": {},
   "source": [
    "- **Tamaño (size):** para determinar el tamaño (cantidad de elementos de un string) se usa la función `len()` "
   ]
  },
  {
   "cell_type": "code",
   "execution_count": null,
   "metadata": {},
   "outputs": [],
   "source": [
    "print(len(s))"
   ]
  },
  {
   "cell_type": "markdown",
   "metadata": {},
   "source": [
    "- **Comparación:** se pueden comparar dos cadenas de texto para saber si son exactamente las mismas y/o ocupan el mismo espacio en memoria:"
   ]
  },
  {
   "cell_type": "code",
   "execution_count": null,
   "metadata": {},
   "outputs": [],
   "source": [
    "a = \"Linux\"\n",
    "b = \"Linux\"\n",
    "a is b"
   ]
  },
  {
   "cell_type": "code",
   "execution_count": null,
   "metadata": {},
   "outputs": [],
   "source": [
    "a = \"Linux Rules\"\n",
    "b = \"Linux Rules\"\n",
    "a is b"
   ]
  },
  {
   "cell_type": "markdown",
   "metadata": {},
   "source": [
    "## Algunos caracteres especiales útiles en strings:\n",
    "\n",
    "- \"`\\`\": es el caracter de \"escape\"\n",
    "\n",
    "- \"`\\n`\": Salto de línea\n",
    "\n",
    "- \"`\\t`\": Tabulador"
   ]
  },
  {
   "cell_type": "code",
   "execution_count": null,
   "metadata": {},
   "outputs": [],
   "source": [
    "s = \"Hola\\tmundo\"\n",
    "print(s)"
   ]
  },
  {
   "cell_type": "code",
   "execution_count": null,
   "metadata": {},
   "outputs": [],
   "source": [
    "s = \"Hola\\t\\t\\tmundo\"\n",
    "print(s)"
   ]
  },
  {
   "cell_type": "code",
   "execution_count": null,
   "metadata": {},
   "outputs": [],
   "source": [
    "s = \"Hola\\nmundo\"\n",
    "print(s)"
   ]
  },
  {
   "cell_type": "code",
   "execution_count": null,
   "metadata": {},
   "outputs": [],
   "source": [
    "s = \"Hola \\r mundo\"\n",
    "print(s)"
   ]
  },
  {
   "cell_type": "markdown",
   "metadata": {},
   "source": [
    "# Conversión de tipos\n",
    "\n",
    "A veces necesitamos convertir una variable que ingresamos con un tipo (*string, float, integer, boolean, etc*) a otro tipo."
   ]
  },
  {
   "cell_type": "code",
   "execution_count": null,
   "metadata": {},
   "outputs": [],
   "source": [
    "a = \"1\"\n",
    "b = \"2\"\n",
    "s = a + b\n",
    "print(s)"
   ]
  },
  {
   "cell_type": "markdown",
   "metadata": {},
   "source": [
    "Veamos a qué tipo corresponden las variables `a`, `b` y `s`"
   ]
  },
  {
   "cell_type": "code",
   "execution_count": null,
   "metadata": {},
   "outputs": [],
   "source": [
    "type(a)"
   ]
  },
  {
   "cell_type": "code",
   "execution_count": null,
   "metadata": {},
   "outputs": [],
   "source": [
    "type(b)"
   ]
  },
  {
   "cell_type": "code",
   "execution_count": null,
   "metadata": {},
   "outputs": [],
   "source": [
    "type(s)"
   ]
  },
  {
   "cell_type": "markdown",
   "metadata": {},
   "source": [
    "Se observa que la operación que se obtuvo fue la de *concatenación* y no la operación suma.\n",
    "\n",
    "Para convertir una varible de tipo *string* a *integer*, invocamos la función `int()`:"
   ]
  },
  {
   "cell_type": "code",
   "execution_count": null,
   "metadata": {},
   "outputs": [],
   "source": [
    "a1 = int(a)\n",
    "print(type(a1))\n",
    "b1 = int(b)\n",
    "print(type(b1))\n",
    "s1 = a1 + b1\n",
    "print(s1)\n",
    "print(type(s1))\n",
    "\n",
    "div = a1 // b1\n",
    "print(div)"
   ]
  },
  {
   "cell_type": "markdown",
   "metadata": {},
   "source": [
    "- Ahora sí obtenemos el valor numérico de la operación suma de las variables `a1` y `b1`.\n",
    "\n",
    "Si queremos que `a` y `b` sean tratados como números de punto flotante (o de coma flotante, o en inglés \"floating point\". En computación no existe el concepto de \"número Real\"), se usa la función `float`"
   ]
  },
  {
   "cell_type": "code",
   "execution_count": null,
   "metadata": {},
   "outputs": [],
   "source": [
    "af = float(a)\n",
    "bf = float(b)\n",
    "s = af + bf\n",
    "print(s)"
   ]
  },
  {
   "cell_type": "markdown",
   "metadata": {},
   "source": [
    "Puedo pasar a convertir nuevamente a string un valor numérico:"
   ]
  },
  {
   "cell_type": "code",
   "execution_count": null,
   "metadata": {},
   "outputs": [],
   "source": [
    "ss = str(s)\n",
    "print(ss)"
   ]
  },
  {
   "cell_type": "code",
   "execution_count": null,
   "metadata": {},
   "outputs": [],
   "source": [
    "sss = ss*3\n",
    "print(sss)"
   ]
  },
  {
   "cell_type": "code",
   "execution_count": null,
   "metadata": {},
   "outputs": [],
   "source": [
    "type(ss)"
   ]
  },
  {
   "cell_type": "markdown",
   "metadata": {},
   "source": [
    "## Laboratorio"
   ]
  },
  {
   "cell_type": "markdown",
   "metadata": {},
   "source": [
    "1. Queremos ejecutar las siguientes sentencias de asignación:\n",
    "    - ancho = 17\n",
    "    - alto = 12.0\n",
    "    - delimitador = \".\"\n",
    "\n",
    "    Para cada una de las siguentes expresiones, escriba el valor de la expresión y el tipo (del valor de la expresión)\n",
    "\n",
    "    - ancho / 2\n",
    "    - ancho / 2.0\n",
    "    - alto / 3\n",
    "    - 1 + 2 * 5\n",
    "    - delimitador * 5\n",
    "\n",
    "2. El volumen de una esfera de radio $r$ es $\\frac{4}{3} \\pi r^3$. Cuál es el volúmen de una esfera de radio 5?\n",
    "\n",
    "3. Suponga que el precio de un libro es de 57.500 y la librería tiene un 40\\% de descuento. Los costos de envío son \\$5.500\\$ para la primera copia y \\$1.500 \\$ por cada copia adicional. Cuál es el costo total de 60 copias? \n",
    "\n",
    "4. La fórmula de [Herón](https://es.wikipedia.org/wiki/Fórmula_de_Herón \"Fórmula de Herón\") ofrece una forma de obtener el área de un triángulo dados los lados $a$, $b$ y $c$: \n",
    "\n",
    "$$Área = \\sqrt{s(s-a)(s-b)(s-c)}$$ donde $$s=\\frac{a+b+c}{2}$$ \n",
    "\n",
    "Haga un programa en Python que calcule el área del triángulo empleando la fórmula de Herón y usando única y exclusivamente los comandos vistos hasta el momento."
   ]
  },
  {
   "cell_type": "code",
   "execution_count": null,
   "metadata": {},
   "outputs": [],
   "source": []
  }
 ],
 "metadata": {
  "anaconda-cloud": {},
  "kernelspec": {
   "display_name": "Python 3",
   "language": "python",
   "name": "python3"
  },
  "language_info": {
   "codemirror_mode": {
    "name": "ipython",
    "version": 3
   },
   "file_extension": ".py",
   "mimetype": "text/x-python",
   "name": "python",
   "nbconvert_exporter": "python",
   "pygments_lexer": "ipython3",
   "version": "3.7.6"
  },
  "latex_envs": {
   "LaTeX_envs_menu_present": true,
   "autocomplete": true,
   "bibliofile": "biblio.bib",
   "cite_by": "apalike",
   "current_citInitial": 1,
   "eqLabelWithNumbers": true,
   "eqNumInitial": 1,
   "hotkeys": {
    "equation": "Ctrl-E",
    "itemize": "Ctrl-I"
   },
   "labels_anchors": false,
   "latex_user_defs": false,
   "report_style_numbering": true,
   "user_envs_cfg": true
  }
 },
 "nbformat": 4,
 "nbformat_minor": 2
}
