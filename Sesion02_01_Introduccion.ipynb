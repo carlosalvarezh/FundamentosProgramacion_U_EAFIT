{
 "cells": [
  {
   "cell_type": "markdown",
   "metadata": {},
   "source": [
    "<font size=4 color=\"blue\" face=\"arial\">\n",
    "<h1 align=\"center\">PROGRAMACIÓN EN PYTHON - NIVEL BÁSICO</h1>    \n",
    "</font>\n",
    "\n",
    "<font size=2 color=\"blue\" face=\"arial\">\n",
    "<h1 align=\"center\">Sesión 02 - Introducción, variables, strings</h1>    \n",
    "</font>"
   ]
  },
  {
   "cell_type": "markdown",
   "metadata": {},
   "source": [
    "## Instructor:\n",
    "> <strong> *Carlos Alberto Álvarez Henao, I.C. Ph.D.* </strong> "
   ]
  },
  {
   "cell_type": "markdown",
   "metadata": {
    "slideshow": {
     "slide_type": "slide"
    }
   },
   "source": [
    "# Por qué Python?"
   ]
  },
  {
   "cell_type": "markdown",
   "metadata": {},
   "source": [
    "- Lenguaje de programación de alto nivel. creado por [Guido van Rossum](https://en.wikipedia.org/wiki/Guido_van_Rossum \"Guido van Rossum\") (en la comunidad de Python es conocido como el *[Benevolente Dictador Vitalicio](https://es.wikipedia.org/wiki/Benevolent_Dictator_for_Life \"Benevolente Dictador Vitalicio\")* y su nombre está inspirado en el grupo de comedia británico *[Monthy Python](https://en.wikipedia.org/wiki/Monty_Python \"Monty Python\")*) a finales de los 80's. \n",
    "\n",
    "\n",
    "- Actualmente es uno de los lenguajes de programación más ampliamente difundidos a nivel mundial ([tiobe index June/2017](https://www.tiobe.com/tiobe-index/ \"tiobe.com\"))\n",
    "\n",
    "\n",
    "- Una de las mayores ventajas es su \"simplicidad\": En general, se requiere de muchas menos líneas de programación para ejecutar una determinada tarea que en otros lenguajes (C, C++, Java,...).\n",
    "\n",
    "\n",
    "- Viene con una amplia colección de bibliotecas que permiten extender las capacidades del lenguaje."
   ]
  },
  {
   "cell_type": "markdown",
   "metadata": {},
   "source": [
    "## El *Zen* del Python\n",
    "\n",
    "> Bello es mejor que feo.\n",
    "\n",
    "> Explícito es mejor que implícito.\n",
    "\n",
    "> Simple es mejor que complejo.\n",
    "\n",
    "> Complejo es mejor que complicado.\n",
    "\n",
    "> Plano es mejor que anidado.\n",
    "\n",
    "> Espaciado es mejor que denso.\n",
    "\n",
    "> La legibilidad es importante.\n",
    "\n",
    "> Los casos especiales no son lo suficientemente especiales como para romper las reglas.\n",
    "\n",
    "> Sin embargo la practicidad le gana a la pureza.\n",
    "\n",
    "> Los errores nunca deberían pasar silenciosamente.\n",
    "\n",
    "> A menos que se silencien explícitamente.\n",
    "\n",
    "> Frente a la ambigüedad, evitar la tentación de adivinar.\n",
    "\n",
    "> Debería haber una, y preferiblemente solo una, manera obvia de hacerlo.\n",
    "\n",
    "> A pesar de que esa manera no sea obvia a menos que seas Holandés.\n",
    "\n",
    "> Ahora es mejor que nunca.\n",
    "\n",
    "> A pesar de que nunca es muchas veces mejor que *ahora* mismo.\n",
    "\n",
    "> Si la implementación es difícil de explicar, es una mala idea.\n",
    "\n",
    "> Si la implementación es fácil de explicar, puede que sea una buena idea.\n",
    "\n",
    "> Los espacios de nombres son una gran idea, ¡tengamos más de esos!"
   ]
  },
  {
   "cell_type": "markdown",
   "metadata": {
    "slideshow": {
     "slide_type": "subslide"
    }
   },
   "source": [
    "- Es un lenguaje de plataforma transversal, es decir, el código escrito en Windows trabajará bien en Linux o Mac OS sin la necesidad de realizar ningún tipo de cambios en el código.\n",
    "\n",
    "\n",
    "- Actualmente el interprete se encuentra en la versión 3.7.1, pero la mayoría de bibliotecas y códigos más usados aún se encuentran en las versiones 2.x. [Página Oficial de Python.org](https://www.python.org \"Python's homepage\").\n",
    "\n",
    "\n",
    "- La diferencia entre ambas versiones no sobrepasa el 10%, por lo que se puede usar una u otra sin problemas para la mayoría de aplicaciones."
   ]
  },
  {
   "cell_type": "markdown",
   "metadata": {
    "slideshow": {
     "slide_type": "slide"
    }
   },
   "source": [
    "## Ejecución desde Consola (Windows)"
   ]
  },
  {
   "attachments": {
    "ConsolaW.PNG": {
     "image/png": "[encoded data removed]"
    }
   },
   "cell_type": "markdown",
   "metadata": {
    "scrolled": true
   },
   "source": [
    "![ConsolaW.PNG](attachment:ConsolaW.PNG)"
   ]
  },
  {
   "cell_type": "markdown",
   "metadata": {
    "slideshow": {
     "slide_type": "slide"
    }
   },
   "source": [
    "## Mi primer Programa en Python"
   ]
  },
  {
   "cell_type": "code",
   "execution_count": 2,
   "metadata": {},
   "outputs": [
    {
     "name": "stdout",
     "output_type": "stream",
     "text": [
      "Este es mi primer programa en Python!!!\n",
      "Hola Mundo en Python 3!\n"
     ]
    }
   ],
   "source": [
    "print(\"Este es mi primer programa en Python!!!\")\n",
    "print(\"Hola Mundo en Python 3!\")"
   ]
  },
  {
   "cell_type": "markdown",
   "metadata": {
    "slideshow": {
     "slide_type": "slide"
    }
   },
   "source": [
    "## Variables Expresiones y Sentencias"
   ]
  },
  {
   "cell_type": "markdown",
   "metadata": {},
   "source": [
    "### Valores y Tipos"
   ]
  },
  {
   "cell_type": "markdown",
   "metadata": {},
   "source": [
    "- Un valor es una de las cosas básicas con las que un programa trabaja.\n",
    "\n",
    "- Los valores pueden ser Números (punto flotante, enteros, complejos...) Caracteres o Cadenas de Caracteres (strings)"
   ]
  },
  {
   "cell_type": "code",
   "execution_count": 3,
   "metadata": {
    "slideshow": {
     "slide_type": "subslide"
    }
   },
   "outputs": [
    {
     "data": {
      "text/plain": [
       "str"
      ]
     },
     "execution_count": 3,
     "metadata": {},
     "output_type": "execute_result"
    }
   ],
   "source": [
    "type(\"c\")"
   ]
  },
  {
   "cell_type": "code",
   "execution_count": 4,
   "metadata": {
    "slideshow": {
     "slide_type": "subslide"
    }
   },
   "outputs": [
    {
     "data": {
      "text/plain": [
       "str"
      ]
     },
     "execution_count": 4,
     "metadata": {},
     "output_type": "execute_result"
    }
   ],
   "source": [
    "type(\"Hola Mundo!\")"
   ]
  },
  {
   "cell_type": "code",
   "execution_count": 5,
   "metadata": {
    "slideshow": {
     "slide_type": "subslide"
    }
   },
   "outputs": [
    {
     "data": {
      "text/plain": [
       "int"
      ]
     },
     "execution_count": 5,
     "metadata": {},
     "output_type": "execute_result"
    }
   ],
   "source": [
    "type(17)"
   ]
  },
  {
   "cell_type": "code",
   "execution_count": 6,
   "metadata": {
    "slideshow": {
     "slide_type": "subslide"
    }
   },
   "outputs": [
    {
     "data": {
      "text/plain": [
       "float"
      ]
     },
     "execution_count": 6,
     "metadata": {},
     "output_type": "execute_result"
    }
   ],
   "source": [
    "type(17.0)"
   ]
  },
  {
   "cell_type": "code",
   "execution_count": 9,
   "metadata": {
    "slideshow": {
     "slide_type": "subslide"
    }
   },
   "outputs": [
    {
     "data": {
      "text/plain": [
       "complex"
      ]
     },
     "execution_count": 9,
     "metadata": {},
     "output_type": "execute_result"
    }
   ],
   "source": [
    "type(3+2j)"
   ]
  },
  {
   "cell_type": "code",
   "execution_count": 10,
   "metadata": {
    "slideshow": {
     "slide_type": "subslide"
    }
   },
   "outputs": [
    {
     "data": {
      "text/plain": [
       "str"
      ]
     },
     "execution_count": 10,
     "metadata": {},
     "output_type": "execute_result"
    }
   ],
   "source": [
    "type(\"17.0\")"
   ]
  },
  {
   "cell_type": "code",
   "execution_count": 13,
   "metadata": {
    "collapsed": true,
    "slideshow": {
     "slide_type": "subslide"
    }
   },
   "outputs": [
    {
     "ename": "SyntaxError",
     "evalue": "EOL while scanning string literal (<ipython-input-13-02f21a22a17d>, line 1)",
     "output_type": "error",
     "traceback": [
      "\u001b[0;36m  File \u001b[0;32m\"<ipython-input-13-02f21a22a17d>\"\u001b[0;36m, line \u001b[0;32m1\u001b[0m\n\u001b[0;31m    type('string)\u001b[0m\n\u001b[0m                 ^\u001b[0m\n\u001b[0;31mSyntaxError\u001b[0m\u001b[0;31m:\u001b[0m EOL while scanning string literal\n"
     ]
    }
   ],
   "source": [
    "type('string)"
   ]
  },
  {
   "cell_type": "code",
   "execution_count": 12,
   "metadata": {
    "collapsed": true,
    "slideshow": {
     "slide_type": "subslide"
    }
   },
   "outputs": [
    {
     "data": {
      "text/plain": [
       "(1, 0, 0, 0, 0)"
      ]
     },
     "execution_count": 12,
     "metadata": {},
     "output_type": "execute_result"
    }
   ],
   "source": [
    "#Producirá un error de semántica\n",
    "1,000,000,000,000 "
   ]
  },
  {
   "cell_type": "code",
   "execution_count": 14,
   "metadata": {
    "slideshow": {
     "slide_type": "subslide"
    }
   },
   "outputs": [
    {
     "ename": "SyntaxError",
     "evalue": "invalid syntax (<ipython-input-14-7991daefff74>, line 1)",
     "output_type": "error",
     "traceback": [
      "\u001b[0;36m  File \u001b[0;32m\"<ipython-input-14-7991daefff74>\"\u001b[0;36m, line \u001b[0;32m1\u001b[0m\n\u001b[0;31m    1.000.000.000 #Producirá un error de sintáxis\u001b[0m\n\u001b[0m            ^\u001b[0m\n\u001b[0;31mSyntaxError\u001b[0m\u001b[0;31m:\u001b[0m invalid syntax\n"
     ]
    }
   ],
   "source": [
    "1.000.000.000 #Producirá un error de sintáxis"
   ]
  },
  {
   "cell_type": "code",
   "execution_count": 15,
   "metadata": {},
   "outputs": [
    {
     "data": {
      "text/plain": [
       "1000000000000.8678"
      ]
     },
     "execution_count": 15,
     "metadata": {},
     "output_type": "execute_result"
    }
   ],
   "source": [
    "1000000000000.8678568"
   ]
  },
  {
   "cell_type": "markdown",
   "metadata": {
    "slideshow": {
     "slide_type": "slide"
    }
   },
   "source": [
    "### Variables"
   ]
  },
  {
   "cell_type": "markdown",
   "metadata": {},
   "source": [
    "- Una variable es un nombre que hace referencia a un valor.\n",
    "\n",
    "- Una sentencia de asignación crea nuevas variables y valores dados."
   ]
  },
  {
   "cell_type": "code",
   "execution_count": 16,
   "metadata": {
    "slideshow": {
     "slide_type": "subslide"
    }
   },
   "outputs": [],
   "source": [
    "mensaje = \"Este es un mensaje\"\n",
    "n = 17\n",
    "pi = 3.14159265"
   ]
  },
  {
   "cell_type": "markdown",
   "metadata": {
    "slideshow": {
     "slide_type": "subslide"
    }
   },
   "source": [
    "- Este ejemplo realiza tres asignaciones."
   ]
  },
  {
   "cell_type": "code",
   "execution_count": 17,
   "metadata": {},
   "outputs": [
    {
     "data": {
      "text/plain": [
       "str"
      ]
     },
     "execution_count": 17,
     "metadata": {},
     "output_type": "execute_result"
    }
   ],
   "source": [
    "type(mensaje)"
   ]
  },
  {
   "cell_type": "code",
   "execution_count": 18,
   "metadata": {},
   "outputs": [
    {
     "data": {
      "text/plain": [
       "int"
      ]
     },
     "execution_count": 18,
     "metadata": {},
     "output_type": "execute_result"
    }
   ],
   "source": [
    "type(n)"
   ]
  },
  {
   "cell_type": "code",
   "execution_count": 19,
   "metadata": {},
   "outputs": [
    {
     "data": {
      "text/plain": [
       "float"
      ]
     },
     "execution_count": 19,
     "metadata": {},
     "output_type": "execute_result"
    }
   ],
   "source": [
    "type(pi)"
   ]
  },
  {
   "cell_type": "code",
   "execution_count": 20,
   "metadata": {
    "slideshow": {
     "slide_type": "subslide"
    }
   },
   "outputs": [
    {
     "name": "stdout",
     "output_type": "stream",
     "text": [
      "53.40707505\n"
     ]
    }
   ],
   "source": [
    "x = n * pi\n",
    "print(x)"
   ]
  },
  {
   "cell_type": "code",
   "execution_count": 21,
   "metadata": {},
   "outputs": [
    {
     "name": "stdout",
     "output_type": "stream",
     "text": [
      "Este es un mensajeEste es un mensajeEste es un mensajeEste es un mensajeEste es un mensajeEste es un mensajeEste es un mensajeEste es un mensajeEste es un mensajeEste es un mensajeEste es un mensajeEste es un mensajeEste es un mensajeEste es un mensajeEste es un mensajeEste es un mensajeEste es un mensaje\n"
     ]
    }
   ],
   "source": [
    "z = n*mensaje\n",
    "print(z)"
   ]
  },
  {
   "cell_type": "code",
   "execution_count": 22,
   "metadata": {},
   "outputs": [
    {
     "ename": "TypeError",
     "evalue": "can't multiply sequence by non-int of type 'float'",
     "output_type": "error",
     "traceback": [
      "\u001b[0;31m---------------------------------------------------------------------------\u001b[0m",
      "\u001b[0;31mTypeError\u001b[0m                                 Traceback (most recent call last)",
      "\u001b[0;32m<ipython-input-22-a50d82298588>\u001b[0m in \u001b[0;36m<module>\u001b[0;34m\u001b[0m\n\u001b[0;32m----> 1\u001b[0;31m \u001b[0mp\u001b[0m \u001b[0;34m=\u001b[0m \u001b[0mpi\u001b[0m \u001b[0;34m*\u001b[0m \u001b[0mmensaje\u001b[0m\u001b[0;34m\u001b[0m\u001b[0m\n\u001b[0m\u001b[1;32m      2\u001b[0m \u001b[0mprint\u001b[0m\u001b[0;34m(\u001b[0m\u001b[0mp\u001b[0m\u001b[0;34m)\u001b[0m\u001b[0;34m\u001b[0m\u001b[0m\n",
      "\u001b[0;31mTypeError\u001b[0m: can't multiply sequence by non-int of type 'float'"
     ]
    }
   ],
   "source": [
    "p = pi * mensaje\n",
    "print(p)"
   ]
  },
  {
   "cell_type": "markdown",
   "metadata": {
    "slideshow": {
     "slide_type": "slide"
    }
   },
   "source": [
    "### Nombre de Variables y Palabras Claves (keywords)"
   ]
  },
  {
   "cell_type": "code",
   "execution_count": 25,
   "metadata": {},
   "outputs": [
    {
     "name": "stdout",
     "output_type": "stream",
     "text": [
      "HolaHolaHolaHolaHola\n"
     ]
    }
   ],
   "source": [
    "b = \"Hola\"\n",
    "B = 5\n",
    "v = B * b\n",
    "print(v)"
   ]
  },
  {
   "cell_type": "markdown",
   "metadata": {},
   "source": [
    "- Nombres de variables pueden tener un tamaño arbitrariamente de caracteres.\n",
    "\n",
    "\n",
    "- Pueden contener letras y números, pero <strong>SIEMPRE</strong> deben empezar por una letra.\n",
    "\n",
    "\n",
    "- Es *\"Kool\"* usar letras en mayúscula, pero es una buena práctica empezar los nombres de variables en minúscula.\n",
    "\n",
    "\n",
    "- El carácter \"guión bajo\" (*underscore*), _ , puede aparecer en el nombre de una variable. Usado frecuentemente en variables cuyo nombre está compuesto por diferentes palabras.\n",
    "\n",
    "\n",
    "- Si da a una variable un nombre ilegal, obtendrá un error de sintaxis."
   ]
  },
  {
   "cell_type": "code",
   "execution_count": 26,
   "metadata": {
    "slideshow": {
     "slide_type": "subslide"
    }
   },
   "outputs": [
    {
     "name": "stdout",
     "output_type": "stream",
     "text": [
      "1\n"
     ]
    }
   ],
   "source": [
    "este_puede_ser_el_nombre_valido_de_una_variable = 1\n",
    "print(este_puede_ser_el_nombre_valido_de_una_variable)"
   ]
  },
  {
   "cell_type": "code",
   "execution_count": 27,
   "metadata": {},
   "outputs": [
    {
     "name": "stdout",
     "output_type": "stream",
     "text": [
      "3\n"
     ]
    }
   ],
   "source": [
    "estaEsUnaVariable = 3\n",
    "print(estaEsUnaVariable)"
   ]
  },
  {
   "cell_type": "code",
   "execution_count": 28,
   "metadata": {
    "slideshow": {
     "slide_type": "subslide"
    }
   },
   "outputs": [
    {
     "name": "stdout",
     "output_type": "stream",
     "text": [
      "3\n"
     ]
    }
   ],
   "source": [
    "mamá = 3\n",
    "print(mamá)"
   ]
  },
  {
   "cell_type": "code",
   "execution_count": 29,
   "metadata": {
    "slideshow": {
     "slide_type": "subslide"
    }
   },
   "outputs": [
    {
     "ename": "SyntaxError",
     "evalue": "invalid syntax (<ipython-input-29-af77e964085e>, line 1)",
     "output_type": "error",
     "traceback": [
      "\u001b[0;36m  File \u001b[0;32m\"<ipython-input-29-af77e964085e>\"\u001b[0;36m, line \u001b[0;32m1\u001b[0m\n\u001b[0;31m    76Pesos = 76\u001b[0m\n\u001b[0m          ^\u001b[0m\n\u001b[0;31mSyntaxError\u001b[0m\u001b[0;31m:\u001b[0m invalid syntax\n"
     ]
    }
   ],
   "source": [
    "76Pesos = 76\n",
    "print(76Pesos)"
   ]
  },
  {
   "cell_type": "code",
   "execution_count": 32,
   "metadata": {
    "slideshow": {
     "slide_type": "subslide"
    }
   },
   "outputs": [
    {
     "name": "stdout",
     "output_type": "stream",
     "text": [
      "76\n"
     ]
    }
   ],
   "source": [
    "P3s0s_76 = 76\n",
    "print(P3s0s_76)"
   ]
  },
  {
   "cell_type": "code",
   "execution_count": 33,
   "metadata": {
    "slideshow": {
     "slide_type": "subslide"
    }
   },
   "outputs": [
    {
     "ename": "SyntaxError",
     "evalue": "invalid syntax (<ipython-input-33-bef6ad16a0a6>, line 1)",
     "output_type": "error",
     "traceback": [
      "\u001b[0;36m  File \u001b[0;32m\"<ipython-input-33-bef6ad16a0a6>\"\u001b[0;36m, line \u001b[0;32m1\u001b[0m\n\u001b[0;31m    mas@ = 5.3\u001b[0m\n\u001b[0m         ^\u001b[0m\n\u001b[0;31mSyntaxError\u001b[0m\u001b[0;31m:\u001b[0m invalid syntax\n"
     ]
    }
   ],
   "source": [
    "mas@ = 5.3 "
   ]
  },
  {
   "cell_type": "code",
   "execution_count": 34,
   "metadata": {
    "slideshow": {
     "slide_type": "subslide"
    }
   },
   "outputs": [
    {
     "ename": "SyntaxError",
     "evalue": "invalid syntax (<ipython-input-34-b49b3298c280>, line 1)",
     "output_type": "error",
     "traceback": [
      "\u001b[0;36m  File \u001b[0;32m\"<ipython-input-34-b49b3298c280>\"\u001b[0;36m, line \u001b[0;32m1\u001b[0m\n\u001b[0;31m    esta variable = 2.5\u001b[0m\n\u001b[0m                ^\u001b[0m\n\u001b[0;31mSyntaxError\u001b[0m\u001b[0;31m:\u001b[0m invalid syntax\n"
     ]
    }
   ],
   "source": [
    "esta variable = 2.5"
   ]
  },
  {
   "cell_type": "code",
   "execution_count": 36,
   "metadata": {
    "slideshow": {
     "slide_type": "subslide"
    }
   },
   "outputs": [],
   "source": [
    "class1 = \"Avanzado\""
   ]
  },
  {
   "cell_type": "code",
   "execution_count": 37,
   "metadata": {},
   "outputs": [
    {
     "name": "stdout",
     "output_type": "stream",
     "text": [
      "Avanzado\n"
     ]
    }
   ],
   "source": [
    "print(class1)"
   ]
  },
  {
   "cell_type": "markdown",
   "metadata": {
    "slideshow": {
     "slide_type": "slide"
    }
   },
   "source": [
    "### Palabras Clave - keywords"
   ]
  },
  {
   "cell_type": "code",
   "execution_count": 38,
   "metadata": {
    "slideshow": {
     "slide_type": "-"
    }
   },
   "outputs": [
    {
     "name": "stdout",
     "output_type": "stream",
     "text": [
      "['False', 'None', 'True', 'and', 'as', 'assert', 'break', 'class', 'continue', 'def', 'del', 'elif', 'else', 'except', 'finally', 'for', 'from', 'global', 'if', 'import', 'in', 'is', 'lambda', 'nonlocal', 'not', 'or', 'pass', 'raise', 'return', 'try', 'while', 'with', 'yield']\n"
     ]
    }
   ],
   "source": [
    "import keyword\n",
    "print(keyword.kwlist)"
   ]
  },
  {
   "cell_type": "markdown",
   "metadata": {
    "slideshow": {
     "slide_type": "slide"
    }
   },
   "source": [
    "### Asignación Múltiple"
   ]
  },
  {
   "cell_type": "markdown",
   "metadata": {
    "slideshow": {
     "slide_type": "-"
    }
   },
   "source": [
    "- Otra de las ventajas que Python nos provee, es la de poder asignar en una sola instrucción, múltiples variables."
   ]
  },
  {
   "cell_type": "code",
   "execution_count": 39,
   "metadata": {
    "slideshow": {
     "slide_type": "subslide"
    }
   },
   "outputs": [],
   "source": [
    "a, b, c, d = \"class\", 15, True, 3.8"
   ]
  },
  {
   "cell_type": "code",
   "execution_count": 40,
   "metadata": {},
   "outputs": [
    {
     "name": "stdout",
     "output_type": "stream",
     "text": [
      "class\n",
      "15\n",
      "True\n",
      "3.8\n"
     ]
    }
   ],
   "source": [
    "print(a)\n",
    "print(b)\n",
    "print(c)\n",
    "print(d)"
   ]
  },
  {
   "cell_type": "markdown",
   "metadata": {
    "collapsed": true,
    "slideshow": {
     "slide_type": "slide"
    }
   },
   "source": [
    "# Strings"
   ]
  },
  {
   "cell_type": "code",
   "execution_count": 41,
   "metadata": {},
   "outputs": [
    {
     "name": "stdout",
     "output_type": "stream",
     "text": [
      "Una cadena de texto entre comillas simples\n"
     ]
    }
   ],
   "source": [
    "s1 = 'Una cadena de texto entre comillas simples'\n",
    "print(s1)"
   ]
  },
  {
   "cell_type": "code",
   "execution_count": 42,
   "metadata": {},
   "outputs": [
    {
     "name": "stdout",
     "output_type": "stream",
     "text": [
      "Ahora otra cadena de texto entre comillas dobles\n"
     ]
    }
   ],
   "source": [
    "s2 = \"Ahora otra cadena de texto entre comillas dobles\"\n",
    "print(s2)"
   ]
  },
  {
   "cell_type": "markdown",
   "metadata": {},
   "source": [
    "Para imprimir un caracter especial dentro de un string cuando se define con comilla simple, usamos el caracter \\ como escape"
   ]
  },
  {
   "cell_type": "code",
   "execution_count": 43,
   "metadata": {},
   "outputs": [
    {
     "ename": "SyntaxError",
     "evalue": "invalid syntax (<ipython-input-43-1c4ba834dd6a>, line 1)",
     "output_type": "error",
     "traceback": [
      "\u001b[0;36m  File \u001b[0;32m\"<ipython-input-43-1c4ba834dd6a>\"\u001b[0;36m, line \u001b[0;32m1\u001b[0m\n\u001b[0;31m    s3 = 'It doesn't matter'\u001b[0m\n\u001b[0m                   ^\u001b[0m\n\u001b[0;31mSyntaxError\u001b[0m\u001b[0;31m:\u001b[0m invalid syntax\n"
     ]
    }
   ],
   "source": [
    "s3 = 'It doesn't matter'\n",
    "print(s3)"
   ]
  },
  {
   "cell_type": "code",
   "execution_count": 44,
   "metadata": {},
   "outputs": [
    {
     "name": "stdout",
     "output_type": "stream",
     "text": [
      "It doesn't matter\n"
     ]
    }
   ],
   "source": [
    "s3 = 'It doesn\\'t matter'\n",
    "print(s3)"
   ]
  },
  {
   "cell_type": "markdown",
   "metadata": {},
   "source": [
    "Con comillas dobles no es necesario:"
   ]
  },
  {
   "cell_type": "code",
   "execution_count": 45,
   "metadata": {},
   "outputs": [
    {
     "name": "stdout",
     "output_type": "stream",
     "text": [
      "It doesn't matter\n"
     ]
    }
   ],
   "source": [
    "s3 = \"It doesn't matter\"\n",
    "print(s3)"
   ]
  },
  {
   "cell_type": "markdown",
   "metadata": {},
   "source": [
    "> Una cadena de caracteres (string) en Python consiste de una secuencia de caracteres: letras, números, y caracteres especiales.\n",
    "\n",
    "> los strings pueden ser suscriptables o indexados. El primer caracter de una cadena tiene índice [0]"
   ]
  },
  {
   "attachments": {
    "positive_and_negative_indices_of_strings.png": {
     "image/png": "[encoded data removed]"
    }
   },
   "cell_type": "markdown",
   "metadata": {},
   "source": [
    "![positive_and_negative_indices_of_strings.png](attachment:positive_and_negative_indices_of_strings.png)"
   ]
  },
  {
   "cell_type": "markdown",
   "metadata": {},
   "source": [
    "Se puede acceder al valor de la cadena de caracteres en una posición dada así:"
   ]
  },
  {
   "cell_type": "code",
   "execution_count": 46,
   "metadata": {},
   "outputs": [
    {
     "name": "stdout",
     "output_type": "stream",
     "text": [
      "H\n",
      " \n",
      "d\n"
     ]
    }
   ],
   "source": [
    "s = \"Hello world\"\n",
    "print(s[0])\n",
    "print(s[5])\n",
    "print(s[10])"
   ]
  },
  {
   "cell_type": "markdown",
   "metadata": {},
   "source": [
    "También se puede acceder hacia atrás:"
   ]
  },
  {
   "cell_type": "code",
   "execution_count": 47,
   "metadata": {},
   "outputs": [
    {
     "name": "stdout",
     "output_type": "stream",
     "text": [
      "d\n",
      " \n",
      "H\n"
     ]
    }
   ],
   "source": [
    "print(s[-1])\n",
    "print(s[-6])\n",
    "print(s[-11])"
   ]
  },
  {
   "cell_type": "markdown",
   "metadata": {},
   "source": [
    "## Algunas operaciones y funciones para strings"
   ]
  },
  {
   "cell_type": "markdown",
   "metadata": {},
   "source": [
    "- **Concatenación:** Los strings pueden \"pegarse\" (concatenarse) entre ellos con el operador \"+\""
   ]
  },
  {
   "cell_type": "code",
   "execution_count": 49,
   "metadata": {},
   "outputs": [
    {
     "data": {
      "text/plain": [
       "'Hola Mundo'"
      ]
     },
     "execution_count": 49,
     "metadata": {},
     "output_type": "execute_result"
    }
   ],
   "source": [
    "\"Hola\" +\" \" + \"Mundo\""
   ]
  },
  {
   "cell_type": "markdown",
   "metadata": {},
   "source": [
    "- **Repetición**: Los string puede concatenarse repetidamente con el operador \"*\":"
   ]
  },
  {
   "cell_type": "code",
   "execution_count": 50,
   "metadata": {},
   "outputs": [
    {
     "data": {
      "text/plain": [
       "'Hello worldHello worldHello world'"
      ]
     },
     "execution_count": 50,
     "metadata": {},
     "output_type": "execute_result"
    }
   ],
   "source": [
    "3 * \"Hello world\""
   ]
  },
  {
   "cell_type": "markdown",
   "metadata": {},
   "source": [
    "- **Indexación:** como mencionado antes, se puede acceder a la posición de un caracter del string mediante su índice."
   ]
  },
  {
   "cell_type": "code",
   "execution_count": 51,
   "metadata": {},
   "outputs": [
    {
     "name": "stdout",
     "output_type": "stream",
     "text": [
      "o\n"
     ]
    }
   ],
   "source": [
    "print(s[4])"
   ]
  },
  {
   "cell_type": "markdown",
   "metadata": {},
   "source": [
    "- **Rebanado (slice):** se pueden crear subcadenas con la notación de rebanado (slice), es decir, dos índices entre corchetes cuadrados separados por el caracter colon (:):"
   ]
  },
  {
   "cell_type": "code",
   "execution_count": 52,
   "metadata": {},
   "outputs": [
    {
     "name": "stdout",
     "output_type": "stream",
     "text": [
      "th\n"
     ]
    }
   ],
   "source": [
    "s = \"Python\"\n",
    "print(s[2:4])"
   ]
  },
  {
   "cell_type": "markdown",
   "metadata": {},
   "source": [
    "- **Tamaño (size):** para determinar el tamaño (cantidad de elementos de un string) se usa la función *len()* "
   ]
  },
  {
   "cell_type": "code",
   "execution_count": 53,
   "metadata": {},
   "outputs": [
    {
     "name": "stdout",
     "output_type": "stream",
     "text": [
      "6\n"
     ]
    }
   ],
   "source": [
    "print(len(s))"
   ]
  },
  {
   "cell_type": "markdown",
   "metadata": {},
   "source": [
    "- **Comparación:** se pueden comparar dos cadenas de texto para saber si son exactamente las mismas y/o ocupan el mismo espacio en memoria:"
   ]
  },
  {
   "cell_type": "code",
   "execution_count": 60,
   "metadata": {},
   "outputs": [
    {
     "data": {
      "text/plain": [
       "True"
      ]
     },
     "execution_count": 60,
     "metadata": {},
     "output_type": "execute_result"
    }
   ],
   "source": [
    "a = \"Linux\"\n",
    "b = \"Linux\"\n",
    "a is b"
   ]
  },
  {
   "cell_type": "code",
   "execution_count": 59,
   "metadata": {},
   "outputs": [
    {
     "data": {
      "text/plain": [
       "False"
      ]
     },
     "execution_count": 59,
     "metadata": {},
     "output_type": "execute_result"
    }
   ],
   "source": [
    "a = \"Linux Rules\"\n",
    "b = \"Linux Rules\"\n",
    "a is b"
   ]
  },
  {
   "cell_type": "markdown",
   "metadata": {},
   "source": [
    "## Algunos caracteres especiales útiles en strings:\n",
    "\n",
    "- \"\\\\\": es el caracter de \"escape\"\n",
    "\n",
    "- \"\\n\": Salto de línea\n",
    "\n",
    "- \"\\t\": Tabulador"
   ]
  },
  {
   "cell_type": "code",
   "execution_count": 61,
   "metadata": {},
   "outputs": [
    {
     "name": "stdout",
     "output_type": "stream",
     "text": [
      "Hola\tmundo\n"
     ]
    }
   ],
   "source": [
    "s = \"Hola\\tmundo\"\n",
    "print(s)"
   ]
  },
  {
   "cell_type": "code",
   "execution_count": 62,
   "metadata": {},
   "outputs": [
    {
     "name": "stdout",
     "output_type": "stream",
     "text": [
      "Hola\t\t\tmundo\n"
     ]
    }
   ],
   "source": [
    "s = \"Hola\\t\\t\\tmundo\"\n",
    "print(s)"
   ]
  },
  {
   "cell_type": "code",
   "execution_count": 63,
   "metadata": {},
   "outputs": [
    {
     "name": "stdout",
     "output_type": "stream",
     "text": [
      "Hola\n",
      "mundo\n"
     ]
    }
   ],
   "source": [
    "s = \"Hola\\nmundo\"\n",
    "print(s)"
   ]
  },
  {
   "cell_type": "code",
   "execution_count": 64,
   "metadata": {},
   "outputs": [
    {
     "name": "stdout",
     "output_type": "stream",
     "text": [
      "Hola \r",
      " mundo\n"
     ]
    }
   ],
   "source": [
    "s = \"Hola \\r mundo\"\n",
    "print(s)"
   ]
  },
  {
   "cell_type": "markdown",
   "metadata": {},
   "source": [
    "# Conversión de tipos\n",
    "\n",
    "A veces necesitamos convertir una variable que ingresamos con un tipo (string, float, integer, boolean, etc) a otro tipo."
   ]
  },
  {
   "cell_type": "code",
   "execution_count": 65,
   "metadata": {},
   "outputs": [
    {
     "name": "stdout",
     "output_type": "stream",
     "text": [
      "12\n"
     ]
    }
   ],
   "source": [
    "a = \"1\"\n",
    "b = \"2\"\n",
    "s = a + b\n",
    "print(s)"
   ]
  },
  {
   "cell_type": "markdown",
   "metadata": {},
   "source": [
    "Veamos a qué tipo corresponden las variables a, b y s"
   ]
  },
  {
   "cell_type": "code",
   "execution_count": 66,
   "metadata": {},
   "outputs": [
    {
     "data": {
      "text/plain": [
       "str"
      ]
     },
     "execution_count": 66,
     "metadata": {},
     "output_type": "execute_result"
    }
   ],
   "source": [
    "type(a)"
   ]
  },
  {
   "cell_type": "code",
   "execution_count": 67,
   "metadata": {},
   "outputs": [
    {
     "data": {
      "text/plain": [
       "str"
      ]
     },
     "execution_count": 67,
     "metadata": {},
     "output_type": "execute_result"
    }
   ],
   "source": [
    "type(b)"
   ]
  },
  {
   "cell_type": "code",
   "execution_count": 68,
   "metadata": {},
   "outputs": [
    {
     "data": {
      "text/plain": [
       "str"
      ]
     },
     "execution_count": 68,
     "metadata": {},
     "output_type": "execute_result"
    }
   ],
   "source": [
    "type(s)"
   ]
  },
  {
   "cell_type": "markdown",
   "metadata": {},
   "source": [
    "Se observa que la operación que se obtuvo fue la de *concatenación* y no la operación suma.\n",
    "\n",
    "Para convertir una varible de tipo *string* a *integer*, invocamos la función *int()*:"
   ]
  },
  {
   "cell_type": "code",
   "execution_count": 72,
   "metadata": {},
   "outputs": [
    {
     "name": "stdout",
     "output_type": "stream",
     "text": [
      "<class 'int'>\n",
      "<class 'int'>\n",
      "3\n",
      "<class 'int'>\n",
      "0\n"
     ]
    }
   ],
   "source": [
    "a1 = int(a)\n",
    "print(type(a1))\n",
    "b1 = int(b)\n",
    "print(type(b1))\n",
    "s1 = a1 + b1\n",
    "print(s1)\n",
    "print(type(s1))\n",
    "\n",
    "div = a1 // b1\n",
    "print(div)"
   ]
  },
  {
   "cell_type": "markdown",
   "metadata": {},
   "source": [
    "- Ahora sí obtenemos el valor numérico de la operación suma de las variables a1 y b1.\n",
    "\n",
    "Si queremos que a y b sean tratados como números de punto flotante (en computación no existe el concepto de \"número Real\"), se usa la función *float*"
   ]
  },
  {
   "cell_type": "code",
   "execution_count": 70,
   "metadata": {},
   "outputs": [
    {
     "name": "stdout",
     "output_type": "stream",
     "text": [
      "3.0\n"
     ]
    }
   ],
   "source": [
    "af = float(a)\n",
    "bf = float(b)\n",
    "s = af + bf\n",
    "print(s)"
   ]
  },
  {
   "cell_type": "markdown",
   "metadata": {},
   "source": [
    "Puedo pasar a convertir nuevamente a string un valor numérico:"
   ]
  },
  {
   "cell_type": "code",
   "execution_count": 73,
   "metadata": {},
   "outputs": [
    {
     "name": "stdout",
     "output_type": "stream",
     "text": [
      "3.0\n"
     ]
    }
   ],
   "source": [
    "ss = str(s)\n",
    "print(ss)"
   ]
  },
  {
   "cell_type": "code",
   "execution_count": 74,
   "metadata": {},
   "outputs": [
    {
     "name": "stdout",
     "output_type": "stream",
     "text": [
      "3.03.03.0\n"
     ]
    }
   ],
   "source": [
    "sss = ss*3\n",
    "print(sss)"
   ]
  },
  {
   "cell_type": "code",
   "execution_count": null,
   "metadata": {},
   "outputs": [],
   "source": [
    "type(ss)"
   ]
  },
  {
   "cell_type": "code",
   "execution_count": null,
   "metadata": {},
   "outputs": [],
   "source": []
  }
 ],
 "metadata": {
  "anaconda-cloud": {},
  "kernelspec": {
   "display_name": "Python 3",
   "language": "python",
   "name": "python3"
  },
  "language_info": {
   "codemirror_mode": {
    "name": "ipython",
    "version": 3
   },
   "file_extension": ".py",
   "mimetype": "text/x-python",
   "name": "python",
   "nbconvert_exporter": "python",
   "pygments_lexer": "ipython3",
   "version": "3.6.6"
  },
  "latex_envs": {
   "LaTeX_envs_menu_present": true,
   "autocomplete": true,
   "bibliofile": "biblio.bib",
   "cite_by": "apalike",
   "current_citInitial": 1,
   "eqLabelWithNumbers": true,
   "eqNumInitial": 1,
   "hotkeys": {
    "equation": "Ctrl-E",
    "itemize": "Ctrl-I"
   },
   "labels_anchors": false,
   "latex_user_defs": false,
   "report_style_numbering": true,
   "user_envs_cfg": true
  }
 },
 "nbformat": 4,
 "nbformat_minor": 2
}
