{
 "cells": [
  {
   "cell_type": "markdown",
   "metadata": {},
   "source": [
    "<h1 align=\"center\">PROGRAMACIÓN DE COMPUTADORES</h1>\n",
    "\n",
    "<h2 align=\"center\">UNIVERSIDAD EAFIT</h2>\n",
    "\n",
    "<h3 align=\"center\">MEDELLÍN - COLOMBIA </h3>"
   ]
  },
  {
   "cell_type": "markdown",
   "metadata": {
    "slideshow": {
     "slide_type": "slide"
    }
   },
   "source": [
    "<h2 align=\"center\">Sesión 01a - Introducción</h2>    "
   ]
  },
  {
   "cell_type": "markdown",
   "metadata": {},
   "source": [
    "### Lenguaje: Python 3.7\n",
    "\n",
    "### Desarrollado en: Notebook Jupyter\n",
    "\n",
    "### Versión: 1.0\n",
    "\n",
    "### Fecha: diciembre de 2018\n",
    "\n",
    "### Autor: Docentes del área\n",
    "\n",
    "#### Medellín, diciembre de 2018"
   ]
  },
  {
   "cell_type": "markdown",
   "metadata": {
    "slideshow": {
     "slide_type": "slide"
    }
   },
   "source": [
    "### TODOS DEBERÍAMOS SABER PROGRAMAR... TODOS!"
   ]
  },
  {
   "cell_type": "code",
   "execution_count": null,
   "metadata": {
    "slideshow": {
     "slide_type": "subslide"
    }
   },
   "outputs": [],
   "source": [
    "from IPython.display import YouTubeVideo, HTML\n",
    "YouTubeVideo('Y1HHBXDL9bg')"
   ]
  },
  {
   "cell_type": "markdown",
   "metadata": {
    "slideshow": {
     "slide_type": "slide"
    }
   },
   "source": [
    "## Coordinador del Curso\n",
    "\n",
    "### [Juan Francisco Cardona Mc'Cormick](http://www.eafit.edu.co/docentes-investigadores/Paginas/juan-cardona.aspx)\n",
    "\n",
    "<img src=\"http://www.eafit.edu.co/docentes-investigadores/PublishingImages/juan-francisco-cardona.jpg\" alt=\"Juan Francisco Cardona Mc'Cormick\" />\n",
    "\n",
    "\n",
    "## Docentes\n",
    "\n",
    "\n",
    "> **César Augusto Ruiz Jaramillo**\n",
    "> - **Magister en Ingeniería U. EAFIT**\n",
    "> - **Correo: cruizjar@eafit.edu.co**\n",
    "\n",
    "<img src=\"https://dl.dropbox.com/s/xl6yt4ca6gi10ix/CesarAugustoRuizJaramillo.jpg\" alt=\"description here\" />\n",
    "\n",
    "\n",
    "> **Myriam Castro Cárdenas**\n",
    "> - **Ingeniera de Sistemas**\n",
    "> - **Magister en Administración  U. EAFIT**\n",
    "> - **Oficina: Bloque 19 - 6 piso - 622**\n",
    "> - **Correo: mcastro@eafit.edu.co**\n",
    "\n",
    "\n",
    "<img src=\"https://dl.dropbox.com/s/9din1v6spp0ojwe/MyriamCastroCardenas.jpg\" alt=\"Carlos Alberto Alvarez Henao\" />\n",
    "\n",
    "> **Carlos Alberto Álvarez Henao**\n",
    "> - **Ingeniero Civil**\n",
    "> - **DSc. Mecánica Computacional - UFRJ/Brasil**\n",
    "> - **Correo: calvar52@eafit.edu.co**\n",
    "\n",
    "<img src=\"https://dl.dropbox.com/s/9ce0ineaewhuu9l/CarlosAlbertoAlvarezHenao.jpg\" alt=\"description here\" />"
   ]
  },
  {
   "cell_type": "markdown",
   "metadata": {
    "slideshow": {
     "slide_type": "slide"
    }
   },
   "source": [
    "## Lenguajes de Programación\n",
    "\n",
    "![Imagen](https://github.com/carlosalvarezh/FundamentosProgramacion_U_EAFIT/blob/master/images/LenguajesProgramacion.jpg?raw=true \"\")"
   ]
  },
  {
   "cell_type": "markdown",
   "metadata": {
    "slideshow": {
     "slide_type": "slide"
    }
   },
   "source": [
    "## Por qué usar Python?"
   ]
  },
  {
   "cell_type": "markdown",
   "metadata": {
    "slideshow": {
     "slide_type": "fragment"
    }
   },
   "source": [
    "# Justificación\n",
    "\n",
    "> Python es un lenguaje de programación multiplataforma, algunas de sus ventajas son: ayuda a mejorar la productividad ya que permite trabajar mucho más rápido que cualquier otro lenguaje, es versátil y soporta programación orientada a objetos, cuenta con una gran extensión de librerías para un mejor uso, es un lenguaje de programación sostenible lo cual permite leer y modificar de una manera fácil los programas."
   ]
  },
  {
   "cell_type": "markdown",
   "metadata": {
    "slideshow": {
     "slide_type": "subslide"
    }
   },
   "source": [
    "## Con Python se pueden hacer:\n",
    "\n",
    "- Aplicaciones Web.\n",
    "\n",
    "- Análisis de Datos.\n",
    "\n",
    "- Aprendizajes de Maquina.\n",
    "\n",
    "- Visión Artificial.\n",
    "\n",
    "- Robótica, programar \"pequeñas\" computadoras(Raspberry Pi).\n",
    "\n",
    "- Juegos.\n",
    "\n",
    "- Web Scraping.\n",
    "\n",
    "- Automatizar(Scripts)"
   ]
  },
  {
   "cell_type": "markdown",
   "metadata": {
    "slideshow": {
     "slide_type": "subslide"
    }
   },
   "source": [
    "## Algunas Empresas que usan Python:\n",
    "\n",
    "![Imagen](https://github.com/carlosalvarezh/FundamentosProgramacion_U_EAFIT/blob/master/images/PythonUsage.png?raw=true \"\")\n"
   ]
  },
  {
   "cell_type": "markdown",
   "metadata": {
    "slideshow": {
     "slide_type": "subslide"
    }
   },
   "source": [
    "## Lenguajes de Programación más usados a nivel mundial:"
   ]
  },
  {
   "cell_type": "code",
   "execution_count": null,
   "metadata": {
    "slideshow": {
     "slide_type": "fragment"
    }
   },
   "outputs": [],
   "source": [
    "HTML('<iframe src=\"https://www.tiobe.com/tiobe-index/\" width=\"1000\" height=\"800\"></iframe>')"
   ]
  },
  {
   "cell_type": "markdown",
   "metadata": {
    "slideshow": {
     "slide_type": "subslide"
    }
   },
   "source": [
    "## Objetivo General:\n",
    "\n",
    "- Manejar conceptos básicos de programación Python orientando al participante en el conocimiento de la sintaxis y creación de programas."
   ]
  },
  {
   "cell_type": "markdown",
   "metadata": {
    "slideshow": {
     "slide_type": "fragment"
    }
   },
   "source": [
    "## Competencias:\n",
    "\n",
    "> Tras participar del proceso cognoscitivo y práctico, se espera que el alumno este en capacidad de :\n",
    "Entender la sintaxis de lenguaje Python al leer fuentes de otros programadores.\n",
    "Crear(Escribir) Scripts en Python, para crear diferentes tipos de aplicaciones como tipo consola(terminal),TUI,GUI y la básicas de la Web."
   ]
  },
  {
   "cell_type": "markdown",
   "metadata": {
    "slideshow": {
     "slide_type": "fragment"
    }
   },
   "source": [
    "## Público Objetivo:\n",
    "\n",
    "> Todas las personas que deseen aprender un lenguaje de programación, múltiples propósitos y diferentes tipos de aplicaciones."
   ]
  },
  {
   "cell_type": "markdown",
   "metadata": {
    "slideshow": {
     "slide_type": "slide"
    }
   },
   "source": [
    "## Programa"
   ]
  },
  {
   "cell_type": "markdown",
   "metadata": {
    "slideshow": {
     "slide_type": "fragment"
    }
   },
   "source": [
    "|**Semana** | **Fecha**         |**Contenido** |**Actividad Evaluativa**|\n",
    "|:-----:|:-------------:|-----------|----------------------|\n",
    "|01     |01/21-01/26 |[Presentación e Introducción, Entorno e Instalación, Herramientas: IDE’s (Jupyter, repl.it)Entrada y Salida Básica. Tipos y Variables](https://github.com/carlosalvarezh/FundamentosProgramacion_U_EAFIT/blob/master/Sesion01_Presentacion.ipynb?raw=true \"\") |      |\n",
    "|02|01/28-02/01|Condiciones y Lógica Boolean||\n",
    "|03|02/04-02/08|Ciclos||\n",
    "|04|02/11-02/15|Funciones||\n",
    "|05|02/18-02/22|I/O-02a: Manipulación de archivos|Taller 01|\n",
    "|06|02/25-03/01|I/O-02b: CSV, Manejo de Excepciones||\n",
    "|07|03/04-03/08|Listas, Strings||\n",
    "|08|03/11-03/15|Tuplas, Conjuntos (sets), Diccionarios||\n",
    "|09|03/18-03/22|Algoritmos 1: Búsqueda y Ordenamiento||\n",
    "|10|03/25-03/29|Algoritmos 2: Búsqueda y Ordenamiento||\n",
    "|11|04/01-04/05|Programación Orientada a Objetos (POO): Clases, Objetos, Instancias, Herencia, Constructores (Init)|Taller 02|\n",
    "|12|04/08-04/12|Programación Orientada a Objetos (POO): Módulos, Bibliotecas||\n",
    "|--|04/15-04/19|Semana Santa||\n",
    "|13|04/22-04/26|Ecosistema Python: Bibliotecas científicas (Numpy)||\n",
    "|14|04/29-05/03|Ecosistema Python: Bibliotecas Visualización (Matplotlib)||\n",
    "|15|05/06-05/10|Ecosistema Python: Bibliotecas Visualización de Información (Pandas)||\n",
    "|16|05/13-05/17|Cierre: Integración de temas vistos en el curso|Taller 03|\n",
    "|--|05/20 - 05/24|Semana de Colchón ||\n"
   ]
  },
  {
   "cell_type": "markdown",
   "metadata": {
    "slideshow": {
     "slide_type": "subslide"
    }
   },
   "source": [
    "## Evaluación\n",
    "\n",
    "- Tres (3) talleres del 20% c/u - 60%\n",
    "- Evaluación de seguimiento - 20%\n",
    "- Exámen final - 20%"
   ]
  },
  {
   "cell_type": "markdown",
   "metadata": {},
   "source": [
    "# Por dónde empiezo? \n",
    "\n",
    "Lo primero es elegir una herramienta de trabajo sobre la cual realizar el código. A continuación me permito compartirles solo algunas herramientas de esas que he tenido la oportunidad de revisar y me parecen apropiadas para un curso de este nivel. No son las únicas, por el contrario, existen muchas otras más, quizás mejores, dependiendo del interés particular de desarrollo de cada quién. "
   ]
  },
  {
   "cell_type": "markdown",
   "metadata": {
    "slideshow": {
     "slide_type": "slide"
    }
   },
   "source": [
    "## Editores, IDE's\n",
    "**IDE** (*Integrated Development Environment*) o *Entorno de Desarrollo Integrado*, es una aplicación informática que permite la integración de varios servicios que permiten el desarrollo de un software o programa de computador. \n",
    "\n",
    "Normalmente consiste de:\n",
    "\n",
    "- Editor de Código fuente\n",
    "\n",
    "- Depurador"
   ]
  },
  {
   "cell_type": "markdown",
   "metadata": {
    "slideshow": {
     "slide_type": "subslide"
    }
   },
   "source": [
    "> [PSeInt](http://pseint.sourceforge.net/ \"PSeInt\")"
   ]
  },
  {
   "cell_type": "code",
   "execution_count": null,
   "metadata": {
    "slideshow": {
     "slide_type": "fragment"
    }
   },
   "outputs": [],
   "source": [
    "HTML('<iframe src=\"http://pseint.sourceforge.net/\" width=\"1200\" height=\"800\"></iframe>')"
   ]
  },
  {
   "cell_type": "markdown",
   "metadata": {
    "slideshow": {
     "slide_type": "subslide"
    }
   },
   "source": [
    "> [Jupyter](http://jupyter.org/ \"Jupyter\")"
   ]
  },
  {
   "cell_type": "code",
   "execution_count": null,
   "metadata": {
    "slideshow": {
     "slide_type": "fragment"
    }
   },
   "outputs": [],
   "source": [
    "HTML('<iframe src=\"http://jupyter.org\" width=\"1200\" height=\"800\"></iframe>')"
   ]
  },
  {
   "cell_type": "markdown",
   "metadata": {
    "slideshow": {
     "slide_type": "subslide"
    }
   },
   "source": [
    "> [Anaconda](https://www.anaconda.com/ \"Anaconda\")"
   ]
  },
  {
   "cell_type": "code",
   "execution_count": null,
   "metadata": {
    "scrolled": true,
    "slideshow": {
     "slide_type": "fragment"
    }
   },
   "outputs": [],
   "source": [
    "HTML('<iframe src=\"https://www.anaconda.com/\" width=\"1200\" height=\"800\"></iframe>')"
   ]
  },
  {
   "cell_type": "markdown",
   "metadata": {
    "slideshow": {
     "slide_type": "subslide"
    }
   },
   "source": [
    "> [PyCharm](https://www.jetbrains.com/pycharm-edu/ \"PyCharm\")"
   ]
  },
  {
   "cell_type": "code",
   "execution_count": null,
   "metadata": {
    "slideshow": {
     "slide_type": "fragment"
    }
   },
   "outputs": [],
   "source": [
    "HTML('<iframe src=\"https://www.jetbrains.com/pycharm-edu/\" width=\"800\" height=\"600\"></iframe>')"
   ]
  },
  {
   "cell_type": "markdown",
   "metadata": {
    "slideshow": {
     "slide_type": "subslide"
    }
   },
   "source": [
    "> [repl.it](https://www.repl.it \"repl.it\")"
   ]
  },
  {
   "cell_type": "code",
   "execution_count": null,
   "metadata": {
    "slideshow": {
     "slide_type": "fragment"
    }
   },
   "outputs": [],
   "source": [
    "HTML('<iframe src=\"https://www.repl.it\" width=\"1200\" height=\"800\"></iframe>')"
   ]
  },
  {
   "cell_type": "markdown",
   "metadata": {
    "slideshow": {
     "slide_type": "subslide"
    }
   },
   "source": [
    "> [Notepad](http://notepad-plus-plus.org/ \"Notepad\")"
   ]
  },
  {
   "cell_type": "code",
   "execution_count": null,
   "metadata": {
    "slideshow": {
     "slide_type": "fragment"
    }
   },
   "outputs": [],
   "source": [
    "HTML('<iframe src=\"http://notepad-plus-plus.org/\" width=\"1200\" height=\"800\"></iframe>')"
   ]
  },
  {
   "cell_type": "markdown",
   "metadata": {
    "slideshow": {
     "slide_type": "slide"
    }
   },
   "source": [
    "## De dónde obtengo información para aprender a programar?"
   ]
  },
  {
   "cell_type": "markdown",
   "metadata": {
    "slideshow": {
     "slide_type": "subslide"
    }
   },
   "source": [
    "> [Farrell, Joyce. Introducción a la programación Lógica y Diseño. 7a Ed. México: Cengage Learning, 2013.](http://latinoamerica.cengage.com/ls/introduccion-a-la-programacion-logica-y-diseno-7a-ed/ \"Farrell, Joyce. Introducción a la programación Lógica y Diseño\")"
   ]
  },
  {
   "cell_type": "code",
   "execution_count": null,
   "metadata": {
    "slideshow": {
     "slide_type": "fragment"
    }
   },
   "outputs": [],
   "source": [
    "HTML('<iframe src=\"http://latinoamerica.cengage.com/ls/introduccion-a-la-programacion-logica-y-diseno-7a-ed/\" width=\"1200\" height=\"800\"></iframe>')"
   ]
  },
  {
   "cell_type": "markdown",
   "metadata": {
    "slideshow": {
     "slide_type": "subslide"
    }
   },
   "source": [
    "> [Pinales D., Francisco Javier. Velázquez A., César Edaurdo. Algoritmos Resueltos con Diagramas de Flujo y Pseudocódigo.](http://www.uaa.mx/direcciones/dgdv/editorial/docs/algoritmos.pdf \"Pinales D., Francisco Javier. Velázquez A., César Edaurdo. Algoritmos Resueltos con Diagramas de Flujo y Pseudocódigo\")"
   ]
  },
  {
   "cell_type": "code",
   "execution_count": null,
   "metadata": {
    "slideshow": {
     "slide_type": "fragment"
    }
   },
   "outputs": [],
   "source": [
    "HTML('<iframe src=\"http://www.uaa.mx/direcciones/dgdv/editorial/docs/algoritmos.pdf\" width=\"1200\" height=\"800\"></iframe>')"
   ]
  },
  {
   "cell_type": "markdown",
   "metadata": {
    "slideshow": {
     "slide_type": "subslide"
    }
   },
   "source": [
    "> [Python.org](https://www.python.org/ \"Python.org\")"
   ]
  },
  {
   "cell_type": "code",
   "execution_count": null,
   "metadata": {
    "slideshow": {
     "slide_type": "fragment"
    }
   },
   "outputs": [],
   "source": [
    "HTML('<iframe src=\"https://www.python.org/\" width=\"1200\" height=\"800\"></iframe>')"
   ]
  },
  {
   "cell_type": "markdown",
   "metadata": {
    "slideshow": {
     "slide_type": "subslide"
    }
   },
   "source": [
    "> [Downey, Allen B. Think Python. 2a Ed. Green Tea Press.](http://greenteapress.com/wp/think-python-2e/ \"Downey, Allen B. Think Python\")"
   ]
  },
  {
   "cell_type": "code",
   "execution_count": null,
   "metadata": {
    "slideshow": {
     "slide_type": "fragment"
    }
   },
   "outputs": [],
   "source": [
    "HTML('<iframe src=\"http://greenteapress.com/wp/think-python-2e/\" width=\"1200\" height=\"800\"></iframe>')"
   ]
  },
  {
   "cell_type": "markdown",
   "metadata": {
    "slideshow": {
     "slide_type": "subslide"
    }
   },
   "source": [
    "> [Gonzalez Duque, Raul. Python para todos.](http://mundogeek.net/tutorial-python/ \"Gonzalez Duque, Raul. Python para todos.\")"
   ]
  },
  {
   "cell_type": "code",
   "execution_count": null,
   "metadata": {
    "slideshow": {
     "slide_type": "fragment"
    }
   },
   "outputs": [],
   "source": [
    "HTML('<iframe src=\"http://mundogeek.net/tutorial-python/\" width=\"1200\" height=\"800\"></iframe>')"
   ]
  },
  {
   "cell_type": "markdown",
   "metadata": {
    "slideshow": {
     "slide_type": "subslide"
    }
   },
   "source": [
    "> [Coursera](https://www.coursera.org/ \"Coursera\")"
   ]
  },
  {
   "cell_type": "code",
   "execution_count": null,
   "metadata": {
    "slideshow": {
     "slide_type": "fragment"
    }
   },
   "outputs": [],
   "source": [
    "HTML('<iframe src=\"https://www.coursera.org/\" width=\"1200\" height=\"800\"></iframe>')"
   ]
  },
  {
   "cell_type": "markdown",
   "metadata": {
    "slideshow": {
     "slide_type": "subslide"
    }
   },
   "source": [
    "> [Udemy](https://www.udemy.com/ \"Udemy\")"
   ]
  },
  {
   "cell_type": "code",
   "execution_count": null,
   "metadata": {
    "slideshow": {
     "slide_type": "fragment"
    }
   },
   "outputs": [],
   "source": [
    "HTML('<iframe src=\"https://www.udemy.com/\" width=\"1200\" height=\"800\"></iframe>')"
   ]
  },
  {
   "cell_type": "code",
   "execution_count": null,
   "metadata": {
    "slideshow": {
     "slide_type": "slide"
    }
   },
   "outputs": [],
   "source": [
    "from IPython.core.display import HTML\n",
    "def css_styling():\n",
    "    styles = open(\"custom.css\", \"r\").read()\n",
    "    return HTML(styles)\n",
    "css_styling()"
   ]
  }
 ],
 "metadata": {
  "kernelspec": {
   "display_name": "Python 3",
   "language": "python",
   "name": "python3"
  },
  "language_info": {
   "codemirror_mode": {
    "name": "ipython",
    "version": 3
   },
   "file_extension": ".py",
   "mimetype": "text/x-python",
   "name": "python",
   "nbconvert_exporter": "python",
   "pygments_lexer": "ipython3",
   "version": "3.6.3"
  },
  "latex_envs": {
   "LaTeX_envs_menu_present": true,
   "autocomplete": true,
   "bibliofile": "biblio.bib",
   "cite_by": "apalike",
   "current_citInitial": 1,
   "eqLabelWithNumbers": true,
   "eqNumInitial": 1,
   "hotkeys": {
    "equation": "Ctrl-E",
    "itemize": "Ctrl-I"
   },
   "labels_anchors": false,
   "latex_user_defs": false,
   "report_style_numbering": true,
   "user_envs_cfg": true
  }
 },
 "nbformat": 4,
 "nbformat_minor": 2
}
