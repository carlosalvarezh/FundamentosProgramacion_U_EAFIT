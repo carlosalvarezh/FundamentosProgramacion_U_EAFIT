{
 "cells": [
  {
   "cell_type": "markdown",
   "metadata": {
    "slideshow": {
     "slide_type": "slide"
    }
   },
   "source": [
    "<h1 align=\"center\">PROGRAMACIÓN DE COMPUTADORES </h1>\n",
    "\n",
    "<h2 align=\"center\">UNIVERSIDAD EAFIT</h2>\n",
    "\n",
    "<h3 align=\"center\">MEDELLÍN - COLOMBIA </h3>"
   ]
  },
  {
   "cell_type": "markdown",
   "metadata": {
    "slideshow": {
     "slide_type": "slide"
    }
   },
   "source": [
    "<h2 align=\"center\">Sesión 01_02 - Introducción</h2>    "
   ]
  },
  {
   "cell_type": "markdown",
   "metadata": {
    "collapsed": true,
    "slideshow": {
     "slide_type": "slide"
    }
   },
   "source": [
    "## Agenda\n"
   ]
  },
  {
   "cell_type": "markdown",
   "metadata": {
    "slideshow": {
     "slide_type": "subslide"
    }
   },
   "source": [
    "- Principales conceptos Hardware y Software\n",
    "\n",
    "- Programación\n",
    "\n",
    "- Ciclo de desarrollo de un programa"
   ]
  },
  {
   "cell_type": "markdown",
   "metadata": {
    "slideshow": {
     "slide_type": "slide"
    }
   },
   "source": [
    "### Objetivos\n"
   ]
  },
  {
   "cell_type": "markdown",
   "metadata": {
    "slideshow": {
     "slide_type": "subslide"
    }
   },
   "source": [
    "- **Identificar** la importancia de la programación.\n",
    "\n",
    "- **Relacionar** los diferentes términos y conceptos del hardware y software.\n",
    "\n",
    "- **Conocer** los conceptos básicos de la programación: \n",
    "    - Algoritmo \n",
    "    - Programas\n",
    "    - Lenguajes de Programación.\n"
   ]
  },
  {
   "cell_type": "markdown",
   "metadata": {
    "slideshow": {
     "slide_type": "slide"
    }
   },
   "source": [
    "### Que es un sistema?\n",
    "\n",
    "- Un sistema es una colección intencional de componentes interrelacionados, de  diferentes tipos, que trabajan juntos para lograr un objetivo.\n",
    "\n",
    "\n",
    "***Ejemplos:***\n",
    "\n",
    "- Sistemas de computo; \n",
    "\n",
    "- sistemas operativos; \n",
    "\n",
    "- sistemas de pago; \n",
    "\n",
    "- sistema de educación; \n",
    "\n",
    "- sistema de nervioso; \n",
    "\n",
    "- etc. "
   ]
  },
  {
   "cell_type": "markdown",
   "metadata": {
    "slideshow": {
     "slide_type": "slide"
    }
   },
   "source": [
    "### Características de un Sistema\n",
    "\n",
    "- Un sistema puede incluir el software, hardware, componentes eléctricos y electrónicos y ser manejado por personas.\n",
    "\n",
    "\n",
    "- Los componentes del sistema dependen de otros componentes del sistema.\n",
    "\n",
    "\n",
    "- Las propiedades y el comportamiento de los componentes del sistema están obligatoriamente entremezclados."
   ]
  },
  {
   "cell_type": "markdown",
   "metadata": {},
   "source": [
    "![Imagen](https://github.com/carlosalvarezh/FundamentosProgramacion_U_EAFIT/blob/master/images/Sistema.PNG?raw=true \"\")"
   ]
  },
  {
   "cell_type": "markdown",
   "metadata": {
    "slideshow": {
     "slide_type": "slide"
    }
   },
   "source": [
    "### Sistema de Cómputo:\n",
    "\n",
    "Un sistema de computo es un conjunto de elementos eléctricos que interactúan entre sí, operando sobre información. \n",
    "\n",
    "\n",
    "- **Hardware:** son componentes físicos.\n",
    "\n",
    "\n",
    "- **Software:** los componentes lógicos e intangibles que indican al hardware las tareas que debe ejecutar"
   ]
  },
  {
   "cell_type": "markdown",
   "metadata": {
    "slideshow": {
     "slide_type": "slide"
    }
   },
   "source": [
    "### Qué es el Software?\n",
    "\n",
    "#### Definición según estándar 729 IEEE:\n",
    "\n",
    "> *“Es el conjunto de los programas de computo, procedimientos, reglas, documentación y datos asociados que forman parte de las operaciones de un sistema de computación”*"
   ]
  },
  {
   "cell_type": "markdown",
   "metadata": {
    "slideshow": {
     "slide_type": "slide"
    }
   },
   "source": [
    "### Tipos de Software:\n",
    "\n",
    "\n",
    "- **Software del sistema:**  Es el programa que controla, coordina y gestiona el hardware. Le dice al computador como usar sus propios componentes. \n",
    "\n",
    "\n",
    "- **Software de programación:** Es el programa usado para ejecutar otros programas. \n",
    "\n",
    "\n",
    "- **Software de aplicación:** Programa usado para trabajar con el computador. Le dice al computador como realizar las tareas que pide el usuario."
   ]
  },
  {
   "cell_type": "markdown",
   "metadata": {
    "slideshow": {
     "slide_type": "slide"
    }
   },
   "source": [
    "### Operaciones de los Sistemas de Cómputo:\n",
    "\n",
    "- **Entrada:** datos, instrucciones o información. \n",
    "\n",
    "\n",
    "- **Procesamiento:** “Operaciones” que transforman la entrada en la salida. \n",
    "\n",
    "\n",
    "- **Salida:** El resultado de aquello que fue ejecutado. \n",
    "\n",
    "\n",
    "**Nota:** puede haber almacenamiento de información"
   ]
  },
  {
   "cell_type": "markdown",
   "metadata": {
    "slideshow": {
     "slide_type": "slide"
    }
   },
   "source": [
    "![Imagen](https://github.com/carlosalvarezh/FundamentosProgramacion_U_EAFIT/blob/master/images/Sistema1.PNG?raw=true \"\")"
   ]
  },
  {
   "cell_type": "markdown",
   "metadata": {
    "slideshow": {
     "slide_type": "slide"
    }
   },
   "source": [
    "### Qué es un Lenguaje de Programación?\n",
    "\n",
    "- Es un *sistema notacional* para describir computaciones en una forma legible tanto para la maquina como para el ser humano.\n",
    "\n",
    "\n",
    "- Es un *lenguaje formal* y/o *estructurado* (Reglas semánticas y sintácticas) para expresar procesos y/o comportamientos físicos y lógicos que pueden ser ejecutados por computadoras. \n"
   ]
  },
  {
   "cell_type": "markdown",
   "metadata": {
    "slideshow": {
     "slide_type": "slide"
    }
   },
   "source": [
    "### Sintaxis vs Semántica\n",
    "\n",
    "\n",
    "- **Semántica:** Significado\n",
    "\n",
    "  - Violación Semántica: “El sol sube arriba Spotify hace dos días Netflix”\n",
    "  \n",
    "  Es español, pero no dice nada!!!\n",
    "\n",
    "\n",
    "\n",
    "- **Sintaxis:** Forma\n",
    "\n",
    "  - Violación Sintáctica: “estoy yo de pie”\n",
    "  \n",
    "  Puedes inferir a qué se refiere pero no está bien dicho, no sigue las reglas del español.\n"
   ]
  },
  {
   "cell_type": "markdown",
   "metadata": {
    "slideshow": {
     "slide_type": "slide"
    }
   },
   "source": [
    "### Lenguaje de Máquina\n",
    "\n",
    "\n",
    "- Es el sistema de códigos directamente interpretable por un circuito.\n"
   ]
  },
  {
   "cell_type": "markdown",
   "metadata": {
    "slideshow": {
     "slide_type": "subslide"
    }
   },
   "source": [
    "### Lenguaje Ensamblador\n",
    "\n",
    "- Implementa una representación simbólica de los códigos de máquina binarios y otras constantes, este es la representación más directa del código máquina especificado por cada arquitectura."
   ]
  },
  {
   "cell_type": "markdown",
   "metadata": {
    "slideshow": {
     "slide_type": "subslide"
    }
   },
   "source": [
    "### Lenguaje de Alto Nivel\n",
    "\n",
    "- De un nivel más alto de abstracción que el lenguaje de máquina. \n",
    "\n",
    "\n",
    "- Expresa algoritmos de una manera adecuada a la capacidad cognitiva humana.\n"
   ]
  },
  {
   "cell_type": "markdown",
   "metadata": {
    "slideshow": {
     "slide_type": "slide"
    }
   },
   "source": [
    "### Interpretación y Compilación\n",
    "\n",
    "\n",
    "- **Lenguajes interpretados:** Como su nombre lo dice, están destinados a ser ejecutados utilizando un interprete. O sea, sus instrucciones se interpretan una a una en tiempo de ejecución a un lenguaje intermedio o lenguaje máquina o a través de una máquina virtual.\n",
    "\n",
    "\n",
    "- **Lenguajes compilados:**  Son lenguajes que utilizan un compilador, o sea, éste se traduce a partir de su código fuente por medio de un compilador en un archivo ejecutable para una determinada plataforma. \n"
   ]
  },
  {
   "cell_type": "markdown",
   "metadata": {
    "slideshow": {
     "slide_type": "slide"
    }
   },
   "source": [
    "### Ciclo de Desarrollo de un Programa\n",
    "\n",
    "1. Entender el problema\n",
    "\n",
    "\n",
    "2. Planear la lógica\n",
    "\n",
    "\n",
    "3. Codificar el programa\n",
    "\n",
    "\n",
    "4. Usar software (un compilador o intérprete) para traducir el programa a lenguaje de máquina\n",
    "\n",
    "\n",
    "5. Probar el programa\n",
    "\n",
    "\n",
    "6. Poner el programa en producción\n",
    "\n",
    "\n",
    "7. Mantener el programa\n"
   ]
  },
  {
   "cell_type": "markdown",
   "metadata": {
    "slideshow": {
     "slide_type": "slide"
    }
   },
   "source": [
    "### Ciclo de Desarrollo de un Programa\n",
    "\n",
    "- **Diagrama de flujo:** Representación grafica de un proceso o de un algoritmo. \n",
    "\n",
    "- **Seudocódigo:** Es el uso de convenciones estructurales de los lenguajes pero de una forma “informal”. \n",
    "\n",
    "- **Ambiente de desarrollo:** o Integrated Development Environment (IDE) en ingles, es un software que ofrece los servicios integrales de editor, depurador, compilador y/o interpretador para el desarrollo de software\n",
    "\n"
   ]
  },
  {
   "cell_type": "markdown",
   "metadata": {
    "slideshow": {
     "slide_type": "slide"
    }
   },
   "source": [
    "### Seudocódigo:\n",
    "\n",
    "![Imagen](https://github.com/carlosalvarezh/FundamentosProgramacion_U_EAFIT/blob/master/images/Seudocodigo.png?raw=true \"\")\n"
   ]
  },
  {
   "cell_type": "markdown",
   "metadata": {
    "slideshow": {
     "slide_type": "subslide"
    }
   },
   "source": [
    "### Diagrama de Flujo:\n",
    "\n",
    "![Imagen](https://github.com/carlosalvarezh/FundamentosProgramacion_U_EAFIT/blob/master/images/DiagramaFlujo.png?raw=true \"\")"
   ]
  },
  {
   "cell_type": "markdown",
   "metadata": {},
   "source": [
    "### IDE\n",
    "\n",
    "![Imagen](https://github.com/carlosalvarezh/FundamentosProgramacion_U_EAFIT/blob/master/images/IDE.png?raw=true \"\")"
   ]
  },
  {
   "cell_type": "markdown",
   "metadata": {
    "slideshow": {
     "slide_type": "slide"
    }
   },
   "source": [
    "### Algoritmo\n",
    "\n",
    "\n",
    "> *“Secuencia finita de tareas bien definidas, cada una de las cuales se puede realizar con una cantidad finita de recursos”.*\n",
    "\n",
    "\n",
    "- Una tarea está bien definida si se sabe de manera precisa las acciones requeridas para su realización y el orden exacto en que deben ejecutarse.\n",
    "\n",
    "\n",
    "- Ejecutar un algoritmo consiste en realizar las instrucciones que lo conforman, en el orden especificado y utilizando los recursos disponibles.\n",
    "\n",
    "\n",
    "- Usar lenguas especiales para especificar algoritmos se llama … **Programación de Computadores**\n"
   ]
  },
  {
   "cell_type": "markdown",
   "metadata": {
    "slideshow": {
     "slide_type": "slide"
    }
   },
   "source": [
    "### Características de un Algoritmo\n",
    "\n",
    "\n",
    "- **Precisión:** Hay un orden preciso en el cual deben ejecutarse las tareas que conforman el algoritmo.\n",
    "\n",
    "\n",
    "- **Determinismo:** Todas las veces que se realicen las tareas o pasos de un algoritmo, con las mismas condiciones iniciales, se deben obtener resultados idénticos.\n",
    "\n",
    "\n",
    "- **Finitud:** Debe terminar en algún momento y debe usar una cantidad finita de recursos.\n"
   ]
  },
  {
   "cell_type": "markdown",
   "metadata": {
    "slideshow": {
     "slide_type": "slide"
    }
   },
   "source": [
    "### Estructura Básica de un Algoritmo\n",
    "\n",
    "- **Datos:** de entrada, salida o intermedios.\n",
    "\n",
    "\n",
    "- **Instrucciones:** Acciones o procesos que el algoritmo realiza sobre los datos.\n",
    "\n",
    "\n",
    "- **Estructura de Control:** Determinan el orden en que se ejecutarán las instrucciones del algoritmo.\n"
   ]
  },
  {
   "cell_type": "markdown",
   "metadata": {
    "slideshow": {
     "slide_type": "subslide"
    }
   },
   "source": [
    "### Ejemplo de un \"Algoritmo\"\n",
    "\n",
    "- Poner la rueda de repuesto. \n",
    "\n",
    "- Quitar la rueda pinchada. "
   ]
  },
  {
   "cell_type": "markdown",
   "metadata": {
    "slideshow": {
     "slide_type": "subslide"
    }
   },
   "source": [
    "### Ejemplo de un Algoritmo\n",
    "\n",
    "- **PASO 1:** Aflojar los tornillos de la rueda pinchada\n",
    "\n",
    "- **PASO 2:** Quitar los tornillos y la rueda pinchada. \n",
    "\n",
    "- **PASO 3:** Poner rueda de repuesto y los tornillos. \n",
    "\n",
    "- **PASO 4:** Apretar los tornillos con la llave inglesa"
   ]
  },
  {
   "cell_type": "markdown",
   "metadata": {
    "slideshow": {
     "slide_type": "subslide"
    }
   },
   "source": [
    "### Ejemplo de un Algoritmo\n",
    "\n",
    "**Inicio:**\n",
    "- **PASO 1:** Aflojar los tornillos de la rueda pinchada con la llave inglesa. \n",
    "- **PASO 2:** Ubicar el gato mecánico en su sitio. \n",
    "- **PASO 3:** Levantar el gato hasta que la rueda pinchada pueda girar libremente. \n",
    "- **PASO 4:** Quitar los tornillos y la rueda pinchada. \n",
    "- **PASO 5:** Poner rueda de repuesto y los tornillos. \n",
    "- **PASO 6:** Bajar el gato hasta que se pueda liberar. \n",
    "- **PASO 7:** Sacar el gato de su sitio. \n",
    "- **PASO 8:** Apretar los tornillos con la llave inglesa. \n",
    "**Fin**"
   ]
  },
  {
   "cell_type": "code",
   "execution_count": 2,
   "metadata": {},
   "outputs": [
    {
     "data": {
      "text/html": [
       "<style>\n",
       "    @font-face {\n",
       "        font-family: \"Computer Modern\";\n",
       "        src: url('http://mirrors.ctan.org/fonts/cm-unicode/fonts/otf/cmunss.otf');\n",
       "    }\n",
       "    div.cell{\n",
       "        width:800px;\n",
       "        margin-left:16% !important;\n",
       "        margin-right:auto;\n",
       "    }\n",
       "    h1 {\n",
       "        font-family: Helvetica, serif;\n",
       "    }\n",
       "    h2 {\n",
       "        font-family: Helvetica, serif;\n",
       "    }\n",
       "    h4{\n",
       "        margin-top:12px;\n",
       "        margin-bottom: 3px;\n",
       "       }\n",
       "    div.text_cell_render{\n",
       "        font-family: Computer Modern, \"Helvetica Neue\", Arial, Helvetica, Geneva, sans-serif;\n",
       "        line-height: 135%;\n",
       "        font-size: 120%;\n",
       "        width:600px;\n",
       "        margin-left:auto;\n",
       "        margin-right:auto;\n",
       "    }\n",
       "    .CodeMirror{\n",
       "            font-family: \"Source Code Pro\", source-code-pro,Consolas, monospace;\n",
       "    }\n",
       "/*    .prompt{\n",
       "        display: None;\n",
       "    }*/\n",
       "    .text_cell_render h5 {\n",
       "        font-weight: 300;\n",
       "        font-size: 16pt;\n",
       "        color: #4057A1;\n",
       "        font-style: italic;\n",
       "        margin-bottom: .5em;\n",
       "        margin-top: 0.5em;\n",
       "        display: block;\n",
       "    }\n",
       "    \n",
       "    .warning{\n",
       "        color: rgb( 240, 20, 20 )\n",
       "        }  \n",
       "</style>\n",
       "<script>\n",
       "    MathJax.Hub.Config({\n",
       "                        TeX: {\n",
       "                           extensions: [\"AMSmath.js\"]\n",
       "                           },\n",
       "                tex2jax: {\n",
       "                    inlineMath: [ ['$','$'], [\"\\\\(\",\"\\\\)\"] ],\n",
       "                    displayMath: [ ['$$','$$'], [\"\\\\[\",\"\\\\]\"] ]\n",
       "                },\n",
       "                displayAlign: 'center', // Change this to 'center' to center equations.\n",
       "                \"HTML-CSS\": {\n",
       "                    styles: {'.MathJax_Display': {\"margin\": 4}}\n",
       "                }\n",
       "        });\n",
       "</script>"
      ],
      "text/plain": [
       "<IPython.core.display.HTML object>"
      ]
     },
     "execution_count": 2,
     "metadata": {},
     "output_type": "execute_result"
    }
   ],
   "source": [
    "from IPython.core.display import HTML\n",
    "def css_styling():\n",
    "    styles = open(\"custom.css\", \"r\").read()\n",
    "    return HTML(styles)\n",
    "css_styling()"
   ]
  },
  {
   "cell_type": "code",
   "execution_count": null,
   "metadata": {},
   "outputs": [],
   "source": []
  }
 ],
 "metadata": {
  "celltoolbar": "Slideshow",
  "kernelspec": {
   "display_name": "Python 3",
   "language": "python",
   "name": "python3"
  },
  "language_info": {
   "codemirror_mode": {
    "name": "ipython",
    "version": 3
   },
   "file_extension": ".py",
   "mimetype": "text/x-python",
   "name": "python",
   "nbconvert_exporter": "python",
   "pygments_lexer": "ipython3",
   "version": "3.7.6"
  },
  "latex_envs": {
   "LaTeX_envs_menu_present": true,
   "autocomplete": true,
   "bibliofile": "biblio.bib",
   "cite_by": "apalike",
   "current_citInitial": 1,
   "eqLabelWithNumbers": true,
   "eqNumInitial": 1,
   "hotkeys": {
    "equation": "Ctrl-E",
    "itemize": "Ctrl-I"
   },
   "labels_anchors": false,
   "latex_user_defs": false,
   "report_style_numbering": true,
   "user_envs_cfg": true
  }
 },
 "nbformat": 4,
 "nbformat_minor": 2
}
