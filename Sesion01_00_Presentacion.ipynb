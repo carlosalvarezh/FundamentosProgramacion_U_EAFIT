{
 "cells": [
  {
   "cell_type": "markdown",
   "metadata": {
    "slideshow": {
     "slide_type": "slide"
    }
   },
   "source": [
    "<h1 align=\"center\">PROGRAMACIÓN DE COMPUTADORES</h1>\n",
    "\n",
    "<h2 align=\"center\">UNIVERSIDAD EAFIT</h2>\n",
    "\n",
    "<h3 align=\"center\">MEDELLÍN - COLOMBIA </h3>"
   ]
  },
  {
   "cell_type": "markdown",
   "metadata": {
    "slideshow": {
     "slide_type": "fragment"
    }
   },
   "source": [
    "<h2 align=\"center\">Sesión 01_00 - Presentación del Curso</h2>    "
   ]
  },
  {
   "cell_type": "markdown",
   "metadata": {
    "slideshow": {
     "slide_type": "subslide"
    }
   },
   "source": [
    "### Lenguaje: Python 3.7\n",
    "\n",
    "### Desarrollado en: Notebook Jupyter\n",
    "\n",
    "### Versión: 1.0\n",
    "\n",
    "### Fecha: enero de 2019\n",
    "\n",
    "### Autor: Docentes del área\n",
    "\n",
    "#### Medellín, enero de 2019"
   ]
  },
  {
   "cell_type": "markdown",
   "metadata": {
    "slideshow": {
     "slide_type": "slide"
    }
   },
   "source": [
    "### TODOS DEBERÍAMOS SABER PROGRAMAR... TODOS!"
   ]
  },
  {
   "cell_type": "code",
   "execution_count": null,
   "metadata": {
    "slideshow": {
     "slide_type": "subslide"
    }
   },
   "outputs": [],
   "source": [
    "from IPython.display import YouTubeVideo, HTML\n",
    "YouTubeVideo('Y1HHBXDL9bg')"
   ]
  },
  {
   "cell_type": "markdown",
   "metadata": {
    "slideshow": {
     "slide_type": "slide"
    }
   },
   "source": [
    "## Coordinador del Curso\n",
    "\n",
    "### [Juan Francisco Cardona Mc'Cormick](http://www.eafit.edu.co/docentes-investigadores/Paginas/juan-cardona.aspx)\n",
    "\n",
    "<img src=\"http://www.eafit.edu.co/docentes-investigadores/PublishingImages/juan-francisco-cardona.jpg\" alt=\"Juan Francisco Cardona Mc'Cormick\" />\n",
    "\n",
    "\n",
    "## Docentes\n",
    "\n",
    "\n",
    "> **César Augusto Ruiz Jaramillo**\n",
    "> - **Magister en Ingeniería U. EAFIT**\n",
    "> - **Correo: cruizjar@eafit.edu.co**\n",
    "\n",
    "<img src=\"https://dl.dropbox.com/s/xl6yt4ca6gi10ix/CesarAugustoRuizJaramillo.jpg\" alt=\"description here\" />\n",
    "\n",
    "\n",
    "> **Myriam Castro Cárdenas**\n",
    "> - **Ingeniera de Sistemas**\n",
    "> - **Magister en Administración  U. EAFIT**\n",
    "> - **Oficina: Bloque 19 - 6 piso - 622**\n",
    "> - **Correo: mcastro@eafit.edu.co**\n",
    "\n",
    "\n",
    "<img src=\"https://dl.dropbox.com/s/9din1v6spp0ojwe/MyriamCastroCardenas.jpg\" alt=\"Carlos Alberto Alvarez Henao\" />\n",
    "\n",
    "> **Carlos Alberto Álvarez Henao**\n",
    "> - **Ingeniero Civil**\n",
    "> - **DSc. Mecánica Computacional - UFRJ/Brasil**\n",
    "> - **Correo: calvar52@eafit.edu.co**\n",
    "\n",
    "<img src=\"https://dl.dropbox.com/s/9ce0ineaewhuu9l/CarlosAlbertoAlvarezHenao.jpg\" alt=\"description here\" />"
   ]
  },
  {
   "cell_type": "markdown",
   "metadata": {
    "slideshow": {
     "slide_type": "slide"
    }
   },
   "source": [
    "## Lenguajes de Programación\n",
    "\n",
    "![Imagen](https://github.com/carlosalvarezh/FundamentosProgramacion_U_EAFIT/blob/master/images/LenguajesProgramacion.jpg?raw=true \"\")"
   ]
  },
  {
   "cell_type": "markdown",
   "metadata": {
    "slideshow": {
     "slide_type": "slide"
    }
   },
   "source": [
    "## Por qué usar Python?"
   ]
  },
  {
   "cell_type": "markdown",
   "metadata": {
    "slideshow": {
     "slide_type": "fragment"
    }
   },
   "source": [
    "# Justificación\n",
    "\n",
    "> Python es un lenguaje de programación multiplataforma, algunas de sus ventajas son: ayuda a mejorar la productividad ya que permite trabajar mucho más rápido que cualquier otro lenguaje, es versátil y soporta programación orientada a objetos, cuenta con una gran extensión de librerías para un mejor uso, es un lenguaje de programación sostenible lo cual permite leer y modificar de una manera fácil los programas."
   ]
  },
  {
   "cell_type": "markdown",
   "metadata": {
    "slideshow": {
     "slide_type": "subslide"
    }
   },
   "source": [
    "## Con Python se pueden hacer:\n",
    "\n",
    "- Aplicaciones Web.\n",
    "\n",
    "- Análisis de Datos.\n",
    "\n",
    "- Aprendizajes de Maquina.\n",
    "\n",
    "- Visión Artificial.\n",
    "\n",
    "- Robótica, programar \"pequeñas\" computadoras(Raspberry Pi).\n",
    "\n",
    "- Juegos.\n",
    "\n",
    "- Web Scraping.\n",
    "\n",
    "- Automatizar(Scripts)"
   ]
  },
  {
   "cell_type": "markdown",
   "metadata": {
    "slideshow": {
     "slide_type": "subslide"
    }
   },
   "source": [
    "## Algunas Empresas que usan Python:\n",
    "\n",
    "![Imagen](https://github.com/carlosalvarezh/FundamentosProgramacion_U_EAFIT/blob/master/images/PythonUsage.png?raw=true \"\")\n"
   ]
  },
  {
   "cell_type": "markdown",
   "metadata": {
    "slideshow": {
     "slide_type": "subslide"
    }
   },
   "source": [
    "## Lenguajes de Programación más usados a nivel mundial:"
   ]
  },
  {
   "cell_type": "code",
   "execution_count": null,
   "metadata": {
    "slideshow": {
     "slide_type": "fragment"
    }
   },
   "outputs": [],
   "source": [
    "HTML('<iframe src=\"https://www.tiobe.com/tiobe-index/\" width=\"1000\" height=\"800\"></iframe>')"
   ]
  },
  {
   "cell_type": "markdown",
   "metadata": {
    "slideshow": {
     "slide_type": "subslide"
    }
   },
   "source": [
    "## Objetivo General:\n",
    "\n",
    "- Manejar conceptos básicos de programación Python orientando al participante en el conocimiento de la sintaxis y creación de programas."
   ]
  },
  {
   "cell_type": "markdown",
   "metadata": {
    "slideshow": {
     "slide_type": "fragment"
    }
   },
   "source": [
    "## Competencias:\n",
    "\n",
    "> Tras participar del proceso cognoscitivo y práctico, se espera que el alumno este en capacidad de:\n",
    "Entender la sintaxis de lenguaje Python al leer fuentes de otros programadores.\n",
    "Crear(Escribir) Scripts en Python, para crear diferentes tipos de aplicaciones como tipo consola(terminal),TUI,GUI y la básicas de la Web."
   ]
  },
  {
   "cell_type": "markdown",
   "metadata": {
    "slideshow": {
     "slide_type": "fragment"
    }
   },
   "source": [
    "## Público Objetivo:\n",
    "\n",
    "> Todas las personas que deseen aprender un lenguaje de programación, múltiples propósitos y diferentes tipos de aplicaciones."
   ]
  },
  {
   "cell_type": "markdown",
   "metadata": {
    "slideshow": {
     "slide_type": "slide"
    }
   },
   "source": [
    "## Programa"
   ]
  },
  {
   "cell_type": "markdown",
   "metadata": {
    "slideshow": {
     "slide_type": "subslide"
    }
   },
   "source": [
    "|**Semana** | **Fecha**         |**Contenido** |**Actividad Evaluativa**|\n",
    "|:-----:|:-------------:|-----------|----------------------|\n",
    "|01     |01/21-01/26 |[Presentación del curso](https://github.com/carlosalvarezh/FundamentosProgramacion_U_EAFIT/blob/master/Sesion01_00_Presentacion.ipynb \"Presentación del Curso\"). Entorno e Instalación, Herramientas: IDE’s ([Jupyter](https://github.com/carlosalvarezh/FundamentosProgramacion_U_EAFIT/blob/master/Sesion01_01_BreveIntro_a_Jupyter.ipynb \"Breve introducción a Jupyter\"), repl.it). [Introducción](https://github.com/carlosalvarezh/FundamentosProgramacion_U_EAFIT/blob/master/Sesion01_02_introduccion.ipynb \"Introducción\")|      |\n",
    "|02|01/28-02/01|[Entrada y Salida Básica, Tipos y Variables, Lógica Boolean](https://github.com/carlosalvarezh/Programacion_Python/blob/master/Sesion02_IO_basico_Variables_LogicaBooleana.ipynb \"Sesion02_IO_Basico\") ||\n",
    "|03|02/04-02/08|[Estructuras de control de flujo](https://github.com/carlosalvarezh/Programacion_Python/blob/master/Sesion03_Estructuras_de_control_de_flujo.ipynb \"Sesion03: Estructuras de control de flujo\")||\n",
    "|04|02/11-02/15|[Funciones](https://github.com/carlosalvarezh/Programacion_Python/blob/master/Sesion04_Funciones.ipynb \"Sesion 04: Funciones\")|Taller 01 (10%)|\n",
    "|05|02/18-02/22|I/O-02a: Manipulación de archivos||\n",
    "|06|02/25-03/01|I/O-02b: CSV, Manejo de Excepciones||\n",
    "|07|03/04-03/08|Listas, Strings|Taller 02 (20%)|\n",
    "|08|03/11-03/15|Tuplas, Conjuntos (sets), Diccionarios||\n",
    "|09|03/18-03/22|Algoritmos 1: Búsqueda y Ordenamiento||\n",
    "|10|03/25-03/29|Algoritmos 2: Búsqueda y Ordenamiento|Lunes festivo|\n",
    "|11|04/01-04/05|Ecosistema Python: Bibliotecas Visualización (Matplotlib)|Taller 03 (20%)|\n",
    "|12|04/08-04/12|Ecosistema Python: Bibliotecas Visualización de Información (Pandas)||\n",
    "|--|04/15-04/19|Semana Santa||\n",
    "|13|04/22-04/26|Ecosistema Python: Bibliotecas científicas (Numpy)||\n",
    "|14|04/29-05/03|Programación Orientada a Objetos (POO): Clases, Objetos, Instancias, Herencia, Constructores (Init)||\n",
    "|15|05/06-05/10|Programación Orientada a Objetos (POO): Módulos, Bibliotecas|Taller 04 (20%)|\n",
    "|16|05/13-05/17|Cierre: Integración de temas vistos en el curso||\n",
    "|--|05/20 - 05/24|Semana de Colchón ||\n"
   ]
  },
  {
   "cell_type": "markdown",
   "metadata": {
    "slideshow": {
     "slide_type": "subslide"
    }
   },
   "source": [
    "## Evaluación\n",
    "\n",
    "- Un (1) taller del 10% - 10%\n",
    "- Tres (3) talleres del 20% c/u - 60%\n",
    "- Un (1) exámen final del 30% - 30% (fecha a determinarse por Admisiones en algún día de las dos semanas finales del semestre)"
   ]
  },
  {
   "cell_type": "markdown",
   "metadata": {
    "slideshow": {
     "slide_type": "slide"
    }
   },
   "source": [
    "# Por dónde empiezo? \n",
    "\n",
    "Lo primero es elegir una herramienta de trabajo sobre la cual realizar el código. A continuación me permito compartirles solo algunas herramientas de esas que he tenido la oportunidad de revisar y me parecen apropiadas para un curso de este nivel. No son las únicas, por el contrario, existen muchas otras más, quizás mejores, dependiendo del interés particular de desarrollo de cada quién. "
   ]
  },
  {
   "cell_type": "markdown",
   "metadata": {
    "slideshow": {
     "slide_type": "slide"
    }
   },
   "source": [
    "## Editores, IDE's\n",
    "**IDE** (*Integrated Development Environment*) o *Entorno de Desarrollo Integrado*, es una aplicación informática que permite la integración de varios servicios que permiten el desarrollo de un software o programa de computador. \n",
    "\n",
    "Normalmente consiste de:\n",
    "\n",
    "- Editor de Código fuente\n",
    "\n",
    "- Depurador"
   ]
  },
  {
   "cell_type": "markdown",
   "metadata": {
    "slideshow": {
     "slide_type": "subslide"
    }
   },
   "source": [
    "***[PSeInt](http://pseint.sourceforge.net/ \"PSeInt\")***"
   ]
  },
  {
   "cell_type": "code",
   "execution_count": null,
   "metadata": {
    "slideshow": {
     "slide_type": "fragment"
    }
   },
   "outputs": [],
   "source": [
    "HTML('<iframe src=\"http://pseint.sourceforge.net/\" width=\"1200\" height=\"800\"></iframe>')"
   ]
  },
  {
   "cell_type": "markdown",
   "metadata": {
    "slideshow": {
     "slide_type": "subslide"
    }
   },
   "source": [
    "***[Jupyter](http://jupyter.org/ \"Jupyter\")***"
   ]
  },
  {
   "cell_type": "code",
   "execution_count": null,
   "metadata": {
    "slideshow": {
     "slide_type": "fragment"
    }
   },
   "outputs": [],
   "source": [
    "HTML('<iframe src=\"http://jupyter.org\" width=\"1200\" height=\"800\"></iframe>')"
   ]
  },
  {
   "cell_type": "markdown",
   "metadata": {
    "slideshow": {
     "slide_type": "subslide"
    }
   },
   "source": [
    "***[Anaconda](https://www.anaconda.com/ \"Anaconda\")***"
   ]
  },
  {
   "cell_type": "code",
   "execution_count": null,
   "metadata": {
    "scrolled": true,
    "slideshow": {
     "slide_type": "fragment"
    }
   },
   "outputs": [],
   "source": [
    "HTML('<iframe src=\"https://www.anaconda.com/\" width=\"1200\" height=\"800\"></iframe>')"
   ]
  },
  {
   "cell_type": "markdown",
   "metadata": {
    "slideshow": {
     "slide_type": "subslide"
    }
   },
   "source": [
    "***[PyCharm](https://www.jetbrains.com/pycharm-edu/ \"PyCharm\")***"
   ]
  },
  {
   "cell_type": "code",
   "execution_count": null,
   "metadata": {
    "slideshow": {
     "slide_type": "fragment"
    }
   },
   "outputs": [],
   "source": [
    "HTML('<iframe src=\"https://www.jetbrains.com/pycharm-edu/\" width=\"800\" height=\"600\"></iframe>')"
   ]
  },
  {
   "cell_type": "markdown",
   "metadata": {
    "slideshow": {
     "slide_type": "subslide"
    }
   },
   "source": [
    "***[repl.it](https://www.repl.it \"repl.it\")***"
   ]
  },
  {
   "cell_type": "code",
   "execution_count": null,
   "metadata": {
    "slideshow": {
     "slide_type": "fragment"
    }
   },
   "outputs": [],
   "source": [
    "HTML('<iframe src=\"https://www.repl.it\" width=\"1200\" height=\"800\"></iframe>')"
   ]
  },
  {
   "cell_type": "markdown",
   "metadata": {
    "slideshow": {
     "slide_type": "subslide"
    }
   },
   "source": [
    "***[Notepad](http://notepad-plus-plus.org/ \"Notepad\")***"
   ]
  },
  {
   "cell_type": "code",
   "execution_count": null,
   "metadata": {
    "slideshow": {
     "slide_type": "fragment"
    }
   },
   "outputs": [],
   "source": [
    "HTML('<iframe src=\"http://notepad-plus-plus.org/\" width=\"1200\" height=\"800\"></iframe>')"
   ]
  },
  {
   "cell_type": "markdown",
   "metadata": {
    "slideshow": {
     "slide_type": "slide"
    }
   },
   "source": [
    "## De dónde obtengo información para aprender a programar?"
   ]
  },
  {
   "cell_type": "markdown",
   "metadata": {
    "slideshow": {
     "slide_type": "slide"
    }
   },
   "source": [
    "### Algoritmos\n",
    "\n",
    "Algunos libros introductorios en [Algoritmia](https://es.wikiversity.org/wiki/Algoritmia_y_programaci%C3%B3n_b%C3%A1sica/Aspectos_introductorios \"Algoritmia\")"
   ]
  },
  {
   "cell_type": "markdown",
   "metadata": {
    "slideshow": {
     "slide_type": "subslide"
    }
   },
   "source": [
    "***[Farrell, Joyce. Introducción a la programación Lógica y Diseño. 7a Ed. México: Cengage Learning, 2013.](http://latinoamerica.cengage.com/ls/introduccion-a-la-programacion-logica-y-diseno-7a-ed/ \"Farrell, Joyce. Introducción a la programación Lógica y Diseño\")***"
   ]
  },
  {
   "cell_type": "code",
   "execution_count": null,
   "metadata": {
    "slideshow": {
     "slide_type": "fragment"
    }
   },
   "outputs": [],
   "source": [
    "HTML('<iframe src=\"http://latinoamerica.cengage.com/ls/introduccion-a-la-programacion-logica-y-diseno-7a-ed/\" width=\"1200\" height=\"800\"></iframe>')"
   ]
  },
  {
   "cell_type": "markdown",
   "metadata": {
    "slideshow": {
     "slide_type": "subslide"
    }
   },
   "source": [
    "***[Pinales D., Francisco Javier. Velázquez A., César Edaurdo. Algoritmos Resueltos con Diagramas de Flujo y Pseudocódigo.](http://www.uaa.mx/direcciones/dgdv/editorial/docs/algoritmos.pdf \"Pinales D., Francisco Javier. Velázquez A., César Edaurdo. Algoritmos Resueltos con Diagramas de Flujo y Pseudocódigo\")***"
   ]
  },
  {
   "cell_type": "code",
   "execution_count": null,
   "metadata": {
    "slideshow": {
     "slide_type": "fragment"
    }
   },
   "outputs": [],
   "source": [
    "HTML('<iframe src=\"http://www.uaa.mx/direcciones/dgdv/editorial/docs/algoritmos.pdf\" width=\"1200\" height=\"800\"></iframe>')"
   ]
  },
  {
   "cell_type": "markdown",
   "metadata": {
    "slideshow": {
     "slide_type": "slide"
    }
   },
   "source": [
    "### Python como lenguaje de programación (uno entre muchos)"
   ]
  },
  {
   "cell_type": "markdown",
   "metadata": {
    "slideshow": {
     "slide_type": "subslide"
    }
   },
   "source": [
    "***[Python.org](https://www.python.org/ \"Python.org\"):*** Página oficial del lenguaje de programación Python (inglés)"
   ]
  },
  {
   "cell_type": "code",
   "execution_count": null,
   "metadata": {
    "slideshow": {
     "slide_type": "fragment"
    }
   },
   "outputs": [],
   "source": [
    "HTML('<iframe src=\"https://www.python.org/\" width=\"1200\" height=\"800\"></iframe>')"
   ]
  },
  {
   "cell_type": "markdown",
   "metadata": {
    "slideshow": {
     "slide_type": "subslide"
    }
   },
   "source": [
    "***[Downey, Allen B. Think Python. 2a Ed. Green Tea Press.](http://greenteapress.com/wp/think-python-2e/ \"Downey, Allen B. Think Python\"):*** Libro en PDF de libre descarga (inglés).  "
   ]
  },
  {
   "cell_type": "code",
   "execution_count": null,
   "metadata": {
    "slideshow": {
     "slide_type": "fragment"
    }
   },
   "outputs": [],
   "source": [
    "HTML('<iframe src=\"http://greenteapress.com/wp/think-python-2e/\" width=\"1200\" height=\"800\"></iframe>')"
   ]
  },
  {
   "cell_type": "markdown",
   "metadata": {
    "slideshow": {
     "slide_type": "subslide"
    }
   },
   "source": [
    "***[Gonzalez Duque, Raul. Python para todos.](http://mundogeek.net/tutorial-python/ \"Gonzalez Duque, Raul. Python para todos.\"):*** No tan bueno (por no decir otra cosa) pero en áras de la libertad de información..."
   ]
  },
  {
   "cell_type": "code",
   "execution_count": null,
   "metadata": {
    "slideshow": {
     "slide_type": "fragment"
    }
   },
   "outputs": [],
   "source": [
    "HTML('<iframe src=\"http://mundogeek.net/tutorial-python/\" width=\"1200\" height=\"800\"></iframe>')"
   ]
  },
  {
   "cell_type": "markdown",
   "metadata": {
    "slideshow": {
     "slide_type": "slide"
    }
   },
   "source": [
    "### Cursos on-line:\n",
    "\n",
    "Algunas páginas que ofrecen cursos on-line en diferentes áreas de las *TICs* (inglés/español). Algunos son libres (\"grátis\") pero si necesita certificado debes pagar."
   ]
  },
  {
   "cell_type": "markdown",
   "metadata": {
    "slideshow": {
     "slide_type": "subslide"
    }
   },
   "source": [
    "***[Python Course](https://www.python-course.eu/index.php):*** Excelente página para aprender `Python`a nivel básico, intermedio y/o avanzado (inglés)"
   ]
  },
  {
   "cell_type": "code",
   "execution_count": null,
   "metadata": {
    "slideshow": {
     "slide_type": "fragment"
    }
   },
   "outputs": [],
   "source": [
    "HTML('<iframe src=\"https://www.python-course.eu/index.php\" width=\"1200\" height=\"800\"></iframe>')"
   ]
  },
  {
   "cell_type": "markdown",
   "metadata": {
    "slideshow": {
     "slide_type": "subslide"
    }
   },
   "source": [
    "***[Coursera](https://www.coursera.org/ \"Coursera\"):***"
   ]
  },
  {
   "cell_type": "code",
   "execution_count": null,
   "metadata": {
    "slideshow": {
     "slide_type": "fragment"
    }
   },
   "outputs": [],
   "source": [
    "HTML('<iframe src=\"https://www.coursera.org/\" width=\"1200\" height=\"800\"></iframe>')"
   ]
  },
  {
   "cell_type": "markdown",
   "metadata": {
    "slideshow": {
     "slide_type": "subslide"
    }
   },
   "source": [
    "***[Udemy](https://www.udemy.com/ \"Udemy\")***"
   ]
  },
  {
   "cell_type": "code",
   "execution_count": null,
   "metadata": {
    "slideshow": {
     "slide_type": "fragment"
    }
   },
   "outputs": [],
   "source": [
    "HTML('<iframe src=\"https://www.udemy.com/\" width=\"1200\" height=\"800\"></iframe>')"
   ]
  },
  {
   "cell_type": "markdown",
   "metadata": {
    "slideshow": {
     "slide_type": "subslide"
    }
   },
   "source": [
    "***[DataCamp](https://www.datacamp.com/ \"DataCamp\")***"
   ]
  },
  {
   "cell_type": "code",
   "execution_count": null,
   "metadata": {
    "slideshow": {
     "slide_type": "fragment"
    }
   },
   "outputs": [],
   "source": [
    "HTML('<iframe src=\"https://www.datacamp.com/\" width=\"1200\" height=\"800\"></iframe>')"
   ]
  },
  {
   "cell_type": "markdown",
   "metadata": {
    "slideshow": {
     "slide_type": "subslide"
    }
   },
   "source": [
    "***[SocraticaStudios](https://www.youtube.com/user/SocraticaStudios \"Socratica\")*** Canal de [Youtube](https://www.youtube.com/ \"Youtube\") con algunos recursos en español."
   ]
  },
  {
   "cell_type": "code",
   "execution_count": null,
   "metadata": {
    "slideshow": {
     "slide_type": "fragment"
    }
   },
   "outputs": [],
   "source": [
    "HTML('<iframe src=\"https://www.youtube.com/user/SocraticaStudios\" width=\"1200\" height=\"800\"></iframe>')"
   ]
  },
  {
   "cell_type": "markdown",
   "metadata": {
    "slideshow": {
     "slide_type": "slide"
    }
   },
   "source": [
    "### Apps para Smartphones y Tablets"
   ]
  },
  {
   "cell_type": "markdown",
   "metadata": {
    "slideshow": {
     "slide_type": "subslide"
    }
   },
   "source": [
    "***[Sololearn](https://www.sololearn.com/Course/Python/)***"
   ]
  },
  {
   "cell_type": "code",
   "execution_count": null,
   "metadata": {
    "slideshow": {
     "slide_type": "fragment"
    }
   },
   "outputs": [],
   "source": [
    "HTML('<iframe src=\"https://www.sololearn.com/Course/Python/\" width=\"1200\" height=\"800\"></iframe>')"
   ]
  },
  {
   "cell_type": "markdown",
   "metadata": {
    "slideshow": {
     "slide_type": "slide"
    }
   },
   "source": [
    "### Repositorios"
   ]
  },
  {
   "cell_type": "markdown",
   "metadata": {
    "slideshow": {
     "slide_type": "fragment"
    }
   },
   "source": [
    "En los repositorios de software encontrarán abundante información de códigos ya creados que les permitirán avanzar en el conocimiento de los diferentes esquemas de programación, así como ver cómo es que otros programan y tienen (posiblemente) buenas prácticas de programación que te servirán para tener unos códigos muy eficientes y límpios."
   ]
  },
  {
   "cell_type": "markdown",
   "metadata": {
    "slideshow": {
     "slide_type": "subslide"
    }
   },
   "source": [
    "***[Github](https://github.com/ \"Github\")***"
   ]
  },
  {
   "cell_type": "code",
   "execution_count": null,
   "metadata": {
    "slideshow": {
     "slide_type": "fragment"
    }
   },
   "outputs": [],
   "source": [
    "HTML('<iframe src=\"https://github.com/\" width=\"1200\" height=\"800\"></iframe>')"
   ]
  },
  {
   "cell_type": "code",
   "execution_count": null,
   "metadata": {
    "slideshow": {
     "slide_type": "slide"
    }
   },
   "outputs": [],
   "source": [
    "from IPython.core.display import HTML\n",
    "def css_styling():\n",
    "    styles = open(\"custom.css\", \"r\").read()\n",
    "    return HTML(styles)\n",
    "css_styling()"
   ]
  }
 ],
 "metadata": {
  "celltoolbar": "Slideshow",
  "kernelspec": {
   "display_name": "Python 3",
   "language": "python",
   "name": "python3"
  },
  "language_info": {
   "codemirror_mode": {
    "name": "ipython",
    "version": 3
   },
   "file_extension": ".py",
   "mimetype": "text/x-python",
   "name": "python",
   "nbconvert_exporter": "python",
   "pygments_lexer": "ipython3",
   "version": "3.7.1"
  },
  "latex_envs": {
   "LaTeX_envs_menu_present": true,
   "autocomplete": true,
   "bibliofile": "biblio.bib",
   "cite_by": "apalike",
   "current_citInitial": 1,
   "eqLabelWithNumbers": true,
   "eqNumInitial": 1,
   "hotkeys": {
    "equation": "Ctrl-E",
    "itemize": "Ctrl-I"
   },
   "labels_anchors": false,
   "latex_user_defs": false,
   "report_style_numbering": true,
   "user_envs_cfg": true
  }
 },
 "nbformat": 4,
 "nbformat_minor": 2
}
