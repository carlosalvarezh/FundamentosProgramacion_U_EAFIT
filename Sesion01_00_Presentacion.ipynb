{
 "cells": [
  {
   "cell_type": "markdown",
   "metadata": {
    "slideshow": {
     "slide_type": "slide"
    }
   },
   "source": [
    "<h1 align=\"center\">PROGRAMACIÓN DE COMPUTADORES</h1>\n",
    "\n",
    "<h2 align=\"center\">UNIVERSIDAD EAFIT</h2>\n",
    "\n",
    "<h3 align=\"center\">MEDELLÍN - COLOMBIA </h3>"
   ]
  },
  {
   "cell_type": "markdown",
   "metadata": {
    "slideshow": {
     "slide_type": "fragment"
    }
   },
   "source": [
    "<h2 align=\"center\">Sesión 01_00 - Presentación del Curso</h2>    "
   ]
  },
  {
   "cell_type": "markdown",
   "metadata": {
    "slideshow": {
     "slide_type": "subslide"
    }
   },
   "source": [
    "### Lenguaje: Python 3.8.1\n",
    "\n",
    "### Desarrollado en: Notebook Jupyter\n",
    "\n",
    "### Versión: 1.1\n",
    "\n",
    "### Fecha: Enero de 2020\n",
    "\n",
    "### Autor: Docentes del área\n",
    "\n",
    "#### Medellín, enero de 2020"
   ]
  },
  {
   "cell_type": "markdown",
   "metadata": {
    "slideshow": {
     "slide_type": "slide"
    }
   },
   "source": [
    "### TODOS DEBERÍAMOS SABER PROGRAMAR... TODOS!"
   ]
  },
  {
   "cell_type": "code",
   "execution_count": 1,
   "metadata": {
    "slideshow": {
     "slide_type": "subslide"
    }
   },
   "outputs": [
    {
     "data": {
      "image/jpeg": "[encoded data removed]",
      "text/html": [
       "\n",
       "        <iframe\n",
       "            width=\"640\"\n",
       "            height=\"480\"\n",
       "            src=\"https://www.youtube.com/embed/Y1HHBXDL9bg\"\n",
       "            frameborder=\"0\"\n",
       "            allowfullscreen\n",
       "        ></iframe>\n",
       "        "
      ],
      "text/plain": [
       "<IPython.lib.display.YouTubeVideo at 0x1e8238b0208>"
      ]
     },
     "execution_count": 1,
     "metadata": {},
     "output_type": "execute_result"
    }
   ],
   "source": [
    "from IPython.display import YouTubeVideo, HTML, IFrame\n",
    "YouTubeVideo('Y1HHBXDL9bg', width=640, height=480)"
   ]
  },
  {
   "cell_type": "markdown",
   "metadata": {},
   "source": [
    "## Video recomendado\n",
    "\n",
    "[En pocas palabras - La programación](https://www.netflix.com/co/title/80216752 \"En pocas palabras - La Programación\"), serie de Netflix/2019."
   ]
  },
  {
   "cell_type": "markdown",
   "metadata": {
    "slideshow": {
     "slide_type": "slide"
    }
   },
   "source": [
    "## Coordinador del Curso\n",
    "\n",
    "### [Juan Francisco Cardona Mc'Cormick](http://www.eafit.edu.co/docentes-investigadores/Paginas/juan-cardona.aspx)\n",
    "\n",
    "<img src=\"http://www.eafit.edu.co/docentes-investigadores/PublishingImages/juan-francisco-cardona.jpg\" alt=\"Juan Francisco Cardona Mc'Cormick\" />\n",
    "\n",
    "\n",
    "## Docentes\n",
    "\n",
    "\n",
    "> **César Augusto Ruiz Jaramillo**\n",
    "> - **Magister en Ingeniería U. EAFIT**\n",
    "> - **Correo: cruizjar@eafit.edu.co**\n",
    "\n",
    "<img src=\"https://dl.dropbox.com/s/xl6yt4ca6gi10ix/CesarAugustoRuizJaramillo.jpg\" alt=\"description here\" />\n",
    "\n",
    "\n",
    "> **Myriam Castro Cárdenas**\n",
    "> - **Ingeniera de Sistemas**\n",
    "> - **Magister en Administración  U. EAFIT**\n",
    "> - **Oficina: Bloque 19 - 6 piso - 622**\n",
    "> - **Correo: mcastro@eafit.edu.co**\n",
    "\n",
    "\n",
    "<img src=\"https://dl.dropbox.com/s/9din1v6spp0ojwe/MyriamCastroCardenas.jpg\" alt=\"Carlos Alberto Alvarez Henao\" />\n",
    "\n",
    "> **Carlos Alberto Álvarez Henao**\n",
    "> - **Ingeniero Civil**\n",
    "> - **DSc. Mecánica Computacional - UFRJ/Brasil**\n",
    "> - **Correo: calvar52@eafit.edu.co**\n",
    "\n",
    "<img src=\"https://dl.dropbox.com/s/9ce0ineaewhuu9l/CarlosAlbertoAlvarezHenao.jpg\" alt=\"description here\" />"
   ]
  },
  {
   "cell_type": "markdown",
   "metadata": {
    "slideshow": {
     "slide_type": "slide"
    }
   },
   "source": [
    "## Lenguajes de Programación\n",
    "\n",
    "![Imagen](https://github.com/carlosalvarezh/FundamentosProgramacion_U_EAFIT/blob/master/images/LenguajesProgramacion.jpg?raw=true \"\")"
   ]
  },
  {
   "cell_type": "markdown",
   "metadata": {
    "slideshow": {
     "slide_type": "slide"
    }
   },
   "source": [
    "## Por qué usar Python?"
   ]
  },
  {
   "cell_type": "markdown",
   "metadata": {
    "slideshow": {
     "slide_type": "fragment"
    }
   },
   "source": [
    "# Justificación\n",
    "\n",
    "> Python es un lenguaje de programación multiplataforma, algunas de sus ventajas son: ayuda a mejorar la productividad ya que permite trabajar mucho más rápido que cualquier otro lenguaje, es versátil y soporta programación orientada a objetos, cuenta con una gran extensión de bibliotecas para un mejor uso, es un lenguaje de programación sostenible lo cual permite leer y modificar de una manera fácil los programas."
   ]
  },
  {
   "cell_type": "markdown",
   "metadata": {
    "slideshow": {
     "slide_type": "subslide"
    }
   },
   "source": [
    "## Con Python se pueden hacer:\n",
    "\n",
    "- Aplicaciones Web.\n",
    "\n",
    "- Análisis de Datos.\n",
    "\n",
    "- Aprendizajes de Maquina.\n",
    "\n",
    "- Visión Artificial.\n",
    "\n",
    "- Robótica, programar \"pequeñas\" computadoras(Raspberry Pi).\n",
    "\n",
    "- Juegos.\n",
    "\n",
    "- Web Scraping.\n",
    "\n",
    "- Automatizar(Scripts)"
   ]
  },
  {
   "cell_type": "markdown",
   "metadata": {
    "slideshow": {
     "slide_type": "subslide"
    }
   },
   "source": [
    "## Algunas Empresas que usan Python:\n",
    "\n",
    "![Imagen](https://github.com/carlosalvarezh/FundamentosProgramacion_U_EAFIT/blob/master/images/PythonUsage.png?raw=true \"\")\n"
   ]
  },
  {
   "cell_type": "markdown",
   "metadata": {
    "slideshow": {
     "slide_type": "subslide"
    }
   },
   "source": [
    "## Lenguajes de Programación más usados a nivel mundial:"
   ]
  },
  {
   "cell_type": "code",
   "execution_count": 2,
   "metadata": {
    "scrolled": true,
    "slideshow": {
     "slide_type": "fragment"
    }
   },
   "outputs": [
    {
     "data": {
      "text/html": [
       "\n",
       "        <iframe\n",
       "            width=\"100%\"\n",
       "            height=\"600px\"\n",
       "            src=\"https://www.tiobe.com/tiobe-index/\"\n",
       "            frameborder=\"0\"\n",
       "            allowfullscreen\n",
       "        ></iframe>\n",
       "        "
      ],
      "text/plain": [
       "<IPython.lib.display.IFrame at 0x1e8238b0b38>"
      ]
     },
     "metadata": {},
     "output_type": "display_data"
    }
   ],
   "source": [
    "display(IFrame('https://www.tiobe.com/tiobe-index/', '100%', '600px'))"
   ]
  },
  {
   "cell_type": "markdown",
   "metadata": {},
   "source": [
    "En el siguiente video se podrá ver como ha sido la evolución de los lenguajes de programación más populares en la historia"
   ]
  },
  {
   "cell_type": "code",
   "execution_count": 3,
   "metadata": {},
   "outputs": [
    {
     "data": {
      "image/jpeg": "[encoded data removed]",
      "text/html": [
       "\n",
       "        <iframe\n",
       "            width=\"640\"\n",
       "            height=\"480\"\n",
       "            src=\"https://www.youtube.com/embed/Og847HVwRSI\"\n",
       "            frameborder=\"0\"\n",
       "            allowfullscreen\n",
       "        ></iframe>\n",
       "        "
      ],
      "text/plain": [
       "<IPython.lib.display.YouTubeVideo at 0x1e8238b0128>"
      ]
     },
     "execution_count": 3,
     "metadata": {},
     "output_type": "execute_result"
    }
   ],
   "source": [
    "YouTubeVideo('Og847HVwRSI', width=640, height=480)"
   ]
  },
  {
   "cell_type": "markdown",
   "metadata": {
    "slideshow": {
     "slide_type": "subslide"
    }
   },
   "source": [
    "## Objetivo General:\n",
    "\n",
    "- Manejar conceptos básicos de programación Python orientando al estudiante en el conocimiento de la sintaxis y creación de programas."
   ]
  },
  {
   "cell_type": "markdown",
   "metadata": {
    "slideshow": {
     "slide_type": "fragment"
    }
   },
   "source": [
    "## Competencias:\n",
    "\n",
    "> Tras participar del proceso cognoscitivo y práctico, se espera que el alumno este en capacidad de:\n",
    "Entender la sintaxis de lenguaje `Python` al leer fuentes de otros programadores.\n",
    "Crear(Escribir) Scripts en `Python`, para crear diferentes tipos de aplicaciones como tipo consola(terminal),`TUI`, `GUI` y páginas Web básicas."
   ]
  },
  {
   "cell_type": "markdown",
   "metadata": {
    "slideshow": {
     "slide_type": "fragment"
    }
   },
   "source": [
    "## Público Objetivo:\n",
    "\n",
    "> Todas las personas que deseen aprender un lenguaje de programación, múltiples propósitos y diferentes tipos de aplicaciones."
   ]
  },
  {
   "cell_type": "markdown",
   "metadata": {
    "slideshow": {
     "slide_type": "slide"
    }
   },
   "source": [
    "## Programa"
   ]
  },
  {
   "cell_type": "markdown",
   "metadata": {
    "slideshow": {
     "slide_type": "subslide"
    }
   },
   "source": [
    "|**Semana** | **Fecha**         |**Contenido** |**Actividad Evaluativa**|\n",
    "|:-----:|:-------------:|-----------|----------------------|\n",
    "|01     |23-24/01/2020|[Presentación del curso](https://github.com/carlosalvarezh/FundamentosProgramacion_U_EAFIT/blob/master/Sesion01_00_Presentacion.ipynb \"Presentación del Curso\"). Entorno e Instalación, Herramientas: IDE’s ([Jupyter](https://github.com/carlosalvarezh/FundamentosProgramacion_U_EAFIT/blob/master/Sesion01_01_BreveIntro_a_Jupyter.ipynb \"Breve introducción a Jupyter\"), repl.it). [Introducción](https://github.com/carlosalvarezh/FundamentosProgramacion_U_EAFIT/blob/master/Sesion01_02_introduccion.ipynb \"Introducción\")| |\n",
    "|02|30-31/01/2020|[Entrada y Salida Básica, Tipos y Variables, Lógica Boolean](https://github.com/carlosalvarezh/Programacion_Python/blob/master/Sesion02_IO_basico_Variables_LogicaBooleana.ipynb \"Sesion02_IO_Basico\") ||\n",
    "|03|06-07/02/2020|[Estructuras de control de flujo](https://github.com/carlosalvarezh/Programacion_Python/blob/master/Sesion03_Estructuras_de_control_de_flujo.ipynb \"Sesion03: Estructuras de control de flujo\")||\n",
    "|04|13-14/02/2020|[Funciones](https://github.com/carlosalvarezh/Programacion_Python/blob/master/Sesion04_Funciones.ipynb \"Sesion 04: Funciones\")|Taller 01 (10%)|\n",
    "|05|20-21/02/2020|I/O-02a: Manipulación de archivos||\n",
    "|06|27-28/02/2020|I/O-02b: CSV, Manejo de Excepciones||\n",
    "|07|05-06/03/2020|Listas, Strings|Taller 02 (20%)|\n",
    "|08|12-13/03/2020|Tuplas, Conjuntos (sets), Diccionarios |Asamblea Estudiantíl|\n",
    "|09|19-20/03/2020|Algoritmos 1: Búsqueda y Ordenamiento||\n",
    "|10|26-27/03/2020|Algoritmos 2: Búsqueda y Ordenamiento||\n",
    "|11|02-03/04/2020|Ecosistema Python: Bibliotecas Visualización (Matplotlib)|Taller 03 (20%)|\n",
    "|12|16-17/04/2020|Ecosistema Python: Bibliotecas Visualización de Información (Pandas)||\n",
    "|13|23-24/04/2020|Ecosistema Python: Bibliotecas científicas (Numpy)||\n",
    "|14|30/04-01/05/2020|Programación Orientada a Objetos (POO): Clases, Objetos, Instancias, Herencia, Constructores (Init)|Taller 04 (20%)|\n",
    "|15|07-08/05/2020|Programación Orientada a Objetos (POO): Módulos, Bibliotecas||\n",
    "|16|14-15/05/2020|Cierre: Integración de temas vistos en el curso||\n",
    "|17|21-22/05/2020|Semana de Colchón ||\n",
    "|18|28-29/05/2020|Semana finales 1 ||\n",
    "|19|04-05/06/2020|Semana finales 2 |Final (30%) - Define Admisiones|\n"
   ]
  },
  {
   "cell_type": "markdown",
   "metadata": {
    "slideshow": {
     "slide_type": "subslide"
    }
   },
   "source": [
    "## Evaluación\n",
    "\n",
    "- Un (1) taller del 10% - 10%\n",
    "- Tres (3) talleres del 20% c/u - 60%\n",
    "- Un (1) exámen final del 30% - 30% (fecha a determinarse por Admisiones en algún día de las dos semanas finales del semestre)"
   ]
  },
  {
   "cell_type": "markdown",
   "metadata": {
    "slideshow": {
     "slide_type": "slide"
    }
   },
   "source": [
    "# Por dónde empiezo? \n",
    "\n",
    "Lo primero es elegir una herramienta de trabajo sobre la cual realizar el código. A continuación me permito compartirles solo algunas herramientas de esas que he tenido la oportunidad de revisar y me parecen apropiadas para un curso de este nivel. No son las únicas, por el contrario, existen muchas otras más, quizás mejores, dependiendo del interés particular de desarrollo de cada quién. "
   ]
  },
  {
   "cell_type": "markdown",
   "metadata": {
    "slideshow": {
     "slide_type": "slide"
    }
   },
   "source": [
    "## Editores, IDE's, Notebooks\n",
    "\n",
    "**IDE** (*Integrated Development Environment*) o *Entorno de Desarrollo Integrado*, es una aplicación informática que permite la integración de varios servicios que permiten el desarrollo de un software o programa de computador. \n",
    "\n",
    "Normalmente consiste de:\n",
    "\n",
    "- Editor de Código fuente\n",
    "\n",
    "- Depurador\n",
    "\n",
    "Algunos Aplicativos usados para programar, enfoncándonos luego en `Python`, son:\n",
    "\n",
    "- **[PSeInt](http://pseint.sourceforge.net/ \"PSeInt\"):** \"*PSeInt es una herramienta para asistir a un estudiante en sus primeros pasos en programación. Mediante un simple e intuitivo pseudolenguaje en español (complementado con un editor de diagramas de flujo), le permite centrar su atención en los conceptos fundamentales de la algoritmia computacional, minimizando las dificultades propias de un lenguaje y proporcionando un entorno de trabajo con numerosas ayudas y recursos didácticos*\".\n",
    "\n",
    "\n",
    "- **[Anaconda](https://www.anaconda.com/ \"Anaconda\")**: suite de trabajo para desarrollo de programas en [Python](https://www.python.org/ \"Python.org\") o [R](https://www.r-project.org/ \"R\") para proyectos de computación científica, que incluye el Notebook [Jupyter](http://jupyter.org/ \"Jupyter\"), plataforma en la que están hechas estas notas del curso, y el IDE [Spyder](https://www.spyder-ide.org/ \"Spyder\"), entre otras herramientas.\n",
    "\n",
    "\n",
    "- **[PyCharm](https://www.jetbrains.com/pycharm-edu/ \"PyCharm\"):** es un entorno de desarrollo integrado (*IDE*) utilizado en la programación de computadoras, específicamente para el lenguaje `Python`. Es desarrollado por la compañía checa [JetBrains](https://www.jetbrains.com/ \"JetBrains\"). Proporciona análisis de código, un depurador gráfico, un probador de unidad integrado, integración con sistemas de control de versiones (*VCS*) y admite el desarrollo web con *Django*, así como Data Science con *Anaconda*.\n",
    "\n",
    "\n",
    "- **[repl.it](https://www.repl.it \"repl.it\"):** es una start-up basada en San Francisco y un *IDE* en línea. Su nombre proviene de \"[read – eval – print loop](https://en.wikipedia.org/wiki/Read%E2%80%93eval%E2%80%93print_loop \"repl\")\". Es compatible [*+50* lenguajes de programación](https://repl.it/languages \"repl.it languages\"): *JavaScript*, *Python*, *PHP*, *C/C++*, *Fortran* o incluso *QBasic*, entre muchos otros, así como de frameworks populares como Django, Ruby on Rails y Sinatra. Y si quieres lastimarte y escribir en Brainfuck, también puedes hacerlo.\n",
    "\n",
    "\n",
    "- **[Notepad++](http://notepad-plus-plus.org/ \"Notepad\"):** es un editor de código fuente (ojo, no ejecuta!!! solo edita!!!). Presenta resaltado de sintaxis, plegado de código y autocompletado limitado para lenguajes de programación, scripting y marcado, pero no terminación de código inteligente o verificación de sintaxis. Como tal, puede resaltar correctamente el código escrito en un esquema compatible, pero no se puede verificar si la sintaxis es internamente sólida o compilable. A partir de la versión 7.6.3, *Notepad++* puede resaltar los elementos sintácticos de *+70 lenguajes de programación*. Solo se cuenta para trabajar en el SO *Windows*.\n",
    "\n",
    "\n",
    "- **[Google Colab](https://colab.research.google.com/ \"Google Colaboratory\"):** *Colaboratory* (también conocido como *Colab*) es un entorno de *notebook Jupyter* gratuito que se ejecuta en la nube y almacena sus notebooks en *Google Drive*. *Colab* fue originalmente un proyecto interno de *Google* y a partir de octubre de 2019 *Colab* solo le permite crear notebooks con núcleos `Python 2` y `Python 3`; sin embargo, si tiene una computadora portátil con kernels `ir` o `swift`, funcionará, ya que tanto `R` como `Swift` están instalados en el contenedor. Otros núcleos como `Julia` aún no son compatibles."
   ]
  },
  {
   "cell_type": "markdown",
   "metadata": {
    "slideshow": {
     "slide_type": "slide"
    }
   },
   "source": [
    "## De dónde obtengo información para aprender a programar?"
   ]
  },
  {
   "cell_type": "markdown",
   "metadata": {
    "slideshow": {
     "slide_type": "slide"
    }
   },
   "source": [
    "### Algoritmos\n",
    "\n",
    "Algunos libros introductorios en [Algoritmia](https://es.wikiversity.org/wiki/Algoritmia_y_programaci%C3%B3n_b%C3%A1sica/Aspectos_introductorios \"Algoritmia\"), que no emplean ningún lenguaje en particular \n",
    "\n",
    "- [Farrell, Joyce](http://latinoamerica.cengage.com/ls/introduccion-a-la-programacion-logica-y-diseno-7a-ed/ \"Farrell, Joyce. Introducción a la programación Lógica y Diseño\"). Introducción a la programación Lógica y Diseño (en físico, $$).\n",
    "\n",
    "\n",
    "- [Pinales y Velázquez](http://www.uaa.mx/direcciones/dgdv/editorial/docs/algoritmos.pdf \"Pinales y Velázquez. Algoritmos Resueltos con Diagramas de Flujo y Pseudocódigo\"). Algoritmos Resueltos con Diagramas de Flujo y Pseudocódigo (en pdf, libre descarga)."
   ]
  },
  {
   "cell_type": "markdown",
   "metadata": {
    "slideshow": {
     "slide_type": "slide"
    }
   },
   "source": [
    "### Python como lenguaje de programación (uno entre muchos)\n",
    "\n",
    "- [Python.org](https://www.python.org/ \"Python.org\"): Página oficial del lenguaje de programación Python (inglés)\n",
    "\n",
    "\n",
    "- [Downey, Allen B. Think Python. 2a Ed. Green Tea Press.](http://greenteapress.com/wp/think-python-2e/ \"Downey, Allen B. Think Python\"): Libro en PDF de libre descarga (inglés).  "
   ]
  },
  {
   "cell_type": "markdown",
   "metadata": {
    "slideshow": {
     "slide_type": "fragment"
    }
   },
   "source": [
    "### MooCs\n",
    "\n",
    "**MooC** es la abreviatura de **Curso masivo abierto en línea** (*Massive open online Course*, en inglés) . En términos simples, es un curso de estudio puesto a disposición por Internet para una gran cantidad de personas. Algunas de las compañías de cursos en línea más comunes que compiten por este nuevo negocio educativo son: [Udemy](https://www.udemy.com/ \"Udemy\"), [Edx](https://www.edx.org/ \"Edx\"), [Coursera](https://www.coursera.org/ \"Coursera\"), [DataCamp](https://www.datacamp.com/ \"DataCamp\"), entre muchos otros.\n",
    "\n",
    "Los *MooC* generalmente tienen fechas específicas de inicio y finalización. Los interesados miran conferencias de video en línea, completan las tareas y reciben la calificación de inmediato la mayor parte del tiempo. Con el auge de la globalización y la tecnología, la accesibilidad a la educación superior ha aumentado dramáticamente.\n",
    "\n",
    "Los MooC son generalmente gratuitos, y los cursos ofrecidos en línea a menudo provienen de algunas de las universidades más prestigiosas como *Harvard*, *MIT* y *Stanford*. Cada año, los *MooC* se vuelven más populares. Hay más cursos disponibles y la calidad de la educación en línea aumenta. Los MooC se caracterizan por su masividad, apertura y conectividad. Utilizan estrategias similares a las redes sociales, conectando a las masas con los beneficios del aprendizaje.\n",
    "\n",
    "Pero... cuál de todos escoger? en [este enlace](https://coolcollegehelpers.com/udemy-vs-edx-coursera-udacity/ \"Udemy vs Edx vs Coursera vs Udacity\") pueden encontrar una excelente descripción de cada uno de ellos y encontrar cuál se adapta más a sus necesidades de capacitación, o en [este](https://medium.com/@adiyagil/udemy-vs-coursera-vs-lynda-the-ultimate-comparison-70586665dca5 \"Ultimate comparison\") también, y [aquí](https://www.thecrowder.com/online-courses-sites?utm_source=me&utm_medium=organic&utm_campaign=education&utm_content=Udemy-VS-Coursera-VS-Lynda&ref=me-organic-education-Udemy-VS-Coursera-VS-Lynda \"Online Courses Sites\") encontrará un cuadro comparativo y acceso directo a algunas de esas plataformas. "
   ]
  },
  {
   "cell_type": "markdown",
   "metadata": {
    "slideshow": {
     "slide_type": "slide"
    }
   },
   "source": [
    "### Tutoriales on-line:\n",
    "\n",
    "Algunas páginas que ofrecen cursos on-line en diferentes áreas de las *TICs* (inglés/español). Algunos son libres (\"grátis\") pero si necesita certificado debes pagar.\n",
    "\n",
    "- **[Python Course](https://www.python-course.eu/index.php):** Excelente página para aprender `Python`a nivel básico, intermedio y/o avanzado (inglés)\n",
    "\n",
    "\n",
    "- **[SocraticaStudios](https://www.youtube.com/user/SocraticaStudios \"Socratica\")** Canal de [Youtube](https://www.youtube.com/ \"Youtube\") con algunos recursos en español."
   ]
  },
  {
   "cell_type": "markdown",
   "metadata": {
    "slideshow": {
     "slide_type": "slide"
    }
   },
   "source": [
    "### Apps para Smartphones y Tablets\n",
    "\n",
    "\n",
    "- **[Sololearn](https://www.sololearn.com/Course/Python/)**"
   ]
  },
  {
   "cell_type": "markdown",
   "metadata": {
    "slideshow": {
     "slide_type": "slide"
    }
   },
   "source": [
    "### Repositorios\n",
    "\n",
    "En los repositorios de software encontrarán abundante información de códigos ya creados que les permitirán avanzar en el conocimiento de los diferentes esquemas de programación, así como ver cómo es que otros programan y tienen (posiblemente) buenas prácticas de programación que te servirán para tener unos códigos muy eficientes y límpios.\n",
    "\n",
    "- **[Github](https://github.com/ \"Github\")**"
   ]
  },
  {
   "cell_type": "markdown",
   "metadata": {
    "slideshow": {
     "slide_type": "fragment"
    }
   },
   "source": [
    "En los repositorios de software encontrarán abundante información de códigos ya creados que les permitirán avanzar en el conocimiento de los diferentes esquemas de programación, así como ver cómo es que otros programan y tienen (posiblemente) buenas prácticas de programación que te servirán para tener unos códigos muy eficientes y límpios."
   ]
  },
  {
   "cell_type": "code",
   "execution_count": null,
   "metadata": {
    "slideshow": {
     "slide_type": "slide"
    }
   },
   "outputs": [],
   "source": [
    "from IPython.core.display import HTML\n",
    "def css_styling():\n",
    "    styles = open(\"custom.css\", \"r\").read()\n",
    "    return HTML(styles)\n",
    "css_styling()"
   ]
  }
 ],
 "metadata": {
  "celltoolbar": "Slideshow",
  "kernelspec": {
   "display_name": "Python 3",
   "language": "python",
   "name": "python3"
  },
  "language_info": {
   "codemirror_mode": {
    "name": "ipython",
    "version": 3
   },
   "file_extension": ".py",
   "mimetype": "text/x-python",
   "name": "python",
   "nbconvert_exporter": "python",
   "pygments_lexer": "ipython3",
   "version": "3.6.8"
  },
  "latex_envs": {
   "LaTeX_envs_menu_present": true,
   "autocomplete": true,
   "bibliofile": "biblio.bib",
   "cite_by": "apalike",
   "current_citInitial": 1,
   "eqLabelWithNumbers": true,
   "eqNumInitial": 1,
   "hotkeys": {
    "equation": "Ctrl-E",
    "itemize": "Ctrl-I"
   },
   "labels_anchors": false,
   "latex_user_defs": false,
   "report_style_numbering": true,
   "user_envs_cfg": true
  }
 },
 "nbformat": 4,
 "nbformat_minor": 2
}
